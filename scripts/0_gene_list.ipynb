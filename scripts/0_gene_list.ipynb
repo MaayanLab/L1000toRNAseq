{
 "metadata": {
  "orig_nbformat": 2,
  "kernelspec": {
   "name": "python37",
   "display_name": "python37",
   "language": "python"
  }
 },
 "nbformat": 4,
 "nbformat_minor": 2,
 "cells": [
  {
   "cell_type": "code",
   "execution_count": 2,
   "metadata": {},
   "outputs": [
    {
     "output_type": "stream",
     "name": "stdout",
     "text": [
      "WARNING:tensorflow:From /home/maayanlab/anaconda3/envs/python37/lib/python3.7/site-packages/tensorflow_gan/python/estimator/tpu_gan_estimator.py:42: The name tf.estimator.tpu.TPUEstimator is deprecated. Please use tf.compat.v1.estimator.tpu.TPUEstimator instead.\n\n"
     ]
    }
   ],
   "source": [
    "%load_ext autoreload\n",
    "%autoreload 2\n",
    "\n",
    "import os\n",
    "import pandas as pd\n",
    "import numpy as np\n",
    "import random\n",
    "import glob\n",
    "import umap\n",
    "import seaborn as sns\n",
    "import matplotlib.pyplot as plt\n",
    "# from ggplot import *\n",
    "\n",
    "\n",
    "from ruffus import *\n",
    "import sys, os, h5py, random, tempfile, scipy, time,copy\n",
    "import cmapPy.pandasGEXpress.parse_gctx as parse_gctx\n",
    "import cmapPy.pandasGEXpress.parse_gct as parse_gct\n",
    "import pipeline_support as PS\n",
    "from sklearn.decomposition import PCA\n",
    "from scipy import stats\n",
    "from matplotlib.pyplot import imshow\n",
    "from sklearn.preprocessing import MinMaxScaler\n",
    "\n",
    "from collections import Counter\n",
    "#from tensorflow_examples.models.pix2pix import pix2pix\n",
    "import tensorflow as tf\n",
    "from tensorflow import keras\n",
    "from IPython.display import clear_output\n",
    "from tensorflow_gan.python.losses import losses_impl\n",
    "\n",
    "\n",
    "from numpy.random import seed\n",
    "randomState = 123\n",
    "seed(randomState)"
   ]
  },
  {
   "cell_type": "code",
   "execution_count": 1,
   "metadata": {},
   "outputs": [],
   "source": [
    "ARCHS4_filename = \"../data/ARCHS4/human_matrix_v9.h5\"\n",
    "l1000_filename = \"../data/L1000/GSE92742_Broad_LINCS_Level3_INF_mlr12k_n1319138x12328.gctx\"\n",
    "l1000_geneinfo_filename = \"../data/L1000/GSE92742_Broad_LINCS_gene_info.txt\"\n",
    "gtex_rnaseq_filename = \"../data/GTEx/GTEx_Analysis_2017-06-05_v8_RNASeQCv1.1.9_gene_reads.gct\"\n",
    "gtex_l1000_filename = \"../data/GTEx/DS_GTEX_L1000_n3176x12320.gctx\"\n",
    "# gene_id_to_symbol_filename = \"../data/GTEx/Gene_ID_to_Symbol_GRCh37.txt\"\n",
    "# gene_transcript_id_to_hgnc_gene_filename = \"../data/GTEx/gencode.v19.metadata.HGNC\"\n",
    "gtex_geneinfo_filename = \"../data/GTEx/GSE92743_Broad_GTEx_gene_info.txt\""
   ]
  },
  {
   "cell_type": "code",
   "execution_count": 3,
   "metadata": {},
   "outputs": [],
   "source": [
    "l1000_all_gene_list = \"../data/L1000/all_gene_list.txt\"\n",
    "l1000_landmark_gene_list = \"../data/L1000/landmark_gene_list.txt\"\n",
    "\n",
    "archs4_all_gene_list = \"../data/ARCHS4/all_gene_list.txt\"\n",
    "\n",
    "gtex_l1000_all_gene_list = \"../data/GTEx/l1000_all_gene_list.txt\"\n",
    "gtex_l1000_landmark_gene_list = \"../data/GTEx/l1000_landmark_gene_list.txt\"\n",
    "\n",
    "gtex_rnaseq_all_gene_list = \"../data/GTEx/rnaseq_all_gene_list.txt\""
   ]
  },
  {
   "source": [
    "# Load L1000"
   ],
   "cell_type": "markdown",
   "metadata": {}
  },
  {
   "cell_type": "code",
   "execution_count": 3,
   "metadata": {},
   "outputs": [
    {
     "output_type": "stream",
     "name": "stdout",
     "text": [
      "Loading L1000 data.....\n"
     ]
    }
   ],
   "source": [
    "print('Loading L1000 data.....')\n",
    "l1000_data = parse_gctx.parse(l1000_filename,convert_neg_666=True).data_df"
   ]
  },
  {
   "cell_type": "code",
   "execution_count": 5,
   "metadata": {},
   "outputs": [],
   "source": [
    "gene_info = pd.read_csv(l1000_geneinfo_filename,header = 0, sep = '\\t')"
   ]
  },
  {
   "cell_type": "code",
   "execution_count": 6,
   "metadata": {},
   "outputs": [],
   "source": [
    "# create a probe_id to gene name dictionary \n",
    "gene_dict = dict(zip([str(x) for x in gene_info['pr_gene_id']], gene_info['pr_gene_symbol']))\n",
    "\n",
    "# label rows with gene names \n",
    "l1000_data.index = [gene_dict[x] for x in l1000_data.index.values]\n"
   ]
  },
  {
   "cell_type": "code",
   "execution_count": 8,
   "metadata": {},
   "outputs": [],
   "source": [
    "# save all genes\n",
    "with open(l1000_all_gene_list, \"w\") as f:\n",
    "    f.write(\"\\n\".join(l1000_data.index.tolist()))"
   ]
  },
  {
   "cell_type": "code",
   "execution_count": 9,
   "metadata": {},
   "outputs": [],
   "source": [
    "# filter landmark genes\n",
    "landmark_gene_info = gene_info[gene_info[\"pr_is_lm\"] == 1]\n",
    "l1000_data_landmark_genes = l1000_data.loc[landmark_gene_info[\"pr_gene_symbol\"], :]"
   ]
  },
  {
   "cell_type": "code",
   "execution_count": 11,
   "metadata": {},
   "outputs": [],
   "source": [
    "# Save L1000 genes to a txt file\n",
    "with open(l1000_landmark_gene_list, \"w\") as f:\n",
    "    f.write(\"\\n\".join(l1000_data_landmark_genes.index.tolist()))"
   ]
  },
  {
   "source": [
    "# ARCHS4"
   ],
   "cell_type": "markdown",
   "metadata": {}
  },
  {
   "cell_type": "code",
   "execution_count": 12,
   "metadata": {},
   "outputs": [
    {
     "output_type": "stream",
     "name": "stdout",
     "text": [
      "Processing RNA-seq data.....\n"
     ]
    }
   ],
   "source": [
    "# Import ARCHS4 RNA-seq samples \n",
    "print('Processing RNA-seq data.....')\n",
    "h5 = h5py.File(ARCHS4_filename, 'r')\n",
    "data_file = h5['data'] \n",
    "expression = data_file['expression']\n",
    "genes = [x for x in h5['meta']['genes']['genes']]"
   ]
  },
  {
   "cell_type": "code",
   "execution_count": 16,
   "metadata": {},
   "outputs": [],
   "source": [
    "with open(archs4_all_gene_list, \"w\") as f:\n",
    "    f.write(\"\\n\".join(genes))"
   ]
  },
  {
   "source": [
    "# GTEx"
   ],
   "cell_type": "markdown",
   "metadata": {}
  },
  {
   "source": [
    "## GTEx L1000"
   ],
   "cell_type": "markdown",
   "metadata": {}
  },
  {
   "cell_type": "code",
   "execution_count": 20,
   "metadata": {},
   "outputs": [],
   "source": [
    "gtex_gene_info = pd.read_csv(gtex_geneinfo_filename,header = 0, sep = '\\t')\n",
    "gtex_landmark_genes = gtex_gene_info.loc[gtex_gene_info[\"pr_is_lm\"]==1, \"pr_gene_symbol\"].tolist()"
   ]
  },
  {
   "cell_type": "code",
   "execution_count": 21,
   "metadata": {},
   "outputs": [
    {
     "output_type": "stream",
     "name": "stdout",
     "text": [
      "Loading GTEx L1000 data.....\n"
     ]
    }
   ],
   "source": [
    "# GTEx L1000 data\n",
    "print('Loading GTEx L1000 data.....')\n",
    "gtex_l1000_data = parse_gctx.parse(gtex_l1000_filename,convert_neg_666=True).data_df\n",
    "\n",
    "# create a probe_id to gene name dictionary \n",
    "gtex_gene_dict = dict(zip([str(x) for x in gtex_gene_info['pr_gene_id']], gtex_gene_info['pr_gene_symbol']))\n",
    "\n",
    "# label rows with gene names \n",
    "gtex_l1000_data.index = [gtex_gene_dict[x] for x in gtex_l1000_data.index.values]\n",
    "\n",
    "\n",
    "gtex_l1000_data_landmark = gtex_l1000_data.loc[gtex_l1000_data.index.isin(gtex_landmark_genes), :]"
   ]
  },
  {
   "cell_type": "code",
   "execution_count": 22,
   "metadata": {},
   "outputs": [],
   "source": [
    "with open(gtex_l1000_all_gene_list, \"w\") as f:\n",
    "    f.write(\"\\n\".join(gtex_l1000_data.index.tolist()))"
   ]
  },
  {
   "cell_type": "code",
   "execution_count": 29,
   "metadata": {},
   "outputs": [],
   "source": [
    "with open(gtex_l1000_landmark_gene_list, \"w\") as f:\n",
    "    f.write(\"\\n\".join(gtex_l1000_data_landmark.index.tolist()))"
   ]
  },
  {
   "source": [
    "## GTEx RNA-seq"
   ],
   "cell_type": "markdown",
   "metadata": {}
  },
  {
   "cell_type": "code",
   "execution_count": 32,
   "metadata": {},
   "outputs": [],
   "source": [
    "with open(gtex_rnaseq_filename, \"r\") as fr:\n",
    "    with open(gtex_rnaseq_all_gene_list, \"w\") as f:\n",
    "        lines = fr.readlines()\n",
    "        for i in range(3, len(lines)):\n",
    "            f.write(lines[i].split(\"\\t\")[1])\n",
    "            f.write(\"\\n\")\n",
    "            f.flush()\n",
    "\n"
   ]
  }
 ]
}