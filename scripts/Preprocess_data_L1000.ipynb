{
 "metadata": {
  "language_info": {
   "codemirror_mode": {
    "name": "ipython",
    "version": 3
   },
   "file_extension": ".py",
   "mimetype": "text/x-python",
   "name": "python",
   "nbconvert_exporter": "python",
   "pygments_lexer": "ipython3",
   "version": "3.7.9-final"
  },
  "orig_nbformat": 2,
  "kernelspec": {
   "name": "python3",
   "display_name": "Python 3.7.9 64-bit ('python37': conda)",
   "metadata": {
    "interpreter": {
     "hash": "385bb8b00568b82143462c5773842a3f7e8f0255e7b9eecbe3525094c674661a"
    }
   }
  }
 },
 "nbformat": 4,
 "nbformat_minor": 2,
 "cells": [
  {
   "source": [
    "# Script for Processing L1000 Data"
   ],
   "cell_type": "markdown",
   "metadata": {}
  },
  {
   "cell_type": "code",
   "execution_count": null,
   "metadata": {},
   "outputs": [],
   "source": [
    "%load_ext autoreload\n",
    "%autoreload 2\n",
    "\n",
    "import os\n",
    "import pandas as pd\n",
    "import numpy as np\n",
    "import numpy_indexed as npi\n",
    "import random\n",
    "\n",
    "import sys, h5py, time\n",
    "import cmapPy.pandasGEXpress.parse_gctx as parse_gctx\n",
    "import cmapPy.pandasGEXpress.parse_gct as parse_gct\n",
    "\n",
    "from scipy import stats\n",
    "from numpy.random import seed\n",
    "\n",
    "import scipy.stats as ss\n",
    "import warnings\n",
    "import numpy as np\n",
    "from maayanlab_bioinformatics.normalization import quantile_normalize\n",
    "import pickle\n",
    "\n",
    "randomState = 123\n",
    "seed(randomState)\n",
    "random.seed(randomState)"
   ]
  },
  {
   "source": [
    "## Initialize"
   ],
   "cell_type": "markdown",
   "metadata": {}
  },
  {
   "source": [
    "Parameters"
   ],
   "cell_type": "markdown",
   "metadata": {}
  },
  {
   "source": [
    "n_sampling = 50000"
   ],
   "cell_type": "code",
   "metadata": {},
   "execution_count": null,
   "outputs": []
  },
  {
   "source": [
    "Input Filenames"
   ],
   "cell_type": "markdown",
   "metadata": {}
  },
  {
   "cell_type": "code",
   "execution_count": null,
   "metadata": {},
   "outputs": [],
   "source": [
    "l1000_filename = \"../data/L1000/GSE92742_Broad_LINCS_Level3_INF_mlr12k_n1319138x12328.gctx\"\n",
    "l1000_geneinfo_filename = \"../data/L1000/GSE92742_Broad_LINCS_gene_info.txt\"\n",
    "l1000_instinfo_filename = \"../data/L1000/GSE92742_Broad_LINCS_inst_info.txt\"\n",
    "overlap_landmark_gene_list = \"../data/processed/overlap_landmark_gene_file.txt\""
   ]
  },
  {
   "source": [
    "Output Filenames"
   ],
   "cell_type": "markdown",
   "metadata": {}
  },
  {
   "cell_type": "code",
   "execution_count": null,
   "metadata": {},
   "outputs": [],
   "source": [
    "l1000_output_filename = \"../data/processed/L1000/L1000_filtered_GSE92742_Broad_LINCS_Level3_INF_mlr12k_n{}x{}.f\" # only landmark genes\n",
    "l1000_overlap_landmark_output_filename = \"../data/processed/L1000/L1000_filtered_GSE92742_Broad_LINCS_Level3_INF_mlr12k_n{}x{}.f\" # n_samplingx967\n",
    "l1000_sampled_instinfo_filename = \"../data/processed/L1000/GSE92742_Broad_LINCS_inst_info_sampled.csv\""
   ]
  },
  {
   "source": [
    "## Load landmark genes"
   ],
   "cell_type": "markdown",
   "metadata": {}
  },
  {
   "cell_type": "code",
   "execution_count": null,
   "metadata": {},
   "outputs": [],
   "source": [
    "with open(overlap_landmark_gene_list, \"r\") as f:\n",
    "    landmark_gene = [x.strip() for x in f.readlines()]\n",
    "\n"
   ]
  },
  {
   "source": [
    "## Load L1000 (GSE92742/Level 3) ~4 min"
   ],
   "cell_type": "markdown",
   "metadata": {}
  },
  {
   "source": [
    "https://www.ncbi.nlm.nih.gov/geo/query/acc.cgi?acc=GSE92742 downloaded @ ../data"
   ],
   "cell_type": "markdown",
   "metadata": {}
  },
  {
   "cell_type": "code",
   "execution_count": null,
   "metadata": {},
   "outputs": [],
   "source": [
    "print('Loading L1000 data.....')\n",
    "l1000_data = parse_gctx.parse(l1000_filename,convert_neg_666=True).data_df"
   ]
  },
  {
   "cell_type": "code",
   "execution_count": null,
   "metadata": {},
   "outputs": [],
   "source": [
    "gene_info = pd.read_csv(l1000_geneinfo_filename,header = 0, sep = '\\t')"
   ]
  },
  {
   "cell_type": "code",
   "execution_count": null,
   "metadata": {},
   "outputs": [],
   "source": [
    "# create a probe_id to gene name dictionary \n",
    "gene_dict = dict(zip([str(x) for x in gene_info['pr_gene_id']], gene_info['pr_gene_symbol']))\n",
    "\n",
    "# label rows with gene names \n",
    "l1000_data.index = [gene_dict[x] for x in l1000_data.index.values]\n"
   ]
  },
  {
   "cell_type": "code",
   "execution_count": null,
   "metadata": {},
   "outputs": [],
   "source": [
    "# filter landmark genes\n",
    "filtered_l1000_data = l1000_data[l1000_data.index.isin(landmark_gene)]"
   ]
  },
  {
   "cell_type": "code",
   "execution_count": null,
   "metadata": {},
   "outputs": [],
   "source": [
    "filtered_l1000_data.shape"
   ]
  },
  {
   "cell_type": "code",
   "execution_count": null,
   "metadata": {},
   "outputs": [],
   "source": [
    "del l1000_data"
   ]
  },
  {
   "source": [
    "## Random Sampling"
   ],
   "cell_type": "markdown",
   "metadata": {}
  },
  {
   "cell_type": "code",
   "execution_count": null,
   "metadata": {},
   "outputs": [],
   "source": [
    "filtered_l1000_data_sampled = filtered_l1000_data.sample(axis='columns', n=n_sampling).T"
   ]
  },
  {
   "cell_type": "code",
   "execution_count": null,
   "metadata": {},
   "outputs": [],
   "source": [
    "filtered_l1000_data_sampled.loc[:, landmark_gene].sort_index(axis=1)"
   ]
  },
  {
   "cell_type": "code",
   "execution_count": null,
   "metadata": {},
   "outputs": [],
   "source": [
    "filtered_l1000_data_sampled.reset_index().to_feather(l1000_overlap_landmark_output_filename.format(filtered_l1000_data_sampled.shape[0], filtered_l1000_data_sampled.shape[1]))\n",
    "print(l1000_overlap_landmark_output_filename.format(filtered_l1000_data_sampled.shape[0], filtered_l1000_data_sampled.shape[1]))"
   ]
  },
  {
   "source": [
    "## Save Cell line info of randomly sampled samples"
   ],
   "cell_type": "markdown",
   "metadata": {}
  },
  {
   "cell_type": "code",
   "execution_count": null,
   "metadata": {},
   "outputs": [],
   "source": [
    "inst_info = pd.read_csv(l1000_instinfo_filename, sep=\"\\t\")\n",
    "inst_info[\"exp_plate\"] = inst_info[\"pert_id\"]+inst_info[\"cell_id\"]+inst_info[\"pert_time\"].map(str)+inst_info[\"pert_dose\"].map(str)#[\"_\".join(x.split(\"_\")[:3]) for x in inst_info[\"rna_plate\"]]"
   ]
  },
  {
   "cell_type": "code",
   "execution_count": null,
   "metadata": {},
   "outputs": [],
   "source": [
    "filtered_l1000_data_sampled_inst_info = inst_info[inst_info[\"inst_id\"].isin(filtered_l1000_data_sampled.index)]\n",
    "filtered_l1000_data_sampled_inst_info[[\"inst_id\", \"cell_id\", \"pert_id\"]].to_csv(l1000_sampled_instinfo_filename, index=None)"
   ]
  },
  {
   "cell_type": "code",
   "execution_count": null,
   "metadata": {},
   "outputs": [],
   "source": [
    "filtered_l1000_data_sampled_inst_info"
   ]
  },
  {
   "cell_type": "code",
   "execution_count": null,
   "metadata": {},
   "outputs": [],
   "source": []
  },
  {
   "cell_type": "code",
   "execution_count": null,
   "metadata": {},
   "outputs": [],
   "source": [
    "print(\"cell line size\", len(filtered_l1000_data_sampled_inst_info[\"cell_id\"].unique()), \"out of\", len(inst_info[\"cell_id\"].unique()))"
   ]
  },
  {
   "cell_type": "code",
   "execution_count": null,
   "metadata": {},
   "outputs": [],
   "source": [
    "print(\"pert size\", len(filtered_l1000_data_sampled_inst_info[\"pert_id\"].unique()), \"out of\", len(inst_info[\"pert_id\"].unique()))"
   ]
  },
  {
   "cell_type": "code",
   "execution_count": null,
   "metadata": {},
   "outputs": [],
   "source": [
    "print(\"exp_plate size\", len(filtered_l1000_data_sampled_inst_info[\"exp_plate\"].unique()), \"out of\", len(inst_info[\"exp_plate\"].unique()))"
   ]
  },
  {
   "cell_type": "code",
   "execution_count": null,
   "metadata": {},
   "outputs": [],
   "source": [
    "filtered_l1000_data_sampled_inst_info"
   ]
  },
  {
   "cell_type": "code",
   "execution_count": null,
   "metadata": {},
   "outputs": [],
   "source": [
    "filtered_l1000_data_sampled_inst_info[filtered_l1000_data_sampled_inst_info[\"exp_plate\"].duplicated()].sort_values(\"exp_plate\")"
   ]
  },
  {
   "cell_type": "code",
   "execution_count": null,
   "metadata": {},
   "outputs": [],
   "source": []
  }
 ]
}