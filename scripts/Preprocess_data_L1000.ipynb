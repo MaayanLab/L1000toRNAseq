{
 "metadata": {
  "language_info": {
   "codemirror_mode": {
    "name": "ipython",
    "version": 3
   },
   "file_extension": ".py",
   "mimetype": "text/x-python",
   "name": "python",
   "nbconvert_exporter": "python",
   "pygments_lexer": "ipython3",
   "version": "3.7.9-final"
  },
  "orig_nbformat": 2,
  "kernelspec": {
   "name": "python3",
   "display_name": "Python 3.7.9 64-bit ('python37': conda)",
   "metadata": {
    "interpreter": {
     "hash": "385bb8b00568b82143462c5773842a3f7e8f0255e7b9eecbe3525094c674661a"
    }
   }
  }
 },
 "nbformat": 4,
 "nbformat_minor": 2,
 "cells": [
  {
   "source": [
    "# Script for Processing L1000 Data"
   ],
   "cell_type": "markdown",
   "metadata": {}
  },
  {
   "cell_type": "code",
   "execution_count": 13,
   "metadata": {},
   "outputs": [
    {
     "output_type": "stream",
     "name": "stdout",
     "text": [
      "The autoreload extension is already loaded. To reload it, use:\n  %reload_ext autoreload\n"
     ]
    }
   ],
   "source": [
    "%load_ext autoreload\n",
    "%autoreload 2\n",
    "\n",
    "import os\n",
    "import pandas as pd\n",
    "import numpy as np\n",
    "import numpy_indexed as npi\n",
    "import random\n",
    "\n",
    "import sys, h5py, time\n",
    "import cmapPy.pandasGEXpress.parse_gctx as parse_gctx\n",
    "import cmapPy.pandasGEXpress.parse_gct as parse_gct\n",
    "\n",
    "from scipy import stats\n",
    "from numpy.random import seed\n",
    "\n",
    "import scipy.stats as ss\n",
    "import warnings\n",
    "import numpy as np\n",
    "from maayanlab_bioinformatics.normalization import quantile_normalize\n",
    "import pickle\n",
    "\n",
    "randomState = 123\n",
    "seed(randomState)\n",
    "random.seed(randomState)"
   ]
  },
  {
   "source": [
    "## Initialize"
   ],
   "cell_type": "markdown",
   "metadata": {}
  },
  {
   "source": [
    "Parameters"
   ],
   "cell_type": "markdown",
   "metadata": {}
  },
  {
   "source": [
    "n_sampling = 50000"
   ],
   "cell_type": "code",
   "metadata": {},
   "execution_count": 3,
   "outputs": []
  },
  {
   "source": [
    "Input Filenames"
   ],
   "cell_type": "markdown",
   "metadata": {}
  },
  {
   "cell_type": "code",
   "execution_count": 4,
   "metadata": {},
   "outputs": [],
   "source": [
    "l1000_filename = \"../data/L1000/GSE92742_Broad_LINCS_Level3_INF_mlr12k_n1319138x12328.gctx\"\n",
    "l1000_geneinfo_filename = \"../data/L1000/GSE92742_Broad_LINCS_gene_info.txt\"\n",
    "\n",
    "overlap_landmark_gene_list = \"../data/processed/overlap_landmark_gene_file.txt\""
   ]
  },
  {
   "source": [
    "Output Filenames"
   ],
   "cell_type": "markdown",
   "metadata": {}
  },
  {
   "cell_type": "code",
   "execution_count": 5,
   "metadata": {},
   "outputs": [],
   "source": [
    "l1000_output_filename = \"../data/processed/L1000/L1000_filtered_GSE92742_Broad_LINCS_Level3_INF_mlr12k_n{}x{}.f\" # only landmark genes\n",
    "l1000_overlap_landmark_output_filename = \"../data/processed/L1000/L1000_filtered_GSE92742_Broad_LINCS_Level3_INF_mlr12k_n{}x{}.f\" # n_samplingx967\n"
   ]
  },
  {
   "source": [
    "## Load landmark genes"
   ],
   "cell_type": "markdown",
   "metadata": {}
  },
  {
   "cell_type": "code",
   "execution_count": 6,
   "metadata": {},
   "outputs": [],
   "source": [
    "with open(overlap_landmark_gene_list, \"r\") as f:\n",
    "    landmark_gene = [x.strip() for x in f.readlines()]\n",
    "\n"
   ]
  },
  {
   "source": [
    "## Load L1000 (GSE92742/Level 3) ~4 min"
   ],
   "cell_type": "markdown",
   "metadata": {}
  },
  {
   "source": [
    "https://www.ncbi.nlm.nih.gov/geo/query/acc.cgi?acc=GSE92742 downloaded @ ../data"
   ],
   "cell_type": "markdown",
   "metadata": {}
  },
  {
   "cell_type": "code",
   "execution_count": 7,
   "metadata": {},
   "outputs": [
    {
     "output_type": "stream",
     "name": "stdout",
     "text": [
      "Loading L1000 data.....\n"
     ]
    }
   ],
   "source": [
    "print('Loading L1000 data.....')\n",
    "l1000_data = parse_gctx.parse(l1000_filename,convert_neg_666=True).data_df"
   ]
  },
  {
   "cell_type": "code",
   "execution_count": 8,
   "metadata": {},
   "outputs": [],
   "source": [
    "gene_info = pd.read_csv(l1000_geneinfo_filename,header = 0, sep = '\\t')"
   ]
  },
  {
   "cell_type": "code",
   "execution_count": 9,
   "metadata": {},
   "outputs": [],
   "source": [
    "# create a probe_id to gene name dictionary \n",
    "gene_dict = dict(zip([str(x) for x in gene_info['pr_gene_id']], gene_info['pr_gene_symbol']))\n",
    "\n",
    "# label rows with gene names \n",
    "l1000_data.index = [gene_dict[x] for x in l1000_data.index.values]\n"
   ]
  },
  {
   "cell_type": "code",
   "execution_count": 11,
   "metadata": {},
   "outputs": [],
   "source": [
    "# filter landmark genes\n",
    "filtered_l1000_data = l1000_data[l1000_data.index.isin(landmark_gene)]"
   ]
  },
  {
   "cell_type": "code",
   "execution_count": 17,
   "metadata": {},
   "outputs": [
    {
     "output_type": "execute_result",
     "data": {
      "text/plain": [
       "(962, 1319138)"
      ]
     },
     "metadata": {},
     "execution_count": 17
    }
   ],
   "source": [
    "filtered_l1000_data.shape"
   ]
  },
  {
   "cell_type": "code",
   "execution_count": 18,
   "metadata": {},
   "outputs": [],
   "source": [
    "del l1000_data"
   ]
  },
  {
   "source": [
    "## Random Sampling"
   ],
   "cell_type": "markdown",
   "metadata": {}
  },
  {
   "cell_type": "code",
   "execution_count": 19,
   "metadata": {},
   "outputs": [],
   "source": [
    "filtered_l1000_data_sampled = filtered_l1000_data.sample(axis='columns', n=n_sampling).T"
   ]
  },
  {
   "cell_type": "code",
   "execution_count": 20,
   "metadata": {},
   "outputs": [
    {
     "output_type": "execute_result",
     "data": {
      "text/plain": [
       "                                                AARS     ABCB6     ABCC5  \\\n",
       "cid                                                                        \n",
       "CPC012_HT29_6H_X5_B5_DUO52HI53LO:D04        9.209949   5.75080  4.308750   \n",
       "KDB009_HCC515_96H_X2_F1B5_DUO52HI53LO:G16  10.403400   6.45310  4.241800   \n",
       "ERG012_VCAP_24H_X1.A2_B7_DUO52HI53LO:M15    9.008100   9.70340  5.993200   \n",
       "KDB003_PC3_144H_X1_B1_DUO52HI53LO:H08       9.590100   7.94465  3.987100   \n",
       "KDB010_VCAP_120H_X3_F1B4_DUO52HI53LO:H09    9.603950  10.38880  4.646700   \n",
       "...                                              ...       ...       ...   \n",
       "RAD001_MCF7_24H_X3_F1B5_DUO52HI53LO:E11    11.564250  10.25535  5.034800   \n",
       "CYT001_A375_2H_X2_B7_DUO52HI53LO:B07       10.309200   8.54990  4.838800   \n",
       "CVD001_PHH_24H_X3_F1B3_DUO52HI53LO:O21     10.088100   9.75205  9.042150   \n",
       "KDD002_HA1E_96H_X1_F2B5_DUO52HI53LO:J04    10.313000   8.41290  5.256250   \n",
       "KDD003_MCF7_96H_X3_B4_DUO52HI53LO:C13      12.122601   9.47670  6.474251   \n",
       "\n",
       "                                               ABCF1      ABCF3    ABHD4  \\\n",
       "cid                                                                        \n",
       "CPC012_HT29_6H_X5_B5_DUO52HI53LO:D04       13.440675   4.622875  5.19140   \n",
       "KDB009_HCC515_96H_X2_F1B5_DUO52HI53LO:G16  12.498200   7.515600  5.61990   \n",
       "ERG012_VCAP_24H_X1.A2_B7_DUO52HI53LO:M15   10.855900   6.824400  6.86080   \n",
       "KDB003_PC3_144H_X1_B1_DUO52HI53LO:H08       9.209700   9.610900  8.00420   \n",
       "KDB010_VCAP_120H_X3_F1B4_DUO52HI53LO:H09   11.107000   8.660601  6.59900   \n",
       "...                                              ...        ...      ...   \n",
       "RAD001_MCF7_24H_X3_F1B5_DUO52HI53LO:E11    11.748100  11.769800  6.15640   \n",
       "CYT001_A375_2H_X2_B7_DUO52HI53LO:B07       11.140800   8.370350  5.58470   \n",
       "CVD001_PHH_24H_X3_F1B3_DUO52HI53LO:O21     11.943300   8.692300  8.59400   \n",
       "KDD002_HA1E_96H_X1_F2B5_DUO52HI53LO:J04    12.392900   9.361800  7.61315   \n",
       "KDD003_MCF7_96H_X3_B4_DUO52HI53LO:C13      10.709200   9.412500  6.74780   \n",
       "\n",
       "                                             ABHD6      ABL1    ACAA1  \\\n",
       "cid                                                                     \n",
       "CPC012_HT29_6H_X5_B5_DUO52HI53LO:D04       7.18615   6.47970  5.17415   \n",
       "KDB009_HCC515_96H_X2_F1B5_DUO52HI53LO:G16  7.18070   7.70290  5.85860   \n",
       "ERG012_VCAP_24H_X1.A2_B7_DUO52HI53LO:M15   6.70180   9.30120  8.43960   \n",
       "KDB003_PC3_144H_X1_B1_DUO52HI53LO:H08      7.46010   7.27510  9.70110   \n",
       "KDB010_VCAP_120H_X3_F1B4_DUO52HI53LO:H09   6.28720   5.16425  6.45430   \n",
       "...                                            ...       ...      ...   \n",
       "RAD001_MCF7_24H_X3_F1B5_DUO52HI53LO:E11    5.93450   6.48730  8.29680   \n",
       "CYT001_A375_2H_X2_B7_DUO52HI53LO:B07       6.25640   9.10400  6.58430   \n",
       "CVD001_PHH_24H_X3_F1B3_DUO52HI53LO:O21     9.22200   7.51105  8.57660   \n",
       "KDD002_HA1E_96H_X1_F2B5_DUO52HI53LO:J04    6.58695  10.69220  7.16120   \n",
       "KDD003_MCF7_96H_X3_B4_DUO52HI53LO:C13      5.41410   7.16190  7.87285   \n",
       "\n",
       "                                             ACAT2  ...      ZMIZ1      ZMYM2  \\\n",
       "cid                                                 ...                         \n",
       "CPC012_HT29_6H_X5_B5_DUO52HI53LO:D04       10.9587  ...  13.514800   4.995975   \n",
       "KDB009_HCC515_96H_X2_F1B5_DUO52HI53LO:G16  11.1633  ...  10.180600   7.015600   \n",
       "ERG012_VCAP_24H_X1.A2_B7_DUO52HI53LO:M15    9.6219  ...   9.790900   9.381300   \n",
       "KDB003_PC3_144H_X1_B1_DUO52HI53LO:H08       9.6650  ...  10.777349   9.638600   \n",
       "KDB010_VCAP_120H_X3_F1B4_DUO52HI53LO:H09    5.3859  ...   9.398350   9.022350   \n",
       "...                                            ...  ...        ...        ...   \n",
       "RAD001_MCF7_24H_X3_F1B5_DUO52HI53LO:E11     9.2389  ...  10.749600  11.998900   \n",
       "CYT001_A375_2H_X2_B7_DUO52HI53LO:B07        9.2730  ...   9.868851   8.608600   \n",
       "CVD001_PHH_24H_X3_F1B3_DUO52HI53LO:O21     11.9849  ...   9.937800   6.865950   \n",
       "KDD002_HA1E_96H_X1_F2B5_DUO52HI53LO:J04    11.4972  ...  10.504000  10.153900   \n",
       "KDD003_MCF7_96H_X3_B4_DUO52HI53LO:C13       8.7859  ...   8.770599  11.049900   \n",
       "\n",
       "                                             ZNF131    ZNF274   ZNF318  \\\n",
       "cid                                                                      \n",
       "CPC012_HT29_6H_X5_B5_DUO52HI53LO:D04        7.87965   5.59720  4.91680   \n",
       "KDB009_HCC515_96H_X2_F1B5_DUO52HI53LO:G16   6.70020   7.26735  7.05015   \n",
       "ERG012_VCAP_24H_X1.A2_B7_DUO52HI53LO:M15    8.38970   7.69920  6.86740   \n",
       "KDB003_PC3_144H_X1_B1_DUO52HI53LO:H08       7.60975   7.42100  5.01470   \n",
       "KDB010_VCAP_120H_X3_F1B4_DUO52HI53LO:H09    6.45430   7.41420  7.08405   \n",
       "...                                             ...       ...      ...   \n",
       "RAD001_MCF7_24H_X3_F1B5_DUO52HI53LO:E11     9.18330   7.92250  5.63655   \n",
       "CYT001_A375_2H_X2_B7_DUO52HI53LO:B07        8.09070   7.33825  5.82690   \n",
       "CVD001_PHH_24H_X3_F1B3_DUO52HI53LO:O21      6.79795  12.01450  7.72400   \n",
       "KDD002_HA1E_96H_X1_F2B5_DUO52HI53LO:J04    10.87960   8.35675  6.78865   \n",
       "KDD003_MCF7_96H_X3_B4_DUO52HI53LO:C13       8.23220   7.94785  5.53660   \n",
       "\n",
       "                                            ZNF395   ZNF451    ZNF586  \\\n",
       "cid                                                                     \n",
       "CPC012_HT29_6H_X5_B5_DUO52HI53LO:D04       15.0000  5.09905   7.02635   \n",
       "KDB009_HCC515_96H_X2_F1B5_DUO52HI53LO:G16  15.0000  7.02680   6.49510   \n",
       "ERG012_VCAP_24H_X1.A2_B7_DUO52HI53LO:M15   12.3333  8.77630   7.75080   \n",
       "KDB003_PC3_144H_X1_B1_DUO52HI53LO:H08      10.3589  7.16915   7.21880   \n",
       "KDB010_VCAP_120H_X3_F1B4_DUO52HI53LO:H09   13.8868  8.35270  11.37980   \n",
       "...                                            ...      ...       ...   \n",
       "RAD001_MCF7_24H_X3_F1B5_DUO52HI53LO:E11    13.7482  6.63240   5.71355   \n",
       "CYT001_A375_2H_X2_B7_DUO52HI53LO:B07       11.5249  6.67700   7.05360   \n",
       "CVD001_PHH_24H_X3_F1B3_DUO52HI53LO:O21     13.6431  7.52230  12.67740   \n",
       "KDD002_HA1E_96H_X1_F2B5_DUO52HI53LO:J04    12.6318  7.63130   6.22670   \n",
       "KDD003_MCF7_96H_X3_B4_DUO52HI53LO:C13      11.1673  5.95720  12.28210   \n",
       "\n",
       "                                            ZNF589       ZW10  \n",
       "cid                                                            \n",
       "CPC012_HT29_6H_X5_B5_DUO52HI53LO:D04       8.00165  11.113700  \n",
       "KDB009_HCC515_96H_X2_F1B5_DUO52HI53LO:G16  7.06650   8.621300  \n",
       "ERG012_VCAP_24H_X1.A2_B7_DUO52HI53LO:M15   7.88865   9.637700  \n",
       "KDB003_PC3_144H_X1_B1_DUO52HI53LO:H08      6.62430   9.972300  \n",
       "KDB010_VCAP_120H_X3_F1B4_DUO52HI53LO:H09   8.70010   8.768700  \n",
       "...                                            ...        ...  \n",
       "RAD001_MCF7_24H_X3_F1B5_DUO52HI53LO:E11    5.59950   9.722651  \n",
       "CYT001_A375_2H_X2_B7_DUO52HI53LO:B07       7.20355   9.138300  \n",
       "CVD001_PHH_24H_X3_F1B3_DUO52HI53LO:O21     7.22620  10.482700  \n",
       "KDD002_HA1E_96H_X1_F2B5_DUO52HI53LO:J04    7.33675  12.795300  \n",
       "KDD003_MCF7_96H_X3_B4_DUO52HI53LO:C13      5.22505   8.060500  \n",
       "\n",
       "[50000 rows x 962 columns]"
      ],
      "text/html": "<div>\n<style scoped>\n    .dataframe tbody tr th:only-of-type {\n        vertical-align: middle;\n    }\n\n    .dataframe tbody tr th {\n        vertical-align: top;\n    }\n\n    .dataframe thead th {\n        text-align: right;\n    }\n</style>\n<table border=\"1\" class=\"dataframe\">\n  <thead>\n    <tr style=\"text-align: right;\">\n      <th></th>\n      <th>AARS</th>\n      <th>ABCB6</th>\n      <th>ABCC5</th>\n      <th>ABCF1</th>\n      <th>ABCF3</th>\n      <th>ABHD4</th>\n      <th>ABHD6</th>\n      <th>ABL1</th>\n      <th>ACAA1</th>\n      <th>ACAT2</th>\n      <th>...</th>\n      <th>ZMIZ1</th>\n      <th>ZMYM2</th>\n      <th>ZNF131</th>\n      <th>ZNF274</th>\n      <th>ZNF318</th>\n      <th>ZNF395</th>\n      <th>ZNF451</th>\n      <th>ZNF586</th>\n      <th>ZNF589</th>\n      <th>ZW10</th>\n    </tr>\n    <tr>\n      <th>cid</th>\n      <th></th>\n      <th></th>\n      <th></th>\n      <th></th>\n      <th></th>\n      <th></th>\n      <th></th>\n      <th></th>\n      <th></th>\n      <th></th>\n      <th></th>\n      <th></th>\n      <th></th>\n      <th></th>\n      <th></th>\n      <th></th>\n      <th></th>\n      <th></th>\n      <th></th>\n      <th></th>\n      <th></th>\n    </tr>\n  </thead>\n  <tbody>\n    <tr>\n      <th>CPC012_HT29_6H_X5_B5_DUO52HI53LO:D04</th>\n      <td>9.209949</td>\n      <td>5.75080</td>\n      <td>4.308750</td>\n      <td>13.440675</td>\n      <td>4.622875</td>\n      <td>5.19140</td>\n      <td>7.18615</td>\n      <td>6.47970</td>\n      <td>5.17415</td>\n      <td>10.9587</td>\n      <td>...</td>\n      <td>13.514800</td>\n      <td>4.995975</td>\n      <td>7.87965</td>\n      <td>5.59720</td>\n      <td>4.91680</td>\n      <td>15.0000</td>\n      <td>5.09905</td>\n      <td>7.02635</td>\n      <td>8.00165</td>\n      <td>11.113700</td>\n    </tr>\n    <tr>\n      <th>KDB009_HCC515_96H_X2_F1B5_DUO52HI53LO:G16</th>\n      <td>10.403400</td>\n      <td>6.45310</td>\n      <td>4.241800</td>\n      <td>12.498200</td>\n      <td>7.515600</td>\n      <td>5.61990</td>\n      <td>7.18070</td>\n      <td>7.70290</td>\n      <td>5.85860</td>\n      <td>11.1633</td>\n      <td>...</td>\n      <td>10.180600</td>\n      <td>7.015600</td>\n      <td>6.70020</td>\n      <td>7.26735</td>\n      <td>7.05015</td>\n      <td>15.0000</td>\n      <td>7.02680</td>\n      <td>6.49510</td>\n      <td>7.06650</td>\n      <td>8.621300</td>\n    </tr>\n    <tr>\n      <th>ERG012_VCAP_24H_X1.A2_B7_DUO52HI53LO:M15</th>\n      <td>9.008100</td>\n      <td>9.70340</td>\n      <td>5.993200</td>\n      <td>10.855900</td>\n      <td>6.824400</td>\n      <td>6.86080</td>\n      <td>6.70180</td>\n      <td>9.30120</td>\n      <td>8.43960</td>\n      <td>9.6219</td>\n      <td>...</td>\n      <td>9.790900</td>\n      <td>9.381300</td>\n      <td>8.38970</td>\n      <td>7.69920</td>\n      <td>6.86740</td>\n      <td>12.3333</td>\n      <td>8.77630</td>\n      <td>7.75080</td>\n      <td>7.88865</td>\n      <td>9.637700</td>\n    </tr>\n    <tr>\n      <th>KDB003_PC3_144H_X1_B1_DUO52HI53LO:H08</th>\n      <td>9.590100</td>\n      <td>7.94465</td>\n      <td>3.987100</td>\n      <td>9.209700</td>\n      <td>9.610900</td>\n      <td>8.00420</td>\n      <td>7.46010</td>\n      <td>7.27510</td>\n      <td>9.70110</td>\n      <td>9.6650</td>\n      <td>...</td>\n      <td>10.777349</td>\n      <td>9.638600</td>\n      <td>7.60975</td>\n      <td>7.42100</td>\n      <td>5.01470</td>\n      <td>10.3589</td>\n      <td>7.16915</td>\n      <td>7.21880</td>\n      <td>6.62430</td>\n      <td>9.972300</td>\n    </tr>\n    <tr>\n      <th>KDB010_VCAP_120H_X3_F1B4_DUO52HI53LO:H09</th>\n      <td>9.603950</td>\n      <td>10.38880</td>\n      <td>4.646700</td>\n      <td>11.107000</td>\n      <td>8.660601</td>\n      <td>6.59900</td>\n      <td>6.28720</td>\n      <td>5.16425</td>\n      <td>6.45430</td>\n      <td>5.3859</td>\n      <td>...</td>\n      <td>9.398350</td>\n      <td>9.022350</td>\n      <td>6.45430</td>\n      <td>7.41420</td>\n      <td>7.08405</td>\n      <td>13.8868</td>\n      <td>8.35270</td>\n      <td>11.37980</td>\n      <td>8.70010</td>\n      <td>8.768700</td>\n    </tr>\n    <tr>\n      <th>...</th>\n      <td>...</td>\n      <td>...</td>\n      <td>...</td>\n      <td>...</td>\n      <td>...</td>\n      <td>...</td>\n      <td>...</td>\n      <td>...</td>\n      <td>...</td>\n      <td>...</td>\n      <td>...</td>\n      <td>...</td>\n      <td>...</td>\n      <td>...</td>\n      <td>...</td>\n      <td>...</td>\n      <td>...</td>\n      <td>...</td>\n      <td>...</td>\n      <td>...</td>\n      <td>...</td>\n    </tr>\n    <tr>\n      <th>RAD001_MCF7_24H_X3_F1B5_DUO52HI53LO:E11</th>\n      <td>11.564250</td>\n      <td>10.25535</td>\n      <td>5.034800</td>\n      <td>11.748100</td>\n      <td>11.769800</td>\n      <td>6.15640</td>\n      <td>5.93450</td>\n      <td>6.48730</td>\n      <td>8.29680</td>\n      <td>9.2389</td>\n      <td>...</td>\n      <td>10.749600</td>\n      <td>11.998900</td>\n      <td>9.18330</td>\n      <td>7.92250</td>\n      <td>5.63655</td>\n      <td>13.7482</td>\n      <td>6.63240</td>\n      <td>5.71355</td>\n      <td>5.59950</td>\n      <td>9.722651</td>\n    </tr>\n    <tr>\n      <th>CYT001_A375_2H_X2_B7_DUO52HI53LO:B07</th>\n      <td>10.309200</td>\n      <td>8.54990</td>\n      <td>4.838800</td>\n      <td>11.140800</td>\n      <td>8.370350</td>\n      <td>5.58470</td>\n      <td>6.25640</td>\n      <td>9.10400</td>\n      <td>6.58430</td>\n      <td>9.2730</td>\n      <td>...</td>\n      <td>9.868851</td>\n      <td>8.608600</td>\n      <td>8.09070</td>\n      <td>7.33825</td>\n      <td>5.82690</td>\n      <td>11.5249</td>\n      <td>6.67700</td>\n      <td>7.05360</td>\n      <td>7.20355</td>\n      <td>9.138300</td>\n    </tr>\n    <tr>\n      <th>CVD001_PHH_24H_X3_F1B3_DUO52HI53LO:O21</th>\n      <td>10.088100</td>\n      <td>9.75205</td>\n      <td>9.042150</td>\n      <td>11.943300</td>\n      <td>8.692300</td>\n      <td>8.59400</td>\n      <td>9.22200</td>\n      <td>7.51105</td>\n      <td>8.57660</td>\n      <td>11.9849</td>\n      <td>...</td>\n      <td>9.937800</td>\n      <td>6.865950</td>\n      <td>6.79795</td>\n      <td>12.01450</td>\n      <td>7.72400</td>\n      <td>13.6431</td>\n      <td>7.52230</td>\n      <td>12.67740</td>\n      <td>7.22620</td>\n      <td>10.482700</td>\n    </tr>\n    <tr>\n      <th>KDD002_HA1E_96H_X1_F2B5_DUO52HI53LO:J04</th>\n      <td>10.313000</td>\n      <td>8.41290</td>\n      <td>5.256250</td>\n      <td>12.392900</td>\n      <td>9.361800</td>\n      <td>7.61315</td>\n      <td>6.58695</td>\n      <td>10.69220</td>\n      <td>7.16120</td>\n      <td>11.4972</td>\n      <td>...</td>\n      <td>10.504000</td>\n      <td>10.153900</td>\n      <td>10.87960</td>\n      <td>8.35675</td>\n      <td>6.78865</td>\n      <td>12.6318</td>\n      <td>7.63130</td>\n      <td>6.22670</td>\n      <td>7.33675</td>\n      <td>12.795300</td>\n    </tr>\n    <tr>\n      <th>KDD003_MCF7_96H_X3_B4_DUO52HI53LO:C13</th>\n      <td>12.122601</td>\n      <td>9.47670</td>\n      <td>6.474251</td>\n      <td>10.709200</td>\n      <td>9.412500</td>\n      <td>6.74780</td>\n      <td>5.41410</td>\n      <td>7.16190</td>\n      <td>7.87285</td>\n      <td>8.7859</td>\n      <td>...</td>\n      <td>8.770599</td>\n      <td>11.049900</td>\n      <td>8.23220</td>\n      <td>7.94785</td>\n      <td>5.53660</td>\n      <td>11.1673</td>\n      <td>5.95720</td>\n      <td>12.28210</td>\n      <td>5.22505</td>\n      <td>8.060500</td>\n    </tr>\n  </tbody>\n</table>\n<p>50000 rows × 962 columns</p>\n</div>"
     },
     "metadata": {},
     "execution_count": 20
    }
   ],
   "source": [
    "filtered_l1000_data_sampled.loc[:, landmark_gene].sort_index(axis=1)"
   ]
  },
  {
   "cell_type": "code",
   "execution_count": 23,
   "metadata": {},
   "outputs": [
    {
     "output_type": "stream",
     "name": "stdout",
     "text": [
      "../data/processed/L1000/L1000_filtered_GSE92742_Broad_LINCS_Level3_INF_mlr12k_n50000x962.f\n"
     ]
    }
   ],
   "source": [
    "filtered_l1000_data_sampled.reset_index().to_feather(l1000_overlap_landmark_output_filename.format(filtered_l1000_data_sampled.shape[0], filtered_l1000_data_sampled.shape[1]))\n",
    "print(l1000_overlap_landmark_output_filename.format(filtered_l1000_data_sampled.shape[0], filtered_l1000_data_sampled.shape[1]))"
   ]
  },
  {
   "cell_type": "code",
   "execution_count": null,
   "metadata": {},
   "outputs": [],
   "source": []
  }
 ]
}