{
 "cells": [
  {
   "cell_type": "code",
   "execution_count": 1,
   "metadata": {},
   "outputs": [],
   "source": [
    "import pandas as pd\n",
    "import h5py\n",
    "import random\n",
    "import numpy as np\n",
    "import numpy_indexed as npi\n",
    "import time"
   ]
  },
  {
   "cell_type": "code",
   "execution_count": 2,
   "metadata": {},
   "outputs": [],
   "source": [
    "n_sampling = 50000"
   ]
  },
  {
   "cell_type": "markdown",
   "metadata": {},
   "source": [
    "input filenames"
   ]
  },
  {
   "cell_type": "code",
   "execution_count": 3,
   "metadata": {},
   "outputs": [],
   "source": [
    "ARCHS4_filename = \"../data/ARCHS4/human_matrix_v9.h5\"\n",
    "ARCHS4_filtered_sample_output_filename = \"../data/processed/ARCHS4/filtered_sample_list.txt\"\n",
    "\n",
    "l1000_all_gene_list = \"../data/L1000/all_gene_list.txt\"\n",
    "l1000_landmark_gene_list = \"../data/L1000/landmark_gene_list.txt\"\n",
    "\n",
    "archs4_all_gene_list = \"../data/ARCHS4/all_gene_list.txt\"\n",
    "\n",
    "gtex_l1000_all_gene_list = \"../data/GTEx/l1000_all_gene_list.txt\"\n",
    "gtex_l1000_landmark_gene_list = \"../data/GTEx/l1000_landmark_gene_list.txt\"\n",
    "\n",
    "gtex_rnaseq_all_gene_list = \"../data/GTEx/rnaseq_all_gene_list.txt\""
   ]
  },
  {
   "cell_type": "markdown",
   "metadata": {},
   "source": [
    "output filenames"
   ]
  },
  {
   "cell_type": "code",
   "execution_count": 4,
   "metadata": {},
   "outputs": [],
   "source": [
    "ARCHS4_full_dimension_sampled_output_filename = \"../data/processed/ARCHS4/human_matrix_v9_filtered_n{}x{}.f\""
   ]
  },
  {
   "cell_type": "markdown",
   "metadata": {},
   "source": [
    "# Get overlap landmark genes"
   ]
  },
  {
   "cell_type": "code",
   "execution_count": 5,
   "metadata": {},
   "outputs": [],
   "source": [
    "with open(l1000_landmark_gene_list, \"r\") as f:\n",
    "    l1000_landmark_gene = [x.strip() for x in f.readlines()]\n",
    "with open(archs4_all_gene_list, \"r\") as f:\n",
    "    archs4_all_gene = [x.strip() for x in f.readlines()]\n",
    "with open(gtex_l1000_landmark_gene_list, \"r\") as f:\n",
    "    gtex_l1000_landmark_gene = [x.strip() for x in f.readlines()]\n",
    "with open(gtex_rnaseq_all_gene_list, \"r\") as f:\n",
    "    gtex_rnaseq_all_gene = [x.strip() for x in f.readlines()]\n",
    "    \n",
    "\n"
   ]
  },
  {
   "cell_type": "code",
   "execution_count": 6,
   "metadata": {},
   "outputs": [],
   "source": [
    "overlap_landmark_genes = list(set(l1000_landmark_gene).intersection(archs4_all_gene).intersection(gtex_l1000_landmark_gene).intersection(gtex_rnaseq_all_gene))\n",
    "overlap_rnaseq_genes = list(set(archs4_all_gene).intersection(gtex_rnaseq_all_gene)) # common genes in ARCHS4 and GTEx RNA-seq"
   ]
  },
  {
   "cell_type": "code",
   "execution_count": 7,
   "metadata": {},
   "outputs": [
    {
     "name": "stdout",
     "output_type": "stream",
     "text": [
      "Processing RNA-seq data.....\n"
     ]
    }
   ],
   "source": [
    "# Import ARCHS4 RNA-seq samples \n",
    "print('Processing RNA-seq data.....')\n",
    "h5 = h5py.File(ARCHS4_filename, 'r')\n",
    "data_file = h5['data'] \n",
    "expression = data_file['expression']\n",
    "genes = [x for x in h5['meta']['genes']['genes']]\n",
    "sample_geo_list = list(h5['meta']['samples']['geo_accession'])"
   ]
  },
  {
   "cell_type": "code",
   "execution_count": 8,
   "metadata": {},
   "outputs": [],
   "source": [
    "with open(ARCHS4_filtered_sample_output_filename, \"r\") as f:\n",
    "    filtered_sample_ids = [x.strip() for x in f.readlines()] #~150K"
   ]
  },
  {
   "cell_type": "code",
   "execution_count": 70,
   "metadata": {},
   "outputs": [],
   "source": [
    "# random sampling\n",
    "sampled_ids = random.sample(filtered_sample_ids, n_sampling) "
   ]
  },
  {
   "cell_type": "code",
   "execution_count": 71,
   "metadata": {},
   "outputs": [],
   "source": [
    "# index of selected samples\n",
    "sampled_index = npi.indices(sample_geo_list, sampled_ids)"
   ]
  },
  {
   "cell_type": "code",
   "execution_count": 72,
   "metadata": {},
   "outputs": [],
   "source": [
    "sample_index_to_id_dict = dict(zip(sampled_index, sampled_ids))"
   ]
  },
  {
   "cell_type": "code",
   "execution_count": 74,
   "metadata": {
    "scrolled": true
   },
   "outputs": [
    {
     "name": "stdout",
     "output_type": "stream",
     "text": [
      "0 6.838150501251221\n",
      "1 7.429656028747559\n",
      "2 7.289673566818237\n",
      "3 7.372851610183716\n",
      "4 7.3234357833862305\n",
      "5 7.4700281620025635\n",
      "6 7.361299753189087\n",
      "7 7.389813184738159\n",
      "8 7.507824659347534\n",
      "9 7.453062534332275\n",
      "10 7.482926368713379\n",
      "11 7.4464943408966064\n",
      "12 7.53975248336792\n",
      "13 7.583191633224487\n",
      "14 7.50426173210144\n",
      "15 7.644843816757202\n",
      "16 7.5303053855896\n",
      "17 7.552522897720337\n",
      "18 7.573420286178589\n",
      "19 7.760143041610718\n",
      "20 7.572859764099121\n",
      "21 7.539182186126709\n",
      "22 7.680570125579834\n",
      "23 7.515921592712402\n",
      "24 7.444918394088745\n",
      "25 7.405945301055908\n",
      "26 7.534308910369873\n",
      "27 7.543490409851074\n",
      "28 7.517668008804321\n",
      "29 7.499485969543457\n",
      "30 7.442661285400391\n",
      "31 7.458033323287964\n",
      "32 7.49985408782959\n",
      "33 7.471463441848755\n",
      "34 7.471463680267334\n",
      "35 7.578266143798828\n",
      "36 7.394474267959595\n",
      "37 7.435899972915649\n",
      "38 7.417991876602173\n",
      "39 7.603836297988892\n",
      "40 7.3987884521484375\n",
      "41 7.56351375579834\n",
      "42 7.6281208992004395\n",
      "43 7.431013822555542\n",
      "44 7.542052507400513\n",
      "45 7.3841774463653564\n",
      "46 7.427540063858032\n",
      "47 7.6438868045806885\n",
      "48 7.395033359527588\n",
      "49 7.455832242965698\n",
      "50 7.408793926239014\n",
      "51 7.605733156204224\n",
      "52 7.589139938354492\n",
      "53 7.461021900177002\n",
      "54 7.46959924697876\n",
      "55 7.490238904953003\n",
      "56 7.494011163711548\n",
      "57 7.528501033782959\n",
      "58 7.485671758651733\n",
      "59 7.4470884799957275\n",
      "60 7.6389992237091064\n",
      "61 7.625748872756958\n",
      "62 7.5114805698394775\n",
      "63 7.4731714725494385\n",
      "64 7.369724273681641\n",
      "65 7.488072395324707\n",
      "66 7.370946168899536\n",
      "67 7.439859628677368\n",
      "68 7.430535554885864\n",
      "69 7.4497389793396\n",
      "70 7.530967712402344\n",
      "71 7.488084077835083\n",
      "72 7.568009614944458\n",
      "73 7.478204250335693\n",
      "74 7.629688262939453\n",
      "75 7.6437976360321045\n",
      "76 7.5827038288116455\n",
      "77 7.534931659698486\n",
      "78 7.526721715927124\n",
      "79 7.609795808792114\n",
      "80 7.518003940582275\n",
      "81 7.498975992202759\n",
      "82 7.355817794799805\n",
      "83 7.513811111450195\n",
      "84 7.505064249038696\n",
      "85 7.63263726234436\n",
      "86 7.632748603820801\n",
      "87 7.584230422973633\n",
      "88 7.467355728149414\n",
      "89 7.530911445617676\n",
      "90 7.471899747848511\n",
      "91 7.5300819873809814\n",
      "92 7.459884405136108\n",
      "93 7.554924964904785\n",
      "94 7.524028301239014\n",
      "95 7.502986669540405\n",
      "96 7.574179649353027\n",
      "97 7.522375106811523\n",
      "98 7.45723032951355\n",
      "99 7.530673027038574\n"
     ]
    }
   ],
   "source": [
    "chunk_size = 500\n",
    "sampled_expression_gene = list()\n",
    "strt_time = time.time()\n",
    "for i in range(int(n_sampling/chunk_size)):\n",
    "    sampled_index_i = sampled_index[i*chunk_size:(i+1)*chunk_size]\n",
    "    expression_i = expression[:, sorted(sampled_index_i)]\n",
    "    expression_i_df = pd.DataFrame(expression_i)\n",
    "    expression_i_df.columns = [sample_index_to_id_dict[k] for k in sorted(sampled_index_i)]\n",
    "    sampled_expression_gene.append(expression_i_df)\n",
    "#     break\n",
    "\n",
    "    print(i, time.time()-strt_time)\n",
    "    strt_time = time.time()"
   ]
  },
  {
   "cell_type": "code",
   "execution_count": 84,
   "metadata": {},
   "outputs": [],
   "source": [
    "sampled_expression_df = pd.concat(sampled_expression_gene, axis=1)"
   ]
  },
  {
   "cell_type": "code",
   "execution_count": 85,
   "metadata": {
    "scrolled": false
   },
   "outputs": [],
   "source": [
    "sampled_expression_df.index = genes"
   ]
  },
  {
   "cell_type": "code",
   "execution_count": 86,
   "metadata": {},
   "outputs": [],
   "source": [
    "sampled_expression_df = sampled_expression_df.T"
   ]
  },
  {
   "cell_type": "code",
   "execution_count": 88,
   "metadata": {},
   "outputs": [],
   "source": [
    "sampled_expression_df.reset_index().to_feather(ARCHS4_full_dimension_sampled_output_filename.format(sampled_expression_df.shape[0], sampled_expression_df.shape[1]))"
   ]
  },
  {
   "cell_type": "code",
   "execution_count": 89,
   "metadata": {},
   "outputs": [
    {
     "data": {
      "text/plain": [
       "'../data/processed/ARCHS4/human_matrix_v9_filtered_n50000x35238.f'"
      ]
     },
     "execution_count": 89,
     "metadata": {},
     "output_type": "execute_result"
    }
   ],
   "source": [
    "ARCHS4_full_dimension_sampled_output_filename.format(sampled_expression_df.shape[0], sampled_expression_df.shape[1])"
   ]
  },
  {
   "cell_type": "code",
   "execution_count": null,
   "metadata": {},
   "outputs": [],
   "source": []
  },
  {
   "cell_type": "code",
   "execution_count": null,
   "metadata": {},
   "outputs": [],
   "source": []
  },
  {
   "cell_type": "markdown",
   "metadata": {},
   "source": [
    "# Re-load"
   ]
  },
  {
   "cell_type": "code",
   "execution_count": 10,
   "metadata": {},
   "outputs": [],
   "source": [
    "archs4_preprocessed = pd.read_feather('../data/processed/ARCHS4/human_matrix_v9_filtered_n50000x35238.f')"
   ]
  },
  {
   "cell_type": "code",
   "execution_count": 11,
   "metadata": {},
   "outputs": [],
   "source": [
    "first_column = archs4_preprocessed.columns.tolist()[0]\n",
    "archs4_preprocessed = archs4_preprocessed.set_index(first_column)"
   ]
  },
  {
   "cell_type": "code",
   "execution_count": 12,
   "metadata": {},
   "outputs": [
    {
     "data": {
      "text/html": [
       "<div>\n",
       "<style scoped>\n",
       "    .dataframe tbody tr th:only-of-type {\n",
       "        vertical-align: middle;\n",
       "    }\n",
       "\n",
       "    .dataframe tbody tr th {\n",
       "        vertical-align: top;\n",
       "    }\n",
       "\n",
       "    .dataframe thead th {\n",
       "        text-align: right;\n",
       "    }\n",
       "</style>\n",
       "<table border=\"1\" class=\"dataframe\">\n",
       "  <thead>\n",
       "    <tr style=\"text-align: right;\">\n",
       "      <th></th>\n",
       "      <th>A1BG</th>\n",
       "      <th>A1CF</th>\n",
       "      <th>A2M</th>\n",
       "      <th>A2ML1</th>\n",
       "      <th>A2MP1</th>\n",
       "      <th>A3GALT2</th>\n",
       "      <th>A4GALT</th>\n",
       "      <th>A4GNT</th>\n",
       "      <th>AAAS</th>\n",
       "      <th>AACS</th>\n",
       "      <th>...</th>\n",
       "      <th>BP-21201H5.1</th>\n",
       "      <th>BP-21264C1.1</th>\n",
       "      <th>BP-2168N6.1</th>\n",
       "      <th>BP-2168N6.3</th>\n",
       "      <th>BP-2171C21.2</th>\n",
       "      <th>BP-2171C21.4</th>\n",
       "      <th>BP-2171C21.5</th>\n",
       "      <th>BP-2171C21.6</th>\n",
       "      <th>BP-2189O9.2</th>\n",
       "      <th>YR211F11.2</th>\n",
       "    </tr>\n",
       "    <tr>\n",
       "      <th>index</th>\n",
       "      <th></th>\n",
       "      <th></th>\n",
       "      <th></th>\n",
       "      <th></th>\n",
       "      <th></th>\n",
       "      <th></th>\n",
       "      <th></th>\n",
       "      <th></th>\n",
       "      <th></th>\n",
       "      <th></th>\n",
       "      <th></th>\n",
       "      <th></th>\n",
       "      <th></th>\n",
       "      <th></th>\n",
       "      <th></th>\n",
       "      <th></th>\n",
       "      <th></th>\n",
       "      <th></th>\n",
       "      <th></th>\n",
       "      <th></th>\n",
       "      <th></th>\n",
       "    </tr>\n",
       "  </thead>\n",
       "  <tbody>\n",
       "    <tr>\n",
       "      <th>GSM2324158</th>\n",
       "      <td>0</td>\n",
       "      <td>0</td>\n",
       "      <td>6</td>\n",
       "      <td>0</td>\n",
       "      <td>0</td>\n",
       "      <td>0</td>\n",
       "      <td>0</td>\n",
       "      <td>0</td>\n",
       "      <td>0</td>\n",
       "      <td>0</td>\n",
       "      <td>...</td>\n",
       "      <td>0</td>\n",
       "      <td>0</td>\n",
       "      <td>0</td>\n",
       "      <td>0</td>\n",
       "      <td>0</td>\n",
       "      <td>0</td>\n",
       "      <td>0</td>\n",
       "      <td>0</td>\n",
       "      <td>0</td>\n",
       "      <td>0</td>\n",
       "    </tr>\n",
       "    <tr>\n",
       "      <th>GSM3369560</th>\n",
       "      <td>691</td>\n",
       "      <td>14</td>\n",
       "      <td>4</td>\n",
       "      <td>9</td>\n",
       "      <td>3</td>\n",
       "      <td>0</td>\n",
       "      <td>1373</td>\n",
       "      <td>1</td>\n",
       "      <td>1507</td>\n",
       "      <td>1910</td>\n",
       "      <td>...</td>\n",
       "      <td>3</td>\n",
       "      <td>6</td>\n",
       "      <td>0</td>\n",
       "      <td>0</td>\n",
       "      <td>0</td>\n",
       "      <td>8</td>\n",
       "      <td>8</td>\n",
       "      <td>61</td>\n",
       "      <td>11</td>\n",
       "      <td>0</td>\n",
       "    </tr>\n",
       "    <tr>\n",
       "      <th>GSM4792403</th>\n",
       "      <td>11</td>\n",
       "      <td>0</td>\n",
       "      <td>1</td>\n",
       "      <td>3</td>\n",
       "      <td>0</td>\n",
       "      <td>0</td>\n",
       "      <td>0</td>\n",
       "      <td>0</td>\n",
       "      <td>116</td>\n",
       "      <td>18</td>\n",
       "      <td>...</td>\n",
       "      <td>1</td>\n",
       "      <td>61</td>\n",
       "      <td>0</td>\n",
       "      <td>0</td>\n",
       "      <td>0</td>\n",
       "      <td>0</td>\n",
       "      <td>0</td>\n",
       "      <td>1</td>\n",
       "      <td>102</td>\n",
       "      <td>0</td>\n",
       "    </tr>\n",
       "    <tr>\n",
       "      <th>GSM3972247</th>\n",
       "      <td>71</td>\n",
       "      <td>165</td>\n",
       "      <td>25</td>\n",
       "      <td>10</td>\n",
       "      <td>0</td>\n",
       "      <td>0</td>\n",
       "      <td>567</td>\n",
       "      <td>15</td>\n",
       "      <td>4763</td>\n",
       "      <td>3177</td>\n",
       "      <td>...</td>\n",
       "      <td>90</td>\n",
       "      <td>21</td>\n",
       "      <td>0</td>\n",
       "      <td>0</td>\n",
       "      <td>3</td>\n",
       "      <td>3</td>\n",
       "      <td>2</td>\n",
       "      <td>9</td>\n",
       "      <td>38</td>\n",
       "      <td>1</td>\n",
       "    </tr>\n",
       "    <tr>\n",
       "      <th>GSM3900214</th>\n",
       "      <td>163</td>\n",
       "      <td>1</td>\n",
       "      <td>0</td>\n",
       "      <td>14</td>\n",
       "      <td>0</td>\n",
       "      <td>0</td>\n",
       "      <td>18</td>\n",
       "      <td>0</td>\n",
       "      <td>1433</td>\n",
       "      <td>1353</td>\n",
       "      <td>...</td>\n",
       "      <td>0</td>\n",
       "      <td>0</td>\n",
       "      <td>0</td>\n",
       "      <td>0</td>\n",
       "      <td>0</td>\n",
       "      <td>0</td>\n",
       "      <td>0</td>\n",
       "      <td>0</td>\n",
       "      <td>0</td>\n",
       "      <td>0</td>\n",
       "    </tr>\n",
       "  </tbody>\n",
       "</table>\n",
       "<p>5 rows × 35238 columns</p>\n",
       "</div>"
      ],
      "text/plain": [
       "            A1BG  A1CF  A2M  A2ML1  A2MP1  A3GALT2  A4GALT  A4GNT  AAAS  AACS  \\\n",
       "index                                                                           \n",
       "GSM2324158     0     0    6      0      0        0       0      0     0     0   \n",
       "GSM3369560   691    14    4      9      3        0    1373      1  1507  1910   \n",
       "GSM4792403    11     0    1      3      0        0       0      0   116    18   \n",
       "GSM3972247    71   165   25     10      0        0     567     15  4763  3177   \n",
       "GSM3900214   163     1    0     14      0        0      18      0  1433  1353   \n",
       "\n",
       "            ...  BP-21201H5.1  BP-21264C1.1  BP-2168N6.1  BP-2168N6.3  \\\n",
       "index       ...                                                         \n",
       "GSM2324158  ...             0             0            0            0   \n",
       "GSM3369560  ...             3             6            0            0   \n",
       "GSM4792403  ...             1            61            0            0   \n",
       "GSM3972247  ...            90            21            0            0   \n",
       "GSM3900214  ...             0             0            0            0   \n",
       "\n",
       "            BP-2171C21.2  BP-2171C21.4  BP-2171C21.5  BP-2171C21.6  \\\n",
       "index                                                                \n",
       "GSM2324158             0             0             0             0   \n",
       "GSM3369560             0             8             8            61   \n",
       "GSM4792403             0             0             0             1   \n",
       "GSM3972247             3             3             2             9   \n",
       "GSM3900214             0             0             0             0   \n",
       "\n",
       "            BP-2189O9.2  YR211F11.2  \n",
       "index                                \n",
       "GSM2324158            0           0  \n",
       "GSM3369560           11           0  \n",
       "GSM4792403          102           0  \n",
       "GSM3972247           38           1  \n",
       "GSM3900214            0           0  \n",
       "\n",
       "[5 rows x 35238 columns]"
      ]
     },
     "execution_count": 12,
     "metadata": {},
     "output_type": "execute_result"
    }
   ],
   "source": [
    "archs4_preprocessed.head()"
   ]
  },
  {
   "cell_type": "markdown",
   "metadata": {},
   "source": [
    "We retained genes with read counts of at least 10 in 2% (200) of the samples"
   ]
  },
  {
   "cell_type": "code",
   "execution_count": 16,
   "metadata": {},
   "outputs": [],
   "source": [
    "sample_count_for_gene = archs4_preprocessed[archs4_preprocessed>10].count() #> archs4_preprocessed.shape[0]"
   ]
  },
  {
   "cell_type": "code",
   "execution_count": 19,
   "metadata": {
    "scrolled": true
   },
   "outputs": [],
   "source": [
    "genes_with_high_count = sample_count_for_gene[sample_count_for_gene>int(archs4_preprocessed.shape[0]*0.02)].index.tolist()"
   ]
  },
  {
   "cell_type": "code",
   "execution_count": 21,
   "metadata": {},
   "outputs": [],
   "source": [
    "archs4_preprocessed_high_count_genes = archs4_preprocessed[genes_with_high_count]\n",
    "archs4_preprocessed_high_count_genes.reset_index().to_feather(ARCHS4_full_dimension_sampled_output_filename.format(archs4_preprocessed_high_count_genes.shape[0], archs4_preprocessed_high_count_genes.shape[1]))"
   ]
  },
  {
   "cell_type": "code",
   "execution_count": 22,
   "metadata": {},
   "outputs": [
    {
     "data": {
      "text/plain": [
       "'../data/processed/ARCHS4/human_matrix_v9_filtered_n50000x25312.f'"
      ]
     },
     "execution_count": 22,
     "metadata": {},
     "output_type": "execute_result"
    }
   ],
   "source": [
    "ARCHS4_full_dimension_sampled_output_filename.format(archs4_preprocessed_high_count_genes.shape[0], archs4_preprocessed_high_count_genes.shape[1])"
   ]
  },
  {
   "cell_type": "code",
   "execution_count": null,
   "metadata": {},
   "outputs": [],
   "source": []
  }
 ],
 "metadata": {
  "kernelspec": {
   "display_name": "python37",
   "language": "python",
   "name": "python37"
  },
  "language_info": {
   "codemirror_mode": {
    "name": "ipython",
    "version": 3
   },
   "file_extension": ".py",
   "mimetype": "text/x-python",
   "name": "python",
   "nbconvert_exporter": "python",
   "pygments_lexer": "ipython3",
   "version": "3.7.9"
  }
 },
 "nbformat": 4,
 "nbformat_minor": 4
}
