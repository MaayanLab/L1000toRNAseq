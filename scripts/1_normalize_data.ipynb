{
 "cells": [
  {
   "cell_type": "code",
   "execution_count": 66,
   "metadata": {},
   "outputs": [],
   "source": [
    "import pandas as pd\n",
    "import scipy.stats as ss\n",
    "import warnings\n",
    "import numpy as np\n",
    "from maayanlab_bioinformatics.normalization import quantile_normalize"
   ]
  },
  {
   "cell_type": "code",
   "execution_count": 67,
   "metadata": {},
   "outputs": [],
   "source": [
    "n_sampling = 50000\n",
    "rnaseq_combine_bool = True"
   ]
  },
  {
   "cell_type": "code",
   "execution_count": 68,
   "metadata": {},
   "outputs": [],
   "source": [
    "l1000_overlap_landmark_input_filename = f\"../data/processed/L1000/L1000_filtered_GSE92742_Broad_LINCS_Level3_INF_mlr12k_n{n_sampling}x962.f\"\n",
    "ARCHS4_filtered_overlap_landmark_input_filename = f\"../data/processed/ARCHS4/human_matrix_v9_filtered_n{n_sampling}x962.f\"\n",
    "\n",
    "gtex_filtered_l1000_input_filename = \"../data/processed/GTEx/GSE92743_Broad_GTEx_L1000_Level3_Q2NORM_filtered_n2929x962.f\"\n",
    "gtex_filtered_rnaseq_input_filename = \"../data/processed/GTEx/GSE92743_Broad_GTEx_RNAseq_Log2RPKM_q2norm_filtered_n2929x962.f\"\n"
   ]
  },
  {
   "cell_type": "code",
   "execution_count": 69,
   "metadata": {},
   "outputs": [],
   "source": [
    "# l1000_overlap_landmark_output_filename = f\"../data/processed/L1000/L1000_filtered_GSE92742_Broad_LINCS_Level3_INF_mlr12k_n{n_sampling}x962_v2.f\"\n",
    "# ARCHS4_filtered_overlap_landmark_output_filename = f\"../data/processed/ARCHS4/human_matrix_v9_filtered_n{n_sampling}x962_v2.f\"\n",
    "\n",
    "# gtex_filtered_l1000_output_filename = \"../data/processed/GTEx/GSE92743_Broad_GTEx_L1000_Level3_Q2NORM_filtered_n2929x962_v2.f\"\n",
    "# gtex_filtered_rnaseq_output_filename = \"../data/processed/GTEx/GSE92743_Broad_GTEx_RNAseq_Log2RPKM_q2norm_filtered_n2929x962_v2.f\"\n",
    "l1000_overlap_landmark_output_filename = f\"../data/processed/L1000/L1000_filtered_GSE92742_Broad_LINCS_Level3_INF_mlr12k_n{n_sampling}x962_v3.f\"\n",
    "ARCHS4_filtered_overlap_landmark_output_filename = f\"../data/processed/ARCHS4/human_matrix_v9_filtered_n{n_sampling}x962_v3.f\"\n",
    "\n",
    "gtex_filtered_l1000_output_filename = \"../data/processed/GTEx/GSE92743_Broad_GTEx_L1000_Level3_Q2NORM_filtered_n2929x962_v3.f\"\n",
    "gtex_filtered_rnaseq_output_filename = \"../data/processed/GTEx/GSE92743_Broad_GTEx_RNAseq_Log2RPKM_q2norm_filtered_n2929x962_v3.f\"\n"
   ]
  },
  {
   "cell_type": "code",
   "execution_count": 70,
   "metadata": {},
   "outputs": [],
   "source": [
    "def read_data(filename):\n",
    "    df = pd.read_feather(filename)\n",
    "    first_column = df.columns[0]\n",
    "    df = df.set_index(first_column)\n",
    "    # df = df.astype('int32')\n",
    "    return df\n",
    "    \n",
    "def save_feather(obj, filename):\n",
    "    obj.reset_index().to_feather(filename)\n",
    "    print(filename)"
   ]
  },
  {
   "cell_type": "code",
   "execution_count": 71,
   "metadata": {},
   "outputs": [
    {
     "data": {
      "text/plain": [
       "'../data/processed/GTEx/GSE92743_Broad_GTEx_L1000_Level3_Q2NORM_filtered_n2929x962.f'"
      ]
     },
     "execution_count": 71,
     "metadata": {},
     "output_type": "execute_result"
    }
   ],
   "source": [
    "gtex_filtered_l1000_input_filename"
   ]
  },
  {
   "cell_type": "code",
   "execution_count": 72,
   "metadata": {},
   "outputs": [],
   "source": [
    "l1000 = read_data(l1000_overlap_landmark_input_filename)\n",
    "ARCHS4 = read_data(ARCHS4_filtered_overlap_landmark_input_filename)\n",
    "gtex_l1000 = read_data(gtex_filtered_l1000_input_filename)\n",
    "gtex_rnaseq = read_data(gtex_filtered_rnaseq_input_filename)\n"
   ]
  },
  {
   "cell_type": "code",
   "execution_count": 73,
   "metadata": {},
   "outputs": [],
   "source": [
    "def CPM(data):\n",
    "\n",
    "    with warnings.catch_warnings():\n",
    "        warnings.simplefilter(\"ignore\")\n",
    "        data = (data/data.sum())*10**6\n",
    "        data = data.fillna(0)\n",
    "        \n",
    "    return data\n",
    "def logCPM(data):\n",
    "\n",
    "    with warnings.catch_warnings():\n",
    "        warnings.simplefilter(\"ignore\")\n",
    "        data = (data/data.sum())*10**6\n",
    "        data = data.fillna(0)\n",
    "        data = np.log10(data+1)\n",
    "\n",
    "    # Return\n",
    "    return data\n",
    "def log(data):\n",
    "\n",
    "    with warnings.catch_warnings():\n",
    "        warnings.simplefilter(\"ignore\")\n",
    "        data = data.fillna(0)\n",
    "        data = np.log10(data+1)\n",
    "\n",
    "    return data\n",
    "\n",
    "def rpkm(counts, lengths):\n",
    "    \"\"\"Calculate reads per kilobase transcript per million reads.\n",
    "\n",
    "    RPKM = (10^9 * C) / (N * L)\n",
    "\n",
    "    Where:\n",
    "    C = Number of reads mapped to a gene\n",
    "    N = Total mapped reads in the experiment\n",
    "    L = Exon length in base pairs for a gene\n",
    "\n",
    "    Parameters\n",
    "    ----------\n",
    "    counts: array, shape (N_genes, N_samples)\n",
    "        RNAseq (or similar) count data where columns are individual samples\n",
    "        and rows are genes.\n",
    "    lengths: array, shape (N_genes,)\n",
    "        Gene lengths in base pairs in the same order\n",
    "        as the rows in counts.\n",
    "\n",
    "    Returns\n",
    "    -------\n",
    "    normed : array, shape (N_genes, N_samples)\n",
    "        The RPKM normalized counts matrix.\n",
    "    \"\"\"\n",
    "    N = np.sum(counts, axis=0)  # sum each column to get total reads per sample\n",
    "    L = lengths\n",
    "    C = counts\n",
    "\n",
    "    normed = 1e9 * C / (N[np.newaxis, :] * L[:, np.newaxis])\n",
    "\n",
    "    return(normed)\n",
    "    \n",
    "def qnormalization(data):\n",
    "\n",
    "    X_quantile_norm = quantile_normalize(data)\n",
    "    return X_quantile_norm  \n",
    "\n",
    "def normalization(data, logCPM_normalization=False, CPM_normalization=False, log_normalization=False, z_normalization=False, q_normalization=False):\n",
    "    if logCPM_normalization == True:  \n",
    "        data = logCPM(data)\n",
    "    if CPM_normalization == True:\n",
    "        data = CPM(data)\n",
    "    if log_normalization == True:   \n",
    "        data = log(data)\n",
    "        \n",
    "    if q_normalization == True:\n",
    "        data = qnormalization(data)\n",
    "        \n",
    "    \n",
    "    if z_normalization == True: \n",
    "        data = data.T.apply(ss.zscore, axis=0).T.dropna()\n",
    "\n",
    "    return data"
   ]
  },
  {
   "cell_type": "markdown",
   "metadata": {},
   "source": [
    "# RNA-seq"
   ]
  },
  {
   "cell_type": "code",
   "execution_count": 74,
   "metadata": {
    "scrolled": true
   },
   "outputs": [],
   "source": [
    "# combine all rna-seq (ARCHS4 and GTEx) and normalize together\n",
    "if rnaseq_combine_bool == True:\n",
    "    # GTEx logCPM first\n",
    "    sorted_gtex_rnaseq = gtex_rnaseq.sort_index(axis=1)\n",
    "    sorted_gtex_rnaseq = sorted_gtex_rnaseq.astype('int32')\n",
    "    normalized_gtex_rnaseq = normalization(sorted_gtex_rnaseq.T, logCPM_normalization=True).T\n",
    "    \n",
    "    # ARCHS4 logCPM \n",
    "    normalized_ARCHS4 = normalization(ARCHS4.T, logCPM_normalization=True).T\n",
    "    # combine and quantile normalization\n",
    "    combined_rnaseq = pd.concat([normalized_ARCHS4, normalized_gtex_rnaseq])\n",
    "    \n",
    "    normalized_combined_rnaseq = normalization(combined_rnaseq.T, q_normalization=True).T\n",
    "    \n",
    "    #split \n",
    "    normalized_ARCHS4 = normalized_combined_rnaseq.loc[normalized_combined_rnaseq.index.str.startswith(\"GSM\"), :]\n",
    "    normalized_gtex_rnaseq = normalized_combined_rnaseq.loc[normalized_combined_rnaseq.index.str.startswith(\"GTEX\"), :]\n",
    "else:\n",
    "    sorted_gtex_rnaseq = gtex_rnaseq.sort_index(axis=1)\n",
    "    sorted_gtex_rnaseq = sorted_gtex_rnaseq.astype('int32')\n",
    "    normalized_gtex_rnaseq = normalization(sorted_gtex_rnaseq.T, logCPM_normalization=True, q_normalization=True).T\n",
    "    \n",
    "    \n",
    "    normalized_ARCHS4 = normalization(ARCHS4.T, logCPM_normalization=True, q_normalization=True).T\n",
    "#     "
   ]
  },
  {
   "cell_type": "markdown",
   "metadata": {},
   "source": [
    "# L1000"
   ]
  },
  {
   "cell_type": "code",
   "execution_count": 75,
   "metadata": {},
   "outputs": [],
   "source": [
    "sorted_l1000 = l1000.sort_index(axis=1)\n",
    "normalized_l1000 = normalization(sorted_l1000.T, q_normalization=True).T"
   ]
  },
  {
   "cell_type": "markdown",
   "metadata": {},
   "source": [
    "# Save"
   ]
  },
  {
   "cell_type": "code",
   "execution_count": null,
   "metadata": {},
   "outputs": [],
   "source": [
    "normalized_l1000.reset_index().to_feather(l1000_overlap_landmark_output_filename)"
   ]
  },
  {
   "cell_type": "code",
   "execution_count": 40,
   "metadata": {},
   "outputs": [],
   "source": [
    "normalized_ARCHS4.reset_index().to_feather(ARCHS4_filtered_overlap_landmark_output_filename)"
   ]
  },
  {
   "cell_type": "code",
   "execution_count": 41,
   "metadata": {},
   "outputs": [],
   "source": [
    "normalized_gtex_rnaseq.reset_index().to_feather(gtex_filtered_rnaseq_output_filename)"
   ]
  },
  {
   "cell_type": "code",
   "execution_count": 42,
   "metadata": {},
   "outputs": [],
   "source": [
    "sorted_gtex_l1000 = gtex_l1000.sort_index(axis=1)\n",
    "normalized_gtex_l1000 = normalization(sorted_gtex_l1000.T, q_normalization=True).T\n",
    "normalized_gtex_l1000.reset_index().to_feather(gtex_filtered_l1000_output_filename)"
   ]
  },
  {
   "cell_type": "code",
   "execution_count": null,
   "metadata": {},
   "outputs": [],
   "source": []
  }
 ],
 "metadata": {
  "kernelspec": {
   "display_name": "python37",
   "language": "python",
   "name": "python37"
  },
  "language_info": {
   "codemirror_mode": {
    "name": "ipython",
    "version": 3
   },
   "file_extension": ".py",
   "mimetype": "text/x-python",
   "name": "python",
   "nbconvert_exporter": "python",
   "pygments_lexer": "ipython3",
   "version": "3.7.9"
  }
 },
 "nbformat": 4,
 "nbformat_minor": 4
}
