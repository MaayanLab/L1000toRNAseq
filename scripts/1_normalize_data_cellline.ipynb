{
 "cells": [
  {
   "cell_type": "code",
   "execution_count": 2,
   "metadata": {},
   "outputs": [],
   "source": [
    "import pandas as pd\n",
    "import scipy.stats as ss\n",
    "import warnings\n",
    "import numpy as np\n",
    "import os\n",
    "from maayanlab_bioinformatics.normalization import quantile_normalize"
   ]
  },
  {
   "cell_type": "code",
   "execution_count": 3,
   "metadata": {},
   "outputs": [],
   "source": [
    "n_sampling = 50000"
   ]
  },
  {
   "cell_type": "code",
   "execution_count": 4,
   "metadata": {},
   "outputs": [],
   "source": [
    "l1000_overlap_landmark_input_filename = \"../data/processed/L1000/L1000_filtered_GSE92742_Broad_LINCS_Level3_INF_mlr12k_n{}x962_cellline_{}.f\"\n",
    "ARCHS4_filtered_overlap_landmark_input_filename = \"../data/processed/ARCHS4/human_matrix_v9_filtered_n{}x962.f\"\n",
    "\n",
    "gtex_filtered_l1000_input_filename = \"../data/processed/GTEx/GSE92743_Broad_GTEx_L1000_Level3_Q2NORM_filtered_n{}x962_cellline_{}.f\"\n",
    "gtex_filtered_rnaseq_input_filename = \"../data/processed/GTEx/GSE92743_Broad_GTEx_RNAseq_Log2RPKM_q2norm_filtered_n{}x962.f\"\n"
   ]
  },
  {
   "cell_type": "code",
   "execution_count": 5,
   "metadata": {},
   "outputs": [],
   "source": [
    "l1000_overlap_landmark_output_filename = \"../data/processed/L1000/L1000_filtered_GSE92742_Broad_LINCS_Level3_INF_mlr12k_n{}x962_cellline_{}_v2.f\"\n",
    "ARCHS4_filtered_overlap_landmark_output_filename = \"../data/processed/ARCHS4/human_matrix_v9_filtered_n{}x962_v2.f\"\n",
    "\n",
    "# gtex_filtered_l1000_output_filename = \"../data/processed/GTEx/GSE92743_Broad_GTEx_L1000_Level3_Q2NORM_filtered_n2929x962_cellline_{}_v2.f\"\n",
    "# gtex_filtered_rnaseq_output_filename = \"../data/processed/GTEx/GSE92743_Broad_GTEx_RNAseq_Log2RPKM_q2norm_filtered_n2929x962_v2.f\"\n"
   ]
  },
  {
   "cell_type": "code",
   "execution_count": 6,
   "metadata": {},
   "outputs": [],
   "source": [
    "cell_lines = [\"MCF7\", \"PC3\", \"HA1E\", \"HCC515\", \"VCAP\", \"A375\", \"HEPG2\", \"HT29\", \"A549\"]"
   ]
  },
  {
   "cell_type": "code",
   "execution_count": 7,
   "metadata": {},
   "outputs": [],
   "source": [
    "def read_data(filename):\n",
    "    df = pd.read_feather(filename)\n",
    "    first_column = df.columns[0]\n",
    "    df = df.set_index(first_column)\n",
    "    # df = df.astype('int32')\n",
    "    return df\n",
    "    \n",
    "def save_feather(obj, filename):\n",
    "    obj.reset_index().to_feather(filename)\n",
    "    print(filename)\n",
    "\n",
    "def CPM(data):\n",
    "\n",
    "    with warnings.catch_warnings():\n",
    "        warnings.simplefilter(\"ignore\")\n",
    "        data = (data/data.sum())*10**6\n",
    "        data = data.fillna(0)\n",
    "        \n",
    "    return data\n",
    "def logCPM(data):\n",
    "\n",
    "    with warnings.catch_warnings():\n",
    "        warnings.simplefilter(\"ignore\")\n",
    "        data = (data/data.sum())*10**6\n",
    "        data = data.fillna(0)\n",
    "        data = np.log10(data+1)\n",
    "\n",
    "    # Return\n",
    "    return data\n",
    "def log(data):\n",
    "\n",
    "    with warnings.catch_warnings():\n",
    "        warnings.simplefilter(\"ignore\")\n",
    "        data = data.fillna(0)\n",
    "        data = np.log10(data+1)\n",
    "\n",
    "    return data\n",
    "\n",
    "def rpkm(counts, lengths):\n",
    "    \"\"\"Calculate reads per kilobase transcript per million reads.\n",
    "\n",
    "    RPKM = (10^9 * C) / (N * L)\n",
    "\n",
    "    Where:\n",
    "    C = Number of reads mapped to a gene\n",
    "    N = Total mapped reads in the experiment\n",
    "    L = Exon length in base pairs for a gene\n",
    "\n",
    "    Parameters\n",
    "    ----------\n",
    "    counts: array, shape (N_genes, N_samples)\n",
    "        RNAseq (or similar) count data where columns are individual samples\n",
    "        and rows are genes.\n",
    "    lengths: array, shape (N_genes,)\n",
    "        Gene lengths in base pairs in the same order\n",
    "        as the rows in counts.\n",
    "\n",
    "    Returns\n",
    "    -------\n",
    "    normed : array, shape (N_genes, N_samples)\n",
    "        The RPKM normalized counts matrix.\n",
    "    \"\"\"\n",
    "    N = np.sum(counts, axis=0)  # sum each column to get total reads per sample\n",
    "    L = lengths\n",
    "    C = counts\n",
    "\n",
    "    normed = 1e9 * C / (N[np.newaxis, :] * L[:, np.newaxis])\n",
    "\n",
    "    return(normed)\n",
    "    \n",
    "def qnormalization(data):\n",
    "\n",
    "    X_quantile_norm = quantile_normalize(data)\n",
    "    return X_quantile_norm  \n",
    "\n",
    "def normalization(data, logCPM_normalization=False, CPM_normalization=False, log_normalization=False, z_normalization=False, q_normalization=False):\n",
    "    if logCPM_normalization == True:  \n",
    "        data = logCPM(data)\n",
    "    if CPM_normalization == True:\n",
    "        data = CPM(data)\n",
    "    if log_normalization == True:   \n",
    "        data = log(data)\n",
    "        \n",
    "    if q_normalization == True:\n",
    "        data = qnormalization(data)\n",
    "        \n",
    "    \n",
    "    if z_normalization == True: \n",
    "        data = data.T.apply(ss.zscore, axis=0).T.dropna()\n",
    "\n",
    "    return data"
   ]
  },
  {
   "cell_type": "code",
   "execution_count": 8,
   "metadata": {},
   "outputs": [],
   "source": [
    "ARCHS4 = read_data(ARCHS4_filtered_overlap_landmark_input_filename.format(n_sampling))\n",
    "normalized_ARCHS4 = normalization(ARCHS4.T, logCPM_normalization=True, q_normalization=True).T\n",
    "normalized_ARCHS4.reset_index().to_feather(ARCHS4_filtered_overlap_landmark_output_filename)"
   ]
  },
  {
   "cell_type": "code",
   "execution_count": 9,
   "metadata": {},
   "outputs": [],
   "source": [
    "for cell_line in cell_lines:\n",
    "    l1000 = read_data(l1000_overlap_landmark_input_filename.format(n_sampling, cell_line))\n",
    "    \n",
    "    sorted_l1000 = l1000.sort_index(axis=1)\n",
    "    normalized_l1000 = normalization(sorted_l1000.T, q_normalization=True).T\n",
    "    normalized_l1000.reset_index().to_feather(l1000_overlap_landmark_output_filename.format(n_sampling, cell_line))\n"
   ]
  },
  {
   "cell_type": "code",
   "execution_count": 11,
   "metadata": {
    "tags": []
   },
   "outputs": [
    {
     "output_type": "stream",
     "name": "stdout",
     "text": [
      "MCF7 GSE92743_Broad_GTEx_L1000_Level3_Q2NORM_filtered_n43x962_cellline_MCF7.f\n",
      "(43, 962)\n",
      "MCF7 GSE92743_Broad_GTEx_RNAseq_Log2RPKM_q2norm_filtered_n43x962_cellline_MCF7.f\n",
      "(43, 962)\n",
      "PC3 GSE92743_Broad_GTEx_L1000_Level3_Q2NORM_filtered_n41x962_cellline_PC3.f\n",
      "(41, 962)\n",
      "PC3 GSE92743_Broad_GTEx_RNAseq_Log2RPKM_q2norm_filtered_n41x962_cellline_PC3.f\n",
      "(41, 962)\n",
      "HA1E GSE92743_Broad_GTEx_L1000_Level3_Q2NORM_filtered_n5x962_cellline_HA1E.f\n",
      "(5, 962)\n",
      "HA1E GSE92743_Broad_GTEx_RNAseq_Log2RPKM_q2norm_filtered_n5x962_cellline_HA1E.f\n",
      "(5, 962)\n",
      "HCC515 GSE92743_Broad_GTEx_L1000_Level3_Q2NORM_filtered_n133x962_cellline_HCC515.f\n",
      "(133, 962)\n",
      "HCC515 GSE92743_Broad_GTEx_RNAseq_Log2RPKM_q2norm_filtered_n133x962_cellline_HCC515.f\n",
      "(133, 962)\n",
      "VCAP GSE92743_Broad_GTEx_RNAseq_Log2RPKM_q2norm_filtered_n41x962_cellline_VCAP.f\n",
      "(41, 962)\n",
      "VCAP GSE92743_Broad_GTEx_L1000_Level3_Q2NORM_filtered_n41x962_cellline_VCAP.f\n",
      "(41, 962)\n",
      "A375 GSE92743_Broad_GTEx_L1000_Level3_Q2NORM_filtered_n151x962_cellline_A375.f\n",
      "(151, 962)\n",
      "A375 GSE92743_Broad_GTEx_RNAseq_Log2RPKM_q2norm_filtered_n151x962_cellline_A375.f\n",
      "(151, 962)\n",
      "HEPG2 GSE92743_Broad_GTEx_L1000_Level3_Q2NORM_filtered_n38x962_cellline_HEPG2.f\n",
      "(38, 962)\n",
      "HEPG2 GSE92743_Broad_GTEx_RNAseq_Log2RPKM_q2norm_filtered_n38x962_cellline_HEPG2.f\n",
      "(38, 962)\n",
      "HT29 GSE92743_Broad_GTEx_L1000_Level3_Q2NORM_filtered_n103x962_cellline_HT29.f\n",
      "(103, 962)\n",
      "HT29 GSE92743_Broad_GTEx_RNAseq_Log2RPKM_q2norm_filtered_n103x962_cellline_HT29.f\n",
      "(103, 962)\n",
      "A549 GSE92743_Broad_GTEx_RNAseq_Log2RPKM_q2norm_filtered_n133x962_cellline_A549.f\n",
      "(133, 962)\n",
      "A549 GSE92743_Broad_GTEx_L1000_Level3_Q2NORM_filtered_n133x962_cellline_A549.f\n",
      "(133, 962)\n"
     ]
    }
   ],
   "source": [
    "for cell_line in cell_lines:\n",
    "    folder = \"../data/processed/GTEx/\"\n",
    "    filenames = os.listdir(folder)\n",
    "    # print(filenames)\n",
    "    for filename in filenames:\n",
    "        if cell_line in filename and \"v2\" not in filename:\n",
    "            if \"L1000\" in filename:\n",
    "                print(cell_line, filename)\n",
    "                gtex_l1000 = read_data(folder+filename)\n",
    "\n",
    "                sorted_gtex_l1000 = gtex_l1000.sort_index(axis=1)\n",
    "                normalized_gtex_l1000 = normalization(sorted_gtex_l1000.T, q_normalization=True).T\n",
    "                print(normalized_gtex_l1000.shape)\n",
    "                normalized_gtex_l1000.reset_index().to_feather(folder+filename.replace(\".f\", \"_v2.f\"))\n",
    "\n",
    "            else:\n",
    "                print(cell_line, filename)\n",
    "                gtex_rnaseq = read_data(folder+filename)\n",
    "                sorted_gtex_rnaseq = gtex_rnaseq.sort_index(axis=1)\n",
    "                sorted_gtex_rnaseq = sorted_gtex_rnaseq.astype('int32')\n",
    "                normalized_gtex_rnaseq = normalization(sorted_gtex_rnaseq.T, logCPM_normalization=True, q_normalization=True).T\n",
    "                print(normalized_gtex_rnaseq.shape)\n",
    "                normalized_gtex_rnaseq.reset_index().to_feather(folder+filename.replace(\".f\", \"_v2.f\"))\n"
   ]
  },
  {
   "cell_type": "code",
   "execution_count": null,
   "metadata": {
    "scrolled": false
   },
   "outputs": [],
   "source": []
  },
  {
   "cell_type": "code",
   "execution_count": null,
   "metadata": {},
   "outputs": [],
   "source": []
  }
 ],
 "metadata": {
  "kernelspec": {
   "display_name": "python37",
   "language": "python",
   "name": "python37"
  },
  "language_info": {
   "codemirror_mode": {
    "name": "ipython",
    "version": 3
   },
   "file_extension": ".py",
   "mimetype": "text/x-python",
   "name": "python",
   "nbconvert_exporter": "python",
   "pygments_lexer": "ipython3",
   "version": "3.7.9-final"
  }
 },
 "nbformat": 4,
 "nbformat_minor": 4
}