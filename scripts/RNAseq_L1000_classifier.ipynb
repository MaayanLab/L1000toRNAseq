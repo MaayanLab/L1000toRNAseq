{
 "metadata": {
  "language_info": {
   "codemirror_mode": {
    "name": "ipython",
    "version": 3
   },
   "file_extension": ".py",
   "mimetype": "text/x-python",
   "name": "python",
   "nbconvert_exporter": "python",
   "pygments_lexer": "ipython3",
   "version": "3.7.9-final"
  },
  "orig_nbformat": 2,
  "kernelspec": {
   "name": "python3",
   "display_name": "Python 3.7.9 64-bit ('python37': conda)",
   "metadata": {
    "interpreter": {
     "hash": "385bb8b00568b82143462c5773842a3f7e8f0255e7b9eecbe3525094c674661a"
    }
   }
  }
 },
 "nbformat": 4,
 "nbformat_minor": 2,
 "cells": [
  {
   "cell_type": "code",
   "execution_count": 1,
   "metadata": {},
   "outputs": [],
   "source": [
    "from sklearn.ensemble import RandomForestClassifier\n",
    "import pandas as pd\n",
    "from sklearn.model_selection import train_test_split\n",
    "from scipy.stats import zscore"
   ]
  },
  {
   "cell_type": "code",
   "execution_count": 2,
   "metadata": {},
   "outputs": [],
   "source": [
    "archs4_folder = \"../data/processed/ARCHS4/human_matrix_v9_filtered_n50000x962_v2.f\"\n",
    "l1000_folder = \"../data/processed/L1000/L1000_filtered_GSE92742_Broad_LINCS_Level3_INF_mlr12k_n50000x962.f\""
   ]
  },
  {
   "cell_type": "code",
   "execution_count": 3,
   "metadata": {},
   "outputs": [],
   "source": [
    "def load_feather(filename):\n",
    "    df = pd.read_feather(filename)\n",
    "    first_col = df.columns.tolist()[0]\n",
    "    df = df.set_index(first_col)\n",
    "    df = df.sort_index(axis=1)\n",
    "    return df"
   ]
  },
  {
   "cell_type": "code",
   "execution_count": 4,
   "metadata": {},
   "outputs": [],
   "source": [
    "archs4 = load_feather(archs4_folder)\n",
    "archs4 = archs4.apply(zscore, axis=0).dropna()"
   ]
  },
  {
   "cell_type": "code",
   "execution_count": 5,
   "metadata": {},
   "outputs": [],
   "source": [
    "l1000 = load_feather(l1000_folder)\n",
    "l1000 = l1000.apply(zscore, axis=0).dropna()"
   ]
  },
  {
   "cell_type": "code",
   "execution_count": 6,
   "metadata": {},
   "outputs": [],
   "source": [
    "data = pd.concat([archs4, l1000])"
   ]
  },
  {
   "cell_type": "code",
   "execution_count": 7,
   "metadata": {},
   "outputs": [],
   "source": [
    "data = data.sample(frac=1.0)\n"
   ]
  },
  {
   "cell_type": "code",
   "execution_count": 8,
   "metadata": {},
   "outputs": [
    {
     "output_type": "execute_result",
     "data": {
      "text/plain": [
       "                                                  AARS     ABCB6     ABCC5  \\\n",
       "CPC008_A375_6H_X1_F1B3_DUO52HI53LO:H17       -0.358790 -0.626178 -0.738544   \n",
       "T1D.KD001_JURKAT_120H_X1_B10_DUO52HI53LO:B22 -1.403949 -1.466247 -0.909086   \n",
       "GSM2304937                                    1.483362  1.894040  0.694559   \n",
       "GSM4408987                                    0.537118 -0.341909  0.490139   \n",
       "GSM2265719                                   -1.478540 -0.539104  0.197705   \n",
       "...                                                ...       ...       ...   \n",
       "KDB005_HCC515_96H_X3_B6_DUO52HI53LO:M01       0.807889 -0.290514 -0.013510   \n",
       "GSM4103441                                   -1.657700 -1.048160  1.587296   \n",
       "LJP002_MCF7_24H_X3_F2B5_DUO52HI53LO:M05       0.814079 -0.231900  1.014575   \n",
       "GSM4432278                                    0.612681  0.497314  0.143333   \n",
       "CPC019_A375_6H_X1_B4_DUO52HI53LO:L02          0.129666 -0.353757 -0.393292   \n",
       "\n",
       "                                                 ABCF1     ABCF3     ABHD4  \\\n",
       "CPC008_A375_6H_X1_F1B3_DUO52HI53LO:H17        0.773538 -1.024874 -1.018788   \n",
       "T1D.KD001_JURKAT_120H_X1_B10_DUO52HI53LO:B22  1.790770 -1.051098 -0.784776   \n",
       "GSM2304937                                    0.880314  0.576766  0.498788   \n",
       "GSM4408987                                    0.253987  0.163466 -0.808488   \n",
       "GSM2265719                                   -1.232146 -0.875859 -1.513142   \n",
       "...                                                ...       ...       ...   \n",
       "KDB005_HCC515_96H_X3_B6_DUO52HI53LO:M01       0.390941  0.611670 -0.790281   \n",
       "GSM4103441                                   -0.283071 -0.800525 -0.115351   \n",
       "LJP002_MCF7_24H_X3_F2B5_DUO52HI53LO:M05       0.264531  2.174256  1.321232   \n",
       "GSM4432278                                    0.301858 -0.631947  0.908582   \n",
       "CPC019_A375_6H_X1_B4_DUO52HI53LO:L02         -0.572386  0.074239 -1.170530   \n",
       "\n",
       "                                                 ABHD6      ABL1     ACAA1  \\\n",
       "CPC008_A375_6H_X1_F1B3_DUO52HI53LO:H17        0.898734  0.082818 -1.217774   \n",
       "T1D.KD001_JURKAT_120H_X1_B10_DUO52HI53LO:B22  1.181466  0.044839 -2.110222   \n",
       "GSM2304937                                    0.415034  1.182024  0.087221   \n",
       "GSM4408987                                   -0.817045  0.372562 -0.635761   \n",
       "GSM2265719                                    0.723539 -1.272064 -1.242418   \n",
       "...                                                ...       ...       ...   \n",
       "KDB005_HCC515_96H_X3_B6_DUO52HI53LO:M01      -0.166825 -0.254860 -0.444631   \n",
       "GSM4103441                                   -0.063229 -1.111236 -0.014098   \n",
       "LJP002_MCF7_24H_X3_F2B5_DUO52HI53LO:M05      -0.454527  0.767652  0.800079   \n",
       "GSM4432278                                   -0.629556  0.322752 -0.138247   \n",
       "CPC019_A375_6H_X1_B4_DUO52HI53LO:L02         -1.045079 -0.365721 -0.833106   \n",
       "\n",
       "                                                 ACAT2  ...     ZMIZ1  \\\n",
       "CPC008_A375_6H_X1_F1B3_DUO52HI53LO:H17       -0.467397  ... -0.016432   \n",
       "T1D.KD001_JURKAT_120H_X1_B10_DUO52HI53LO:B22  1.881759  ... -0.036054   \n",
       "GSM2304937                                    0.633973  ... -0.156906   \n",
       "GSM4408987                                   -0.415704  ...  0.245924   \n",
       "GSM2265719                                   -0.306064  ... -0.182044   \n",
       "...                                                ...  ...       ...   \n",
       "KDB005_HCC515_96H_X3_B6_DUO52HI53LO:M01       0.283527  ... -0.446013   \n",
       "GSM4103441                                   -2.292202  ...  0.447524   \n",
       "LJP002_MCF7_24H_X3_F2B5_DUO52HI53LO:M05       0.052894  ...  0.568111   \n",
       "GSM4432278                                    1.189047  ... -0.081977   \n",
       "CPC019_A375_6H_X1_B4_DUO52HI53LO:L02         -0.953233  ... -0.121842   \n",
       "\n",
       "                                                 ZMYM2    ZNF131    ZNF274  \\\n",
       "CPC008_A375_6H_X1_F1B3_DUO52HI53LO:H17       -0.237037 -0.020143  0.881456   \n",
       "T1D.KD001_JURKAT_120H_X1_B10_DUO52HI53LO:B22 -1.237452 -0.016997 -0.932600   \n",
       "GSM2304937                                   -0.244588  0.295824 -0.140279   \n",
       "GSM4408987                                    1.284388 -0.292599 -0.305151   \n",
       "GSM2265719                                    0.280336  1.015451 -0.785176   \n",
       "...                                                ...       ...       ...   \n",
       "KDB005_HCC515_96H_X3_B6_DUO52HI53LO:M01      -1.346514 -1.357751  0.162656   \n",
       "GSM4103441                                    1.867779  1.073860  1.138972   \n",
       "LJP002_MCF7_24H_X3_F2B5_DUO52HI53LO:M05       2.007714 -0.035327  0.823463   \n",
       "GSM4432278                                    0.649568  0.694886  0.768956   \n",
       "CPC019_A375_6H_X1_B4_DUO52HI53LO:L02         -0.540249  0.043127 -0.247652   \n",
       "\n",
       "                                                ZNF318    ZNF395    ZNF451  \\\n",
       "CPC008_A375_6H_X1_F1B3_DUO52HI53LO:H17       -0.573254 -1.041896 -0.742194   \n",
       "T1D.KD001_JURKAT_120H_X1_B10_DUO52HI53LO:B22 -0.413618  0.733563 -0.280130   \n",
       "GSM2304937                                    0.698450  0.947065 -0.105663   \n",
       "GSM4408987                                    1.018099 -0.759002  0.779595   \n",
       "GSM2265719                                    0.134675 -0.750953  2.249211   \n",
       "...                                                ...       ...       ...   \n",
       "KDB005_HCC515_96H_X3_B6_DUO52HI53LO:M01       0.489104  0.901850  0.311351   \n",
       "GSM4103441                                    0.461792 -0.913317  1.721876   \n",
       "LJP002_MCF7_24H_X3_F2B5_DUO52HI53LO:M05       0.449821  0.276466 -0.078466   \n",
       "GSM4432278                                    0.100094  0.386716 -0.433980   \n",
       "CPC019_A375_6H_X1_B4_DUO52HI53LO:L02         -0.739133 -1.841994 -1.053857   \n",
       "\n",
       "                                                ZNF586    ZNF589      ZW10  \n",
       "CPC008_A375_6H_X1_F1B3_DUO52HI53LO:H17       -2.112831  0.384645 -0.846711  \n",
       "T1D.KD001_JURKAT_120H_X1_B10_DUO52HI53LO:B22 -0.253415  3.189750 -0.027601  \n",
       "GSM2304937                                   -0.377851  0.759849  0.666147  \n",
       "GSM4408987                                    1.275807  0.373402  0.741605  \n",
       "GSM2265719                                    0.972416 -0.027056  1.124622  \n",
       "...                                                ...       ...       ...  \n",
       "KDB005_HCC515_96H_X3_B6_DUO52HI53LO:M01      -1.017345 -0.166115 -0.911441  \n",
       "GSM4103441                                    0.650826  0.760996 -0.792830  \n",
       "LJP002_MCF7_24H_X3_F2B5_DUO52HI53LO:M05      -0.771344 -0.714528 -0.528523  \n",
       "GSM4432278                                    0.490714  1.606894 -0.180315  \n",
       "CPC019_A375_6H_X1_B4_DUO52HI53LO:L02         -0.648552 -0.306826 -0.810782  \n",
       "\n",
       "[100000 rows x 962 columns]"
      ],
      "text/html": "<div>\n<style scoped>\n    .dataframe tbody tr th:only-of-type {\n        vertical-align: middle;\n    }\n\n    .dataframe tbody tr th {\n        vertical-align: top;\n    }\n\n    .dataframe thead th {\n        text-align: right;\n    }\n</style>\n<table border=\"1\" class=\"dataframe\">\n  <thead>\n    <tr style=\"text-align: right;\">\n      <th></th>\n      <th>AARS</th>\n      <th>ABCB6</th>\n      <th>ABCC5</th>\n      <th>ABCF1</th>\n      <th>ABCF3</th>\n      <th>ABHD4</th>\n      <th>ABHD6</th>\n      <th>ABL1</th>\n      <th>ACAA1</th>\n      <th>ACAT2</th>\n      <th>...</th>\n      <th>ZMIZ1</th>\n      <th>ZMYM2</th>\n      <th>ZNF131</th>\n      <th>ZNF274</th>\n      <th>ZNF318</th>\n      <th>ZNF395</th>\n      <th>ZNF451</th>\n      <th>ZNF586</th>\n      <th>ZNF589</th>\n      <th>ZW10</th>\n    </tr>\n  </thead>\n  <tbody>\n    <tr>\n      <th>CPC008_A375_6H_X1_F1B3_DUO52HI53LO:H17</th>\n      <td>-0.358790</td>\n      <td>-0.626178</td>\n      <td>-0.738544</td>\n      <td>0.773538</td>\n      <td>-1.024874</td>\n      <td>-1.018788</td>\n      <td>0.898734</td>\n      <td>0.082818</td>\n      <td>-1.217774</td>\n      <td>-0.467397</td>\n      <td>...</td>\n      <td>-0.016432</td>\n      <td>-0.237037</td>\n      <td>-0.020143</td>\n      <td>0.881456</td>\n      <td>-0.573254</td>\n      <td>-1.041896</td>\n      <td>-0.742194</td>\n      <td>-2.112831</td>\n      <td>0.384645</td>\n      <td>-0.846711</td>\n    </tr>\n    <tr>\n      <th>T1D.KD001_JURKAT_120H_X1_B10_DUO52HI53LO:B22</th>\n      <td>-1.403949</td>\n      <td>-1.466247</td>\n      <td>-0.909086</td>\n      <td>1.790770</td>\n      <td>-1.051098</td>\n      <td>-0.784776</td>\n      <td>1.181466</td>\n      <td>0.044839</td>\n      <td>-2.110222</td>\n      <td>1.881759</td>\n      <td>...</td>\n      <td>-0.036054</td>\n      <td>-1.237452</td>\n      <td>-0.016997</td>\n      <td>-0.932600</td>\n      <td>-0.413618</td>\n      <td>0.733563</td>\n      <td>-0.280130</td>\n      <td>-0.253415</td>\n      <td>3.189750</td>\n      <td>-0.027601</td>\n    </tr>\n    <tr>\n      <th>GSM2304937</th>\n      <td>1.483362</td>\n      <td>1.894040</td>\n      <td>0.694559</td>\n      <td>0.880314</td>\n      <td>0.576766</td>\n      <td>0.498788</td>\n      <td>0.415034</td>\n      <td>1.182024</td>\n      <td>0.087221</td>\n      <td>0.633973</td>\n      <td>...</td>\n      <td>-0.156906</td>\n      <td>-0.244588</td>\n      <td>0.295824</td>\n      <td>-0.140279</td>\n      <td>0.698450</td>\n      <td>0.947065</td>\n      <td>-0.105663</td>\n      <td>-0.377851</td>\n      <td>0.759849</td>\n      <td>0.666147</td>\n    </tr>\n    <tr>\n      <th>GSM4408987</th>\n      <td>0.537118</td>\n      <td>-0.341909</td>\n      <td>0.490139</td>\n      <td>0.253987</td>\n      <td>0.163466</td>\n      <td>-0.808488</td>\n      <td>-0.817045</td>\n      <td>0.372562</td>\n      <td>-0.635761</td>\n      <td>-0.415704</td>\n      <td>...</td>\n      <td>0.245924</td>\n      <td>1.284388</td>\n      <td>-0.292599</td>\n      <td>-0.305151</td>\n      <td>1.018099</td>\n      <td>-0.759002</td>\n      <td>0.779595</td>\n      <td>1.275807</td>\n      <td>0.373402</td>\n      <td>0.741605</td>\n    </tr>\n    <tr>\n      <th>GSM2265719</th>\n      <td>-1.478540</td>\n      <td>-0.539104</td>\n      <td>0.197705</td>\n      <td>-1.232146</td>\n      <td>-0.875859</td>\n      <td>-1.513142</td>\n      <td>0.723539</td>\n      <td>-1.272064</td>\n      <td>-1.242418</td>\n      <td>-0.306064</td>\n      <td>...</td>\n      <td>-0.182044</td>\n      <td>0.280336</td>\n      <td>1.015451</td>\n      <td>-0.785176</td>\n      <td>0.134675</td>\n      <td>-0.750953</td>\n      <td>2.249211</td>\n      <td>0.972416</td>\n      <td>-0.027056</td>\n      <td>1.124622</td>\n    </tr>\n    <tr>\n      <th>...</th>\n      <td>...</td>\n      <td>...</td>\n      <td>...</td>\n      <td>...</td>\n      <td>...</td>\n      <td>...</td>\n      <td>...</td>\n      <td>...</td>\n      <td>...</td>\n      <td>...</td>\n      <td>...</td>\n      <td>...</td>\n      <td>...</td>\n      <td>...</td>\n      <td>...</td>\n      <td>...</td>\n      <td>...</td>\n      <td>...</td>\n      <td>...</td>\n      <td>...</td>\n      <td>...</td>\n    </tr>\n    <tr>\n      <th>KDB005_HCC515_96H_X3_B6_DUO52HI53LO:M01</th>\n      <td>0.807889</td>\n      <td>-0.290514</td>\n      <td>-0.013510</td>\n      <td>0.390941</td>\n      <td>0.611670</td>\n      <td>-0.790281</td>\n      <td>-0.166825</td>\n      <td>-0.254860</td>\n      <td>-0.444631</td>\n      <td>0.283527</td>\n      <td>...</td>\n      <td>-0.446013</td>\n      <td>-1.346514</td>\n      <td>-1.357751</td>\n      <td>0.162656</td>\n      <td>0.489104</td>\n      <td>0.901850</td>\n      <td>0.311351</td>\n      <td>-1.017345</td>\n      <td>-0.166115</td>\n      <td>-0.911441</td>\n    </tr>\n    <tr>\n      <th>GSM4103441</th>\n      <td>-1.657700</td>\n      <td>-1.048160</td>\n      <td>1.587296</td>\n      <td>-0.283071</td>\n      <td>-0.800525</td>\n      <td>-0.115351</td>\n      <td>-0.063229</td>\n      <td>-1.111236</td>\n      <td>-0.014098</td>\n      <td>-2.292202</td>\n      <td>...</td>\n      <td>0.447524</td>\n      <td>1.867779</td>\n      <td>1.073860</td>\n      <td>1.138972</td>\n      <td>0.461792</td>\n      <td>-0.913317</td>\n      <td>1.721876</td>\n      <td>0.650826</td>\n      <td>0.760996</td>\n      <td>-0.792830</td>\n    </tr>\n    <tr>\n      <th>LJP002_MCF7_24H_X3_F2B5_DUO52HI53LO:M05</th>\n      <td>0.814079</td>\n      <td>-0.231900</td>\n      <td>1.014575</td>\n      <td>0.264531</td>\n      <td>2.174256</td>\n      <td>1.321232</td>\n      <td>-0.454527</td>\n      <td>0.767652</td>\n      <td>0.800079</td>\n      <td>0.052894</td>\n      <td>...</td>\n      <td>0.568111</td>\n      <td>2.007714</td>\n      <td>-0.035327</td>\n      <td>0.823463</td>\n      <td>0.449821</td>\n      <td>0.276466</td>\n      <td>-0.078466</td>\n      <td>-0.771344</td>\n      <td>-0.714528</td>\n      <td>-0.528523</td>\n    </tr>\n    <tr>\n      <th>GSM4432278</th>\n      <td>0.612681</td>\n      <td>0.497314</td>\n      <td>0.143333</td>\n      <td>0.301858</td>\n      <td>-0.631947</td>\n      <td>0.908582</td>\n      <td>-0.629556</td>\n      <td>0.322752</td>\n      <td>-0.138247</td>\n      <td>1.189047</td>\n      <td>...</td>\n      <td>-0.081977</td>\n      <td>0.649568</td>\n      <td>0.694886</td>\n      <td>0.768956</td>\n      <td>0.100094</td>\n      <td>0.386716</td>\n      <td>-0.433980</td>\n      <td>0.490714</td>\n      <td>1.606894</td>\n      <td>-0.180315</td>\n    </tr>\n    <tr>\n      <th>CPC019_A375_6H_X1_B4_DUO52HI53LO:L02</th>\n      <td>0.129666</td>\n      <td>-0.353757</td>\n      <td>-0.393292</td>\n      <td>-0.572386</td>\n      <td>0.074239</td>\n      <td>-1.170530</td>\n      <td>-1.045079</td>\n      <td>-0.365721</td>\n      <td>-0.833106</td>\n      <td>-0.953233</td>\n      <td>...</td>\n      <td>-0.121842</td>\n      <td>-0.540249</td>\n      <td>0.043127</td>\n      <td>-0.247652</td>\n      <td>-0.739133</td>\n      <td>-1.841994</td>\n      <td>-1.053857</td>\n      <td>-0.648552</td>\n      <td>-0.306826</td>\n      <td>-0.810782</td>\n    </tr>\n  </tbody>\n</table>\n<p>100000 rows × 962 columns</p>\n</div>"
     },
     "metadata": {},
     "execution_count": 8
    }
   ],
   "source": [
    "data"
   ]
  },
  {
   "cell_type": "code",
   "execution_count": 9,
   "metadata": {},
   "outputs": [],
   "source": [
    "clf = RandomForestClassifier(n_jobs=-1)"
   ]
  },
  {
   "cell_type": "code",
   "execution_count": 10,
   "metadata": {},
   "outputs": [],
   "source": [
    "train_data, test_data = train_test_split(data, test_size=0.1)\n",
    "train_label = [\"ARCHS4\" if x.startswith(\"GSM\") else \"L1000\" for x in train_data.index]\n",
    "test_label = [\"ARCHS4\" if x.startswith(\"GSM\") else \"L1000\" for x in test_data.index]"
   ]
  },
  {
   "cell_type": "code",
   "execution_count": 11,
   "metadata": {},
   "outputs": [
    {
     "output_type": "execute_result",
     "data": {
      "text/plain": [
       "RandomForestClassifier(n_jobs=-1)"
      ]
     },
     "metadata": {},
     "execution_count": 11
    }
   ],
   "source": [
    "clf.fit(train_data, train_label)"
   ]
  },
  {
   "cell_type": "code",
   "execution_count": 12,
   "metadata": {},
   "outputs": [
    {
     "output_type": "execute_result",
     "data": {
      "text/plain": [
       "1.0"
      ]
     },
     "metadata": {},
     "execution_count": 12
    }
   ],
   "source": [
    "clf.score(test_data, test_label)"
   ]
  },
  {
   "cell_type": "code",
   "execution_count": 13,
   "metadata": {},
   "outputs": [],
   "source": [
    "feature_importance = dict(zip(data.columns, clf.feature_importances_))"
   ]
  },
  {
   "cell_type": "code",
   "execution_count": 14,
   "metadata": {},
   "outputs": [],
   "source": [
    "sum = 0\n",
    "with open(\"../data/processed/gene_weights.txt\", \"w\") as f:\n",
    "    for key in sorted(feature_importance.keys()):\n",
    "        value = feature_importance[key]\n",
    "        sum += value\n",
    "        f.write(key)\n",
    "        f.write(\"\\t\")\n",
    "        f.write(str(1+value))\n",
    "        f.write(\"\\n\")\n",
    "        f.flush()"
   ]
  },
  {
   "cell_type": "code",
   "execution_count": 81,
   "metadata": {},
   "outputs": [
    {
     "output_type": "execute_result",
     "data": {
      "text/plain": [
       "1.0"
      ]
     },
     "metadata": {},
     "execution_count": 81
    }
   ],
   "source": [
    "sum"
   ]
  },
  {
   "cell_type": "code",
   "execution_count": null,
   "metadata": {},
   "outputs": [],
   "source": []
  }
 ]
}