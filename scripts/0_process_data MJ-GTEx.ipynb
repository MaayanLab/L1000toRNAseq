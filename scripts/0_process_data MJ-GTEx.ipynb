{
 "cells": [
  {
   "cell_type": "markdown",
   "metadata": {},
   "source": [
    "# Script for Processing Data"
   ]
  },
  {
   "cell_type": "code",
   "execution_count": 1,
   "metadata": {
    "ExecuteTime": {
     "end_time": "2019-05-29T18:46:24.930751Z",
     "start_time": "2019-05-29T18:46:23.134697Z"
    },
    "scrolled": true
   },
   "outputs": [
    {
     "output_type": "stream",
     "name": "stdout",
     "text": [
      "WARNING:tensorflow:From /home/maayanlab/anaconda3/envs/python37/lib/python3.7/site-packages/tensorflow_gan/python/estimator/tpu_gan_estimator.py:42: The name tf.estimator.tpu.TPUEstimator is deprecated. Please use tf.compat.v1.estimator.tpu.TPUEstimator instead.\n\n"
     ]
    }
   ],
   "source": [
    "%load_ext autoreload\n",
    "%autoreload 2\n",
    "\n",
    "import os\n",
    "import pandas as pd\n",
    "import numpy as np\n",
    "import random\n",
    "import glob\n",
    "import umap\n",
    "import seaborn as sns\n",
    "import matplotlib.pyplot as plt\n",
    "# from ggplot import *\n",
    "\n",
    "\n",
    "from ruffus import *\n",
    "import sys, os, h5py, random, tempfile, scipy, time,copy\n",
    "import cmapPy.pandasGEXpress.parse_gctx as parse_gctx\n",
    "import cmapPy.pandasGEXpress.parse_gct as parse_gct\n",
    "import pipeline_support as PS\n",
    "from sklearn.decomposition import PCA\n",
    "from scipy import stats\n",
    "from matplotlib.pyplot import imshow\n",
    "from sklearn.preprocessing import MinMaxScaler\n",
    "\n",
    "from collections import Counter\n",
    "#from tensorflow_examples.models.pix2pix import pix2pix\n",
    "import tensorflow as tf\n",
    "from tensorflow import keras\n",
    "from IPython.display import clear_output\n",
    "from tensorflow_gan.python.losses import losses_impl\n",
    "\n",
    "\n",
    "from numpy.random import seed\n",
    "randomState = 123\n",
    "seed(randomState)"
   ]
  },
  {
   "cell_type": "markdown",
   "metadata": {},
   "source": [
    "Parameters"
   ]
  },
  {
   "cell_type": "code",
   "execution_count": 2,
   "metadata": {},
   "outputs": [],
   "source": [
    "gtex_rnaseq_filename = \"../data/GTEx/GTEx_Analysis_2017-06-05_v8_RNASeQCv1.1.9_gene_reads.gct\"\n",
    "gtex_l1000_filename = \"../data/GTEx/DS_GTEX_L1000_n3176x12320.gctx\"\n",
    "gtex_geneinfo_filename = \"../data/GTEx/GSE92743_Broad_GTEx_gene_info.txt\"\n",
    "\n",
    "l1000_all_gene_list = \"../data/L1000/all_gene_list.txt\"\n",
    "l1000_landmark_gene_list = \"../data/L1000/landmark_gene_list.txt\"\n",
    "\n",
    "archs4_all_gene_list = \"../data/ARCHS4/all_gene_list.txt\"\n",
    "\n",
    "gtex_l1000_all_gene_list = \"../data/GTEx/l1000_all_gene_list.txt\"\n",
    "gtex_l1000_landmark_gene_list = \"../data/GTEx/l1000_landmark_gene_list.txt\"\n",
    "\n",
    "gtex_rnaseq_all_gene_list = \"../data/GTEx/rnaseq_all_gene_list.txt\""
   ]
  },
  {
   "cell_type": "markdown",
   "metadata": {},
   "source": [
    "Output Filenames"
   ]
  },
  {
   "cell_type": "code",
   "execution_count": 23,
   "metadata": {},
   "outputs": [],
   "source": [
    "gtex_filtered_l1000_output_filename = \"../data/processed/GTEx/GSE92743_Broad_GTEx_L1000_Level3_Q2NORM_filtered_n{}x{}.f\" # samplesx962\n",
    "gtex_filtered_rnaseq_output_filename = \"../data/processed/GTEx/GSE92743_Broad_GTEx_RNAseq_Log2RPKM_q2norm_filtered_n{}x{}.f\" # samplesx962\n",
    "\n"
   ]
  },
  {
   "cell_type": "markdown",
   "metadata": {},
   "source": [
    "## Load overlap landmark genes"
   ]
  },
  {
   "cell_type": "code",
   "execution_count": 4,
   "metadata": {
    "scrolled": true
   },
   "outputs": [],
   "source": [
    "with open(l1000_landmark_gene_list, \"r\") as f:\n",
    "    l1000_landmark_gene = [x.strip() for x in f.readlines()]\n",
    "with open(archs4_all_gene_list, \"r\") as f:\n",
    "    archs4_all_gene = [x.strip() for x in f.readlines()]\n",
    "with open(gtex_l1000_landmark_gene_list, \"r\") as f:\n",
    "    gtex_l1000_landmark_gene = [x.strip() for x in f.readlines()]\n",
    "with open(gtex_rnaseq_all_gene_list, \"r\") as f:\n",
    "    gtex_rnaseq_all_gene = [x.strip() for x in f.readlines()]\n",
    "    \n",
    "overlap_landmark_genes = list(set(l1000_landmark_gene).intersection(archs4_all_gene).intersection(gtex_l1000_landmark_gene).intersection(gtex_rnaseq_all_gene))\n"
   ]
  },
  {
   "cell_type": "markdown",
   "metadata": {},
   "source": [
    "## Load GTEx "
   ]
  },
  {
   "cell_type": "markdown",
   "metadata": {},
   "source": [
    "GTEx L1000 from GSE92742 \n",
    "GTEx RNA-seq from https://www.gtexportal.org/home/datasets version 8 Gene read count"
   ]
  },
  {
   "cell_type": "code",
   "execution_count": 5,
   "metadata": {},
   "outputs": [],
   "source": [
    "gtex_gene_info = pd.read_csv(gtex_geneinfo_filename,header = 0, sep = '\\t')\n",
    "gtex_landmark_genes = gtex_gene_info.loc[gtex_gene_info[\"pr_is_lm\"]==1, \"pr_gene_symbol\"].tolist()"
   ]
  },
  {
   "cell_type": "code",
   "execution_count": 6,
   "metadata": {
    "scrolled": true
   },
   "outputs": [
    {
     "output_type": "stream",
     "name": "stdout",
     "text": [
      "Loading GTEx L1000 data.....\n"
     ]
    }
   ],
   "source": [
    "# GTEx L1000 data\n",
    "print('Loading GTEx L1000 data.....')\n",
    "gtex_l1000_data = parse_gctx.parse(gtex_l1000_filename,convert_neg_666=True).data_df\n",
    "\n",
    "# create a probe_id to gene name dictionary \n",
    "gtex_gene_dict = dict(zip([str(x) for x in gtex_gene_info['pr_gene_id']], gtex_gene_info['pr_gene_symbol']))\n",
    "\n",
    "# label rows with gene names \n",
    "gtex_l1000_data.index = [gtex_gene_dict[x] for x in gtex_l1000_data.index.values]\n",
    "gtex_l1000_data = gtex_l1000_data.T"
   ]
  },
  {
   "cell_type": "code",
   "execution_count": 27,
   "metadata": {
    "tags": []
   },
   "outputs": [
    {
     "output_type": "stream",
     "name": "stdout",
     "text": [
      "Loading GTEx RNA-seq data.....\n"
     ]
    }
   ],
   "source": [
    "# GTEx RNA-seq data\n",
    "print('Loading GTEx RNA-seq data.....')\n",
    "\n",
    "with open(gtex_rnaseq_filename, \"r\") as f:\n",
    "    lines = f.readlines()\n",
    "\n",
    "    sample_line = lines[2]\n",
    "    samples = sample_line.split(\"\\t\")\n",
    "    sample_index = [i for i, x in enumerate(samples) if x in gtex_l1000_data.index]\n",
    "    paired_sample_id = [x for i, x in enumerate(samples) if x in gtex_l1000_data.index]\n",
    "\n",
    "    gex_paired_sample = list()\n",
    "    gene_names = list()\n",
    "    for line in lines[3:]:\n",
    "        splited = np.array(line.split(\"\\t\"))\n",
    "        gene_name = splited[1]\n",
    "\n",
    "        if gene_name in overlap_landmark_genes:\n",
    "            gene_names.append(gene_name)\n",
    "            gex_paired_sample.append(splited[sample_index])\n",
    "\n",
    "    gtex_rnaseq_data = pd.DataFrame(gex_paired_sample, columns=paired_sample_id, index=gene_names).T\n",
    "    gtex_rnaseq_data.reset_index().to_feather(gtex_filtered_rnaseq_output_filename.format(gtex_rnaseq_data.shape[0], gtex_rnaseq_data.shape[1]))"
   ]
  },
  {
   "cell_type": "code",
   "execution_count": 51,
   "metadata": {
    "scrolled": true
   },
   "outputs": [],
   "source": [
    "# filter landmark genes and save\n",
    "filtered_gtex_l1000_data = gtex_l1000_data.loc[:, overlap_landmark_genes]\n",
    "filtered_gtex_l1000_data.reset_index().to_feather(gtex_filtered_l1000_output_filename.format(filtered_gtex_l1000_data.shape[0], filtered_gtex_l1000_data.shape[1]))"
   ]
  }
 ],
 "metadata": {
  "kernelspec": {
   "display_name": "python37",
   "language": "python",
   "name": "python37"
  },
  "language_info": {
   "codemirror_mode": {
    "name": "ipython",
    "version": 3
   },
   "file_extension": ".py",
   "mimetype": "text/x-python",
   "name": "python",
   "nbconvert_exporter": "python",
   "pygments_lexer": "ipython3",
   "version": "3.7.9"
  }
 },
 "nbformat": 4,
 "nbformat_minor": 2
}