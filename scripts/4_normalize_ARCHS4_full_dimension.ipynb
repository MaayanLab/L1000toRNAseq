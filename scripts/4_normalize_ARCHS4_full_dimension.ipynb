{
 "cells": [
  {
   "cell_type": "code",
   "execution_count": 14,
   "metadata": {},
   "outputs": [],
   "source": [
    "import pandas as pd\n",
    "import scipy.stats as ss\n",
    "import warnings\n",
    "import numpy as np\n",
    "from maayanlab_bioinformatics.normalization import quantile_normalize"
   ]
  },
  {
   "cell_type": "code",
   "execution_count": 15,
   "metadata": {},
   "outputs": [],
   "source": [
    "n_sampling=50000"
   ]
  },
  {
   "cell_type": "markdown",
   "metadata": {},
   "source": [
    "input_filenames"
   ]
  },
  {
   "cell_type": "code",
   "execution_count": 24,
   "metadata": {},
   "outputs": [],
   "source": [
    "# ARCHS4_filename = f\"../data/processed/ARCHS4/human_matrix_v9_filtered_n{n_sampling}x35238.f\"\n",
    "ARCHS4_filename = f\"../data/processed/ARCHS4/human_matrix_v9_filtered_n{n_sampling}x25312.f\"\n",
    "\n",
    "l1000_all_gene_list = \"../data/L1000/all_gene_list.txt\"\n",
    "l1000_landmark_gene_list = \"../data/L1000/landmark_gene_list.txt\"\n",
    "\n",
    "archs4_all_gene_list = \"../data/ARCHS4/all_gene_list.txt\"\n",
    "\n",
    "gtex_l1000_all_gene_list = \"../data/GTEx/l1000_all_gene_list.txt\"\n",
    "gtex_l1000_landmark_gene_list = \"../data/GTEx/l1000_landmark_gene_list.txt\"\n",
    "\n",
    "gtex_rnaseq_all_gene_list = \"../data/GTEx/rnaseq_all_gene_list.txt\""
   ]
  },
  {
   "cell_type": "markdown",
   "metadata": {},
   "source": [
    "output_filenames"
   ]
  },
  {
   "cell_type": "code",
   "execution_count": 25,
   "metadata": {},
   "outputs": [],
   "source": [
    "ARCHS4_step2_input = \"../data/processed/ARCHS4/human_matrix_v9_filtered_n{}x{}_step2_input.f\"\n",
    "ARCHS4_step2_output = \"../data/processed/ARCHS4/human_matrix_v9_filtered_n{}x{}_step2_output.f\""
   ]
  },
  {
   "cell_type": "code",
   "execution_count": 38,
   "metadata": {},
   "outputs": [],
   "source": [
    "archs4_high_count_gene_list = \"../data/ARCHS4/high_count_gene_list.txt\""
   ]
  },
  {
   "cell_type": "markdown",
   "metadata": {},
   "source": [
    "# Get overlap landmark genes"
   ]
  },
  {
   "cell_type": "code",
   "execution_count": 26,
   "metadata": {},
   "outputs": [],
   "source": [
    "with open(l1000_landmark_gene_list, \"r\") as f:\n",
    "    l1000_landmark_gene = [x.strip() for x in f.readlines()]\n",
    "with open(archs4_all_gene_list, \"r\") as f:\n",
    "    archs4_all_gene = [x.strip() for x in f.readlines()]\n",
    "with open(gtex_l1000_landmark_gene_list, \"r\") as f:\n",
    "    gtex_l1000_landmark_gene = [x.strip() for x in f.readlines()]\n",
    "with open(gtex_rnaseq_all_gene_list, \"r\") as f:\n",
    "    gtex_rnaseq_all_gene = [x.strip() for x in f.readlines()]\n",
    "    \n",
    "\n"
   ]
  },
  {
   "cell_type": "code",
   "execution_count": 27,
   "metadata": {},
   "outputs": [],
   "source": [
    "overlap_landmark_genes = list(set(l1000_landmark_gene).intersection(archs4_all_gene).intersection(gtex_l1000_landmark_gene).intersection(gtex_rnaseq_all_gene))\n",
    "overlap_rnaseq_genes = list(set(archs4_all_gene).intersection(gtex_rnaseq_all_gene)) # common genes in ARCHS4 and GTEx RNA-seq"
   ]
  },
  {
   "cell_type": "code",
   "execution_count": 28,
   "metadata": {},
   "outputs": [],
   "source": [
    "def read_data(filename):\n",
    "    df = pd.read_feather(filename)\n",
    "    first_column = df.columns[0]\n",
    "    df = df.set_index(first_column)\n",
    "    # df = df.astype('int32')\n",
    "    return df\n",
    "    \n",
    "def save_feather(obj, filename):\n",
    "    obj.reset_index().to_feather(filename)\n",
    "    print(filename)"
   ]
  },
  {
   "cell_type": "code",
   "execution_count": 29,
   "metadata": {},
   "outputs": [],
   "source": [
    "def CPM(data):\n",
    "\n",
    "    with warnings.catch_warnings():\n",
    "        warnings.simplefilter(\"ignore\")\n",
    "        data = (data/data.sum())*10**6\n",
    "        data = data.fillna(0)\n",
    "        \n",
    "    return data\n",
    "def logCPM(data):\n",
    "\n",
    "    with warnings.catch_warnings():\n",
    "        warnings.simplefilter(\"ignore\")\n",
    "        data = (data/data.sum())*10**6\n",
    "        data = data.fillna(0)\n",
    "        data = np.log10(data+1)\n",
    "\n",
    "    # Return\n",
    "    return data\n",
    "def log(data):\n",
    "\n",
    "    with warnings.catch_warnings():\n",
    "        warnings.simplefilter(\"ignore\")\n",
    "        data = data.fillna(0)\n",
    "        data = np.log10(data+1)\n",
    "\n",
    "    return data\n",
    "\n",
    "def rpkm(counts, lengths):\n",
    "    \"\"\"Calculate reads per kilobase transcript per million reads.\n",
    "\n",
    "    RPKM = (10^9 * C) / (N * L)\n",
    "\n",
    "    Where:\n",
    "    C = Number of reads mapped to a gene\n",
    "    N = Total mapped reads in the experiment\n",
    "    L = Exon length in base pairs for a gene\n",
    "\n",
    "    Parameters\n",
    "    ----------\n",
    "    counts: array, shape (N_genes, N_samples)\n",
    "        RNAseq (or similar) count data where columns are individual samples\n",
    "        and rows are genes.\n",
    "    lengths: array, shape (N_genes,)\n",
    "        Gene lengths in base pairs in the same order\n",
    "        as the rows in counts.\n",
    "\n",
    "    Returns\n",
    "    -------\n",
    "    normed : array, shape (N_genes, N_samples)\n",
    "        The RPKM normalized counts matrix.\n",
    "    \"\"\"\n",
    "    N = np.sum(counts, axis=0)  # sum each column to get total reads per sample\n",
    "    L = lengths\n",
    "    C = counts\n",
    "\n",
    "    normed = 1e9 * C / (N[np.newaxis, :] * L[:, np.newaxis])\n",
    "\n",
    "    return(normed)\n",
    "    \n",
    "def qnormalization(data):\n",
    "\n",
    "    X_quantile_norm = quantile_normalize(data)\n",
    "    return X_quantile_norm  \n",
    "\n",
    "def normalization(data, logCPM_normalization=False, CPM_normalization=False, log_normalization=False, z_normalization=False, q_normalization=False):\n",
    "    if logCPM_normalization == True:  \n",
    "        data = logCPM(data)\n",
    "    if CPM_normalization == True:\n",
    "        data = CPM(data)\n",
    "    if log_normalization == True:   \n",
    "        data = log(data)\n",
    "        \n",
    "    if q_normalization == True:\n",
    "        data = qnormalization(data)\n",
    "        \n",
    "    \n",
    "    if z_normalization == True: \n",
    "        data = data.T.apply(ss.zscore, axis=0).T.dropna()\n",
    "\n",
    "    return data"
   ]
  },
  {
   "cell_type": "markdown",
   "metadata": {},
   "source": [
    "# Load sampled ARCHS4"
   ]
  },
  {
   "cell_type": "code",
   "execution_count": 30,
   "metadata": {},
   "outputs": [
    {
     "data": {
      "text/plain": [
       "'../data/processed/ARCHS4/human_matrix_v9_filtered_n50000x25312.f'"
      ]
     },
     "execution_count": 30,
     "metadata": {},
     "output_type": "execute_result"
    }
   ],
   "source": [
    "ARCHS4_filename"
   ]
  },
  {
   "cell_type": "code",
   "execution_count": 31,
   "metadata": {},
   "outputs": [],
   "source": [
    "archs4 = read_data(ARCHS4_filename)"
   ]
  },
  {
   "cell_type": "code",
   "execution_count": 32,
   "metadata": {},
   "outputs": [],
   "source": [
    "archs4_normalized = normalization(archs4.T, logCPM_normalization=True, q_normalization=True).T # Step 2 output"
   ]
  },
  {
   "cell_type": "code",
   "execution_count": 33,
   "metadata": {},
   "outputs": [],
   "source": [
    "# Step 2 input\n",
    "landmark_archs4_normalized = normalization(archs4.loc[:,overlap_landmark_genes].T, logCPM_normalization=True, q_normalization=True).T"
   ]
  },
  {
   "cell_type": "markdown",
   "metadata": {},
   "source": [
    "# Save"
   ]
  },
  {
   "cell_type": "code",
   "execution_count": 34,
   "metadata": {},
   "outputs": [],
   "source": [
    "landmark_archs4_normalized.reset_index().to_feather(ARCHS4_step2_input.format(landmark_archs4_normalized.shape[0], landmark_archs4_normalized.shape[1]))"
   ]
  },
  {
   "cell_type": "code",
   "execution_count": 35,
   "metadata": {},
   "outputs": [],
   "source": [
    "archs4_normalized.reset_index().to_feather(ARCHS4_step2_output.format(archs4_normalized.shape[0], archs4_normalized.shape[1]))"
   ]
  },
  {
   "cell_type": "code",
   "execution_count": 36,
   "metadata": {},
   "outputs": [
    {
     "data": {
      "text/plain": [
       "'../data/processed/ARCHS4/human_matrix_v9_filtered_n50000x25312_step2_output.f'"
      ]
     },
     "execution_count": 36,
     "metadata": {},
     "output_type": "execute_result"
    }
   ],
   "source": [
    "ARCHS4_step2_output.format(archs4_normalized.shape[0], archs4_normalized.shape[1])"
   ]
  },
  {
   "cell_type": "code",
   "execution_count": 39,
   "metadata": {},
   "outputs": [],
   "source": [
    "with open(archs4_high_count_gene_list, \"w\") as f:\n",
    "    f.write(\"\\n\".join(archs4_normalized.columns.tolist()))"
   ]
  },
  {
   "cell_type": "code",
   "execution_count": null,
   "metadata": {},
   "outputs": [],
   "source": []
  }
 ],
 "metadata": {
  "kernelspec": {
   "display_name": "python37",
   "language": "python",
   "name": "python37"
  },
  "language_info": {
   "codemirror_mode": {
    "name": "ipython",
    "version": 3
   },
   "file_extension": ".py",
   "mimetype": "text/x-python",
   "name": "python",
   "nbconvert_exporter": "python",
   "pygments_lexer": "ipython3",
   "version": "3.7.9"
  }
 },
 "nbformat": 4,
 "nbformat_minor": 4
}
