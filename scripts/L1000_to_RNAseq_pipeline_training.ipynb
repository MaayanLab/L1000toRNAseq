{
 "metadata": {
  "language_info": {
   "codemirror_mode": {
    "name": "ipython",
    "version": 3
   },
   "file_extension": ".py",
   "mimetype": "text/x-python",
   "name": "python",
   "nbconvert_exporter": "python",
   "pygments_lexer": "ipython3",
   "version": "3.7.9-final"
  },
  "orig_nbformat": 2,
  "kernelspec": {
   "name": "python3",
   "display_name": "Python 3.7.9 64-bit ('python37': conda)",
   "metadata": {
    "interpreter": {
     "hash": "385bb8b00568b82143462c5773842a3f7e8f0255e7b9eecbe3525094c674661a"
    }
   }
  }
 },
 "nbformat": 4,
 "nbformat_minor": 2,
 "cells": [
  {
   "source": [
    "# L1000 to RNA-seq conversion pipeline - Training, Predicting & Evaluating"
   ],
   "cell_type": "markdown",
   "metadata": {}
  },
  {
   "source": [
    "This is an L1000 to RNA-seq conversion pipeline. The pipeline takes 978-dimensional Level3 L1000 profiles as input and returns 25,312-dimensional RNA-seq like profiles. A cycleGAN model in step 1 converts gene expression values in L1000 to those in RNA-seq only for landmark genes. Then, step 2 takes the output profiles of step 1 and extrapolates the profiles to the 25,312 full genome profiles.\n",
    "\n"
   ],
   "cell_type": "markdown",
   "metadata": {}
  },
  {
   "cell_type": "code",
   "execution_count": 4,
   "metadata": {},
   "outputs": [
    {
     "output_type": "stream",
     "name": "stdout",
     "text": [
      "The autoreload extension is already loaded. To reload it, use:\n  %reload_ext autoreload\n"
     ]
    }
   ],
   "source": [
    "%load_ext autoreload\n",
    "%autoreload 2\n",
    "%matplotlib inline\n",
    "\n",
    "import os\n",
    "import pandas as pd\n",
    "import numpy as np\n",
    "import random\n",
    "import seaborn as sns\n",
    "import matplotlib.pyplot as plt\n",
    "from scipy.stats import pearsonr, spearmanr\n",
    "from numpy.random import seed\n",
    "import umap\n",
    "from sklearn.manifold import TSNE\n",
    "import time\n",
    "\n",
    "randomState = 123\n",
    "seed(randomState)"
   ]
  },
  {
   "source": [
    "Parameters"
   ],
   "cell_type": "markdown",
   "metadata": {}
  },
  {
   "cell_type": "code",
   "execution_count": 5,
   "metadata": {},
   "outputs": [],
   "source": [
    "step1_exp_index = 30\n",
    "step2_exp_index = 30\n",
    "num_samples = 50000\n",
    "\n",
    "step1_y_true_filename = \"y_true_L1000_MCF7.txt\"\n",
    "step1_y_pred_filename = \"y_pred_L1000_MCF7.txt\"\n",
    "step2_y_true_filename = \"y_true_ARCHS4_MCF7.txt\"\n",
    "step2_y_pred_filename = \"y_pred_ARCHS4_MCF7.txt\"\n",
    "eval_dataset_nameA = \"L1000_MCF7\"\n",
    "eval_dataset_nameB = \"ARCHS4_MCF7_landmark\"\n",
    "\n",
    "# step1_y_true_filename = \"y_true_L1000_GTEx.txt\"\n",
    "# step1_y_pred_filename = \"y_pred_L1000_GTEx.txt\"\n",
    "# step2_y_true_filename = \"y_true_ARCHS4_GTEx.txt\"\n",
    "# step2_y_pred_filename = \"y_pred_ARCHS4_GTEx.txt\"\n",
    "# eval_dataset_nameA = \"GTEx_L1000\"\n",
    "# eval_dataset_nameB = \"GTEx_RNAseq_landmark\"\n",
    "# eval_output_dataset_name = \"GTEx_RNAseq\"\n",
    "\n",
    "\n"
   ]
  },
  {
   "source": [
    "## Training: Step 1"
   ],
   "cell_type": "markdown",
   "metadata": {}
  },
  {
   "cell_type": "code",
   "execution_count": 6,
   "metadata": {},
   "outputs": [],
   "source": [
    "!python functions/delete.py --exp_index $step1_exp_index"
   ]
  },
  {
   "cell_type": "code",
   "execution_count": 13,
   "metadata": {},
   "outputs": [
    {
     "output_type": "stream",
     "name": "stdout",
     "text": [
      "\u001b[34m\u001b[1mwandb\u001b[0m: Currently logged in as: \u001b[33mmjjeon\u001b[0m (use `wandb login --relogin` to force relogin)\n",
      "\u001b[34m\u001b[1mwandb\u001b[0m: wandb version 0.10.24 is available!  To upgrade, please run:\n",
      "\u001b[34m\u001b[1mwandb\u001b[0m:  $ pip install wandb --upgrade\n",
      "\u001b[34m\u001b[1mwandb\u001b[0m: Tracking run with wandb version 0.10.10\n",
      "\u001b[34m\u001b[1mwandb\u001b[0m: Syncing run \u001b[33mresilient-hill-44\u001b[0m\n",
      "\u001b[34m\u001b[1mwandb\u001b[0m: ⭐️ View project at \u001b[34m\u001b[4mhttps://wandb.ai/mjjeon/L1000toRNAseq_step1\u001b[0m\n",
      "\u001b[34m\u001b[1mwandb\u001b[0m: 🚀 View run at \u001b[34m\u001b[4mhttps://wandb.ai/mjjeon/L1000toRNAseq_step1/runs/20slbp0s\u001b[0m\n",
      "\u001b[34m\u001b[1mwandb\u001b[0m: Run data is saved locally in /home/maayanlab/Projects/minji/cycleGAN_gene_expression/scripts/wandb/run-20210331_174642-20slbp0s\n",
      "\u001b[34m\u001b[1mwandb\u001b[0m: Run `wandb off` to turn off syncing.\n",
      "\n",
      "Traceback (most recent call last):\n",
      "  File \"functions/cyclegan_transcript.py\", line 133, in <module>\n",
      "    os.makedirs(model_folder, exist_ok=False)\n",
      "  File \"/home/maayanlab/anaconda3/envs/python37/lib/python3.7/os.py\", line 223, in makedirs\n",
      "    mkdir(name, mode)\n",
      "FileExistsError: [Errno 17] File exists: 'saved_models/30/'\n",
      "\n",
      "\u001b[34m\u001b[1mwandb\u001b[0m: Waiting for W&B process to finish, PID 21755\n",
      "\u001b[34m\u001b[1mwandb\u001b[0m: Program failed with code 1.  Press ctrl-c to abort syncing.\n",
      "\u001b[34m\u001b[1mwandb\u001b[0m:                                                                                \n",
      "\u001b[34m\u001b[1mwandb\u001b[0m: Find user logs for this run at: /home/maayanlab/Projects/minji/cycleGAN_gene_expression/scripts/wandb/run-20210331_174642-20slbp0s/logs/debug.log\n",
      "\u001b[34m\u001b[1mwandb\u001b[0m: Find internal logs for this run at: /home/maayanlab/Projects/minji/cycleGAN_gene_expression/scripts/wandb/run-20210331_174642-20slbp0s/logs/debug-internal.log\n",
      "\u001b[34m\u001b[1mwandb\u001b[0m: Synced 5 W&B file(s), 0 media file(s), 0 artifact file(s) and 0 other file(s)\n",
      "\u001b[34m\u001b[1mwandb\u001b[0m: \n",
      "\u001b[34m\u001b[1mwandb\u001b[0m: Synced \u001b[33mresilient-hill-44\u001b[0m: \u001b[34mhttps://wandb.ai/mjjeon/L1000toRNAseq_step1/runs/20slbp0s\u001b[0m\n"
     ]
    }
   ],
   "source": [
    "!python functions/cyclegan_transcript.py --dataset_nameA \"L1000\" --dataset_nameB \"ARCHS4\" --n_epochs 100 --decay_epoch 50 --input_dimA 962 --hidden_dimA 512 --output_dimA 128 --input_dimB 962 --hidden_dimB 512 --output_dimB 128 --num_samples $num_samples --batch_size 100 --exp_index $step1_exp_index --prediction_folder \"../output/\"$step1_exp_index\"/prediction/\" --lambda_id 0.0 --benchmark_evaluation --eval_dataset_nameA $eval_dataset_nameA --eval_dataset_nameB $eval_dataset_nameB "
   ]
  },
  {
   "source": [
    "## Training: Step 2"
   ],
   "cell_type": "markdown",
   "metadata": {}
  },
  {
   "cell_type": "code",
   "execution_count": 8,
   "metadata": {},
   "outputs": [],
   "source": [
    "!python functions/delete.py --exp_index $step2_exp_index --step2"
   ]
  },
  {
   "cell_type": "code",
   "execution_count": 9,
   "metadata": {},
   "outputs": [
    {
     "output_type": "stream",
     "name": "stdout",
     "text": [
      "\u001b[34m\u001b[1mwandb\u001b[0m: Currently logged in as: \u001b[33mmjjeon\u001b[0m (use `wandb login --relogin` to force relogin)\n",
      "\u001b[34m\u001b[1mwandb\u001b[0m: wandb version 0.10.24 is available!  To upgrade, please run:\n",
      "\u001b[34m\u001b[1mwandb\u001b[0m:  $ pip install wandb --upgrade\n",
      "\u001b[34m\u001b[1mwandb\u001b[0m: Tracking run with wandb version 0.10.10\n",
      "\u001b[34m\u001b[1mwandb\u001b[0m: Syncing run \u001b[33mgenerous-shape-79\u001b[0m\n",
      "\u001b[34m\u001b[1mwandb\u001b[0m: ⭐️ View project at \u001b[34m\u001b[4mhttps://wandb.ai/mjjeon/L1000toRNAseq_step2\u001b[0m\n",
      "\u001b[34m\u001b[1mwandb\u001b[0m: 🚀 View run at \u001b[34m\u001b[4mhttps://wandb.ai/mjjeon/L1000toRNAseq_step2/runs/18135ahr\u001b[0m\n",
      "\u001b[34m\u001b[1mwandb\u001b[0m: Run data is saved locally in /home/maayanlab/Projects/minji/cycleGAN_gene_expression/scripts/wandb/run-20210331_174629-18135ahr\n",
      "\u001b[34m\u001b[1mwandb\u001b[0m: Run `wandb off` to turn off syncing.\n",
      "\n",
      "Namespace(b1=0.9, b2=0.999, batch_size=100, cell_line=None, checkpoint_interval=10, decay_epoch=10, early_stopping=True, early_stopping_epoch=3, early_stopping_tol=0.0001, epoch_resume=0, eval_exp_index=8, eval_input_dataset_name='GTEx', eval_output_dataset_name='GTEx', evaluation=False, exp_index=22, gamma=0.5, hidden_dim=[2048, 4096, 8192], input_dataset_name='ARCHS4_50000_input', input_dim=962, ispredicting=False, lr=0.0002, n_cpu=8, n_epochs=100, num_samples=50000, output_dataset_name='ARCHS4_50000_output', output_dim=25312, output_gene_list='prediction_gene_list.txt', prediction_folder='../output_step2/22/prediction', sample_interval=100, shuffle=False, test_ratio=0.01, valid_ratio=0.01, y_pred_output_filename='y_pred.txt', y_true_output_filename='y_true.txt')\n",
      "Cuda available True\n",
      "Traceback (most recent call last):\n",
      "  File \"functions/extrapolation_transcript.py\", line 546, in <module>\n",
      "    main()\n",
      "  File \"functions/extrapolation_transcript.py\", line 217, in main\n",
      "    output_data = pd.read_feather(output_data_file)\n",
      "  File \"/home/maayanlab/anaconda3/envs/python37/lib/python3.7/site-packages/pandas/io/feather_format.py\", line 124, in read_feather\n",
      "    path, \"rb\", storage_options=storage_options, is_text=False\n",
      "  File \"/home/maayanlab/anaconda3/envs/python37/lib/python3.7/site-packages/pandas/io/common.py\", line 651, in get_handle\n",
      "    handle = open(handle, ioargs.mode)\n",
      "FileNotFoundError: [Errno 2] No such file or directory: '../data/processed/ARCHS4/human_matrix_v9_filtered_n50000x25312_v2.f'\n",
      "\n",
      "\u001b[34m\u001b[1mwandb\u001b[0m: Waiting for W&B process to finish, PID 21606\n",
      "\u001b[34m\u001b[1mwandb\u001b[0m: Program failed with code 1.  Press ctrl-c to abort syncing.\n",
      "\u001b[34m\u001b[1mwandb\u001b[0m:                                                                                \n",
      "\u001b[34m\u001b[1mwandb\u001b[0m: Find user logs for this run at: /home/maayanlab/Projects/minji/cycleGAN_gene_expression/scripts/wandb/run-20210331_174629-18135ahr/logs/debug.log\n",
      "\u001b[34m\u001b[1mwandb\u001b[0m: Find internal logs for this run at: /home/maayanlab/Projects/minji/cycleGAN_gene_expression/scripts/wandb/run-20210331_174629-18135ahr/logs/debug-internal.log\n",
      "\u001b[34m\u001b[1mwandb\u001b[0m: Synced 5 W&B file(s), 0 media file(s), 0 artifact file(s) and 0 other file(s)\n",
      "\u001b[34m\u001b[1mwandb\u001b[0m: \n",
      "\u001b[34m\u001b[1mwandb\u001b[0m: Synced \u001b[33mgenerous-shape-79\u001b[0m: \u001b[34mhttps://wandb.ai/mjjeon/L1000toRNAseq_step2/runs/18135ahr\u001b[0m\n"
     ]
    }
   ],
   "source": [
    "!python functions/extrapolation_transcript.py --input_dataset_name \"ARCHS4_50000_input\" --output_dataset_name \"ARCHS4_50000_output\" --n_epochs 100 --decay_epoch 10 --input_dim 962 --hidden_dim 2048 4096 8192 --output_dim 25312 --num_samples $num_samples --batch_size 100 --exp_index $exp_index --valid_ratio 0.01 --test_ratio 0.01 --y_pred_output_filename \"y_pred.txt\" --y_true_output_filename \"y_true.txt\" --early_stopping --early_stopping_epoch 3 --early_stopping_tol 0.0001 --prediction_folder ../output_step2/$exp_index/prediction\n",
    "# "
   ]
  },
  {
   "source": [
    "## Predicting: Step 0 Preprocessing input file (Optional)"
   ],
   "cell_type": "markdown",
   "metadata": {}
  },
  {
   "source": [
    "978 landmark genes in GCTX -> 962 landmark genes in feather format)"
   ],
   "cell_type": "markdown",
   "metadata": {}
  },
  {
   "cell_type": "code",
   "execution_count": 10,
   "metadata": {},
   "outputs": [
    {
     "output_type": "stream",
     "name": "stdout",
     "text": [
      "Traceback (most recent call last):\n  File \"functions/preprocessing_input_data.py\", line 40, in <module>\n    main()\n  File \"functions/preprocessing_input_data.py\", line 17, in main\n    with open(opt.gene_names, \"r\") as f:\nFileNotFoundError: [Errno 2] No such file or directory: '../data/processed/overlap_landmark_file.txt'\n"
     ]
    }
   ],
   "source": [
    "!python functions/preprocessing_input_data.py --input_filename ../data/LINCS_CFDE/L1000_GSE92742_landmark_only/L1000_GSE92742_1.gctx --output_filename ../data/LINCS_CFDE/L1000_GSE92742_landmark_only_feather/L1000_GSE92742_1.gctx"
   ]
  },
  {
   "source": [
    "## Predicting: Step 1 Running cycleGAN (L1000->RNA-seq)"
   ],
   "cell_type": "markdown",
   "metadata": {}
  },
  {
   "source": [
    "Input file format: feather\n",
    "Output file format: txt (tab-separated)"
   ],
   "cell_type": "markdown",
   "metadata": {}
  },
  {
   "cell_type": "code",
   "execution_count": 11,
   "metadata": {},
   "outputs": [
    {
     "output_type": "stream",
     "name": "stdout",
     "text": [
      "usage: cyclegan_transcript.py [-h] [--epoch_resume EPOCH_RESUME]\n                              [--n_epochs N_EPOCHS]\n                              [--dataset_nameA DATASET_NAMEA]\n                              [--dataset_nameB DATASET_NAMEB]\n                              [--batch_size BATCH_SIZE] [--lr LR] [--b1 B1]\n                              [--b2 B2] [--weight_decay WEIGHT_DECAY]\n                              [--decay_epoch DECAY_EPOCH] [--n_cpu N_CPU]\n                              [--input_dimA INPUT_DIMA]\n                              [--hidden_dimA HIDDEN_DIMA]\n                              [--output_dimA OUTPUT_DIMA]\n                              [--input_dimB INPUT_DIMB]\n                              [--hidden_dimB HIDDEN_DIMB]\n                              [--output_dimB OUTPUT_DIMB]\n                              [--num_samples NUM_SAMPLES]\n                              [--sample_interval SAMPLE_INTERVAL]\n                              [--checkpoint_interval CHECKPOINT_INTERVAL]\n                              [--n_residual_blocks N_RESIDUAL_BLOCKS]\n                              [--lambda_cyc LAMBDA_CYC]\n                              [--lambda_id LAMBDA_ID]\n                              [--load_model_index LOAD_MODEL_INDEX]\n                              [--eval_dataset_nameA EVAL_DATASET_NAMEA]\n                              [--eval_dataset_nameB EVAL_DATASET_NAMEB]\n                              [--exp_index EXP_INDEX] [--ispredicting]\n                              [--cell_line CELL_LINE] [--gamma GAMMA]\n                              [--shuffle] [--evaluation]\n                              [--y_true_output_filename Y_TRUE_OUTPUT_FILENAME]\n                              [--y_pred_output_filename Y_PRED_OUTPUT_FILENAME]\n                              [--prediction_folder PREDICTION_FOLDER]\n                              [--benchmark_evaluation]\ncyclegan_transcript.py: error: argument --exp_index: expected one argument\n"
     ]
    }
   ],
   "source": [
    "!python functions/cyclegan_transcript.py --ispredicting --exp_index $step1_exp_index --load_model_index $step1_model_index --eval_dataset_nameA ../data/Evaluation/GSE92742_Broad_LINCS_Level3_INF_mlr12k_n203x962_celllineMCF7.f --y_pred_output_filename step1.txt --prediction_folder \"../prediction/\" "
   ]
  },
  {
   "source": [
    "## Predicting: Step 2 Extrapolating (962 dim RNA-seq -> 25,312 dim RNA-seq)"
   ],
   "cell_type": "markdown",
   "metadata": {}
  },
  {
   "cell_type": "code",
   "execution_count": 12,
   "metadata": {},
   "outputs": [
    {
     "output_type": "stream",
     "name": "stdout",
     "text": [
      "Traceback (most recent call last):\n  File \"functions/extrapolation_transcript.py\", line 151, in <module>\n    with open(log_folder+\"args.txt\", \"r\") as f:\nFileNotFoundError: [Errno 2] No such file or directory: '../output_step2/30/logs/args.txt'\n"
     ]
    }
   ],
   "source": [
    "!python functions/extrapolation_transcript.py --ispredicting --exp_index $step2_exp_index --eval_input_dataset_name ../prediction/step1.txt --y_pred_output_filename step2.txt --prediction_folder \"../prediction/\""
   ]
  },
  {
   "source": [
    "## Evaluation"
   ],
   "cell_type": "markdown",
   "metadata": {}
  },
  {
   "cell_type": "code",
   "execution_count": 17,
   "metadata": {},
   "outputs": [
    {
     "output_type": "stream",
     "name": "stdout",
     "text": [
      "Loading... ../data/Evaluation/ARCHS4_human_matrix_v9_n203x25312_celllineMCF7.f\n",
      "Loading... ../prediction/step2.txt\n",
      "                A1BG      A1CF       A2M  ...       ZYX     ZZEF1      ZZZ3\n",
      "index                                     ...                              \n",
      "GSM1244820  0.499148  0.077632  0.146216  ...  2.026383  1.929692  1.914497\n",
      "GSM1069746  0.624828  0.158088  0.042253  ...  2.001709  2.007102  1.742260\n",
      "GSM942209   0.740817  0.033552  0.184026  ...  1.668504  2.165832  1.819612\n",
      "GSM1244818  0.484494  0.000000  0.043525  ...  2.023462  1.996412  1.838877\n",
      "GSM1244822  0.450148  0.066832  0.130643  ...  2.004296  1.941199  1.883010\n",
      "...              ...       ...       ...  ...       ...       ...       ...\n",
      "GSM3538846  0.847936  0.088696  0.020267  ...  1.614222  2.083172  2.243796\n",
      "GSM4081348  1.266858  0.000000  0.494607  ...  1.999887  1.888118  1.464791\n",
      "GSM4081349  1.009861  0.000000  0.072061  ...  1.798051  1.837976  1.745063\n",
      "GSM4081352  1.119146  0.160137  0.398369  ...  1.831288  1.956366  1.598800\n",
      "GSM4081353  1.283565  0.180914  0.351877  ...  1.869487  1.870719  1.519693\n",
      "\n",
      "[203 rows x 25312 columns]\n",
      "                                              A1BG  ...      ZZZ3\n",
      "DOS052_MCF7_24H_X1_F2B3_DUO52HI53LO:E09   3.903545  ...  7.696340\n",
      "MUC.CP002_MCF7_24H_X3_B7_DUO52HI53LO:A06  1.100226  ...  3.647694\n",
      "HDAC001_MCF7_6H_X3_F1B3_DUO52HI53LO:P23   1.064924  ...  3.657683\n",
      "CPC007_MCF7_6H_X4_F1B5_DUO52HI53LO:K01    1.080487  ...  3.566472\n",
      "DOS054_MCF7_24H_X1_F3B4_DUO52HI53LO:K08   1.270056  ...  2.570651\n",
      "...                                            ...  ...       ...\n",
      "CPC010_MCF7_24H_X1_B5_DUO52HI53LO:P02     1.461900  ...  4.248544\n",
      "CPC020_MCF7_6H_X1_B4_DUO52HI53LO:F05      1.637367  ...  4.549139\n",
      "DOS052_MCF7_24H_X1_F2B3_DUO52HI53LO:B14   1.674390  ...  3.285955\n",
      "CPC019_MCF7_24H_X5_B5_DUO52HI53LO:B17     1.643735  ...  4.425300\n",
      "PCLB001_MCF7_6H_X2_F2B6_DUO52HI53LO:C02   1.174677  ...  3.741060\n",
      "\n",
      "[203 rows x 25312 columns]\n",
      "r2 -902297.4531373981\n",
      "rmse 4.240509740769764\n",
      "pearson 0.76920498078251\n",
      "spearmanr 0.7969418689998798\n"
     ]
    }
   ],
   "source": [
    "!python functions/evaluation.py --y_true ../data/Evaluation/ARCHS4_human_matrix_v9_n203x25312_celllineMCF7.f --y_pred ../prediction/step2.txt"
   ]
  },
  {
   "cell_type": "code",
   "execution_count": null,
   "metadata": {},
   "outputs": [],
   "source": []
  }
 ]
}