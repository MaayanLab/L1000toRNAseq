{
 "metadata": {
  "language_info": {
   "codemirror_mode": {
    "name": "ipython",
    "version": 3
   },
   "file_extension": ".py",
   "mimetype": "text/x-python",
   "name": "python",
   "nbconvert_exporter": "python",
   "pygments_lexer": "ipython3",
   "version": "3.7.9-final"
  },
  "orig_nbformat": 2,
  "kernelspec": {
   "name": "python3",
   "display_name": "Python 3.7.9 64-bit ('python37': conda)",
   "metadata": {
    "interpreter": {
     "hash": "385bb8b00568b82143462c5773842a3f7e8f0255e7b9eecbe3525094c674661a"
    }
   }
  }
 },
 "nbformat": 4,
 "nbformat_minor": 2,
 "cells": [
  {
   "source": [
    "# L1000 to RNA-seq conversion pipeline"
   ],
   "cell_type": "markdown",
   "metadata": {}
  },
  {
   "source": [
    "This is an L1000 to RNA-seq conversion pipeline. The pipeline takes 978-dimensional Level3 L1000 profiles as input and returns 25,312-dimensional RNA-seq like profiles. A cycleGAN model in step 1 converts gene expression values in L1000 to those in RNA-seq only for landmark genes. Then, step 2 takes the output profiles of step 1 and extrapolates the profiles to the 25,312 full genome profiles.\n",
    "\n"
   ],
   "cell_type": "markdown",
   "metadata": {}
  },
  {
   "cell_type": "code",
   "execution_count": 116,
   "metadata": {},
   "outputs": [],
   "source": [
    "import os\n",
    "import time"
   ]
  },
  {
   "cell_type": "code",
   "execution_count": 117,
   "metadata": {},
   "outputs": [],
   "source": [
    "# saved model parameters\n",
    "step1_exp_index = 17\n",
    "step1_model_index = 99\n",
    "step2_exp_index = 15\n",
    "\n"
   ]
  },
  {
   "cell_type": "code",
   "execution_count": 118,
   "metadata": {},
   "outputs": [],
   "source": [
    "folder = \"../data/LINCS_CFDE/L1000_GSE92742_landmark_only/\"\n",
    "preprocessing_folder = \"../data/LINCS_CFDE/L1000_GSE92742_landmark_only_feather/\"\n",
    "output_folder_step1 = \"../data/LINCS_CFDE/L1000_GSE92742_prediction_results_step1/\"\n",
    "output_folder_step2 = \"../data/LINCS_CFDE/L1000_GSE92742_prediction_results_step2/\"\n",
    "filenames = os.listdir(folder)"
   ]
  },
  {
   "cell_type": "code",
   "execution_count": 120,
   "metadata": {},
   "outputs": [
    {
     "output_type": "stream",
     "name": "stdout",
     "text": [
      "Loading L1000 data..... ../data/LINCS_CFDE/L1000_GSE92742_landmark_only/L1000_GSE92742_80.gctx\n",
      "Saved! ../data/LINCS_CFDE/L1000_GSE92742_landmark_only_feather/L1000_GSE92742_80.f\n",
      "{'epoch_resume': 0, 'n_epochs': 500, 'dataset_nameA': 'L1000', 'dataset_nameB': 'ARCHS4', 'batch_size': 100, 'lr': 0.0002, 'b1': 0.9, 'b2': 0.999, 'decay_epoch': 50, 'n_cpu': 8, 'input_dimA': 962, 'hidden_dimA': 512, 'output_dimA': 128, 'input_dimB': 962, 'hidden_dimB': 512, 'output_dimB': 128, 'num_samples': 50000, 'sample_interval': 100, 'checkpoint_interval': 10, 'n_residual_blocks': 1, 'lambda_cyc': 10.0, 'lambda_id': 5.0, 'load_model_index': 100, 'eval_dataset_nameA': 'GTEx', 'eval_dataset_nameB': 'GTEx', 'exp_index': 10, 'ispredicting': False, 'cell_line': None, 'gamma': 0.1, 'shuffle': False, 'evaluation': False, 'data_version': 'v2', 'y_true_output_filename': None, 'y_pred_output_filename': None}\n",
      "Namespace(b1=0.9, b2=0.999, batch_size=1, cell_line=None, checkpoint_interval=10, dataset_nameA='L1000', dataset_nameB='L1000', decay_epoch=100, epoch_resume=0, eval_dataset_nameA='../data/LINCS_CFDE/L1000_GSE92742_landmark_only_feather/L1000_GSE92742_80.f', eval_dataset_nameB='GTEx', evaluation=False, exp_index=10, gamma=0.1, hidden_dimA=512, hidden_dimB=512, input_dimA=962, input_dimB=962, ispredicting=True, lambda_cyc=10.0, lambda_id=5.0, load_model_index=499, lr=0.0002, n_cpu=8, n_epochs=200, n_residual_blocks=1, num_samples=50000, output_dimA=128, output_dimB=128, prediction_folder='../data/LINCS_CFDE/L1000_GSE92742_prediction_results_step1/', sample_interval=100, shuffle=False, y_pred_output_filename='L1000_GSE92742_80.f', y_true_output_filename=None)\n",
      "Cuda available True\n",
      "../data/LINCS_CFDE/L1000_GSE92742_landmark_only_feather/L1000_GSE92742_80.f\n",
      "input\n",
      "                                             AARS     ABCB6  ...    ZNF589      ZW10\n",
      "cid                                                          ...                    \n",
      "KDB007_HT29_96H_X4_B5_DUO52HI53LO:H17    9.239500  5.832650  ...  6.104400   9.81810\n",
      "KDB007_HT29_96H_X1_B2_DUO52HI53LO:N01    9.084575  7.836550  ...  6.463900   9.16555\n",
      "KDB007_HT29_96H_X2_B2_DUO52HI53LO:N01    9.651300  8.299925  ...  5.730075   9.20495\n",
      "KDB007_HT29_96H_X3_B2_DUO52HI53LO:N01    9.339900  7.434950  ...  6.350075  10.00290\n",
      "KDB007_HT29_96H_X4_B5_DUO52HI53LO:N01    9.832000  6.587600  ...  7.656950   9.85145\n",
      "...                                           ...       ...  ...       ...       ...\n",
      "KDB007_MCF7_144H_X3_B1_DUO53HI52LO:F24  10.360800  9.314300  ...  5.520900   7.96010\n",
      "KDB005_MCF7_144H_X1_B1_DUO53HI52LO:G23  11.524700  9.062500  ...  5.254750   7.80730\n",
      "KDB005_MCF7_144H_X2_B1_DUO53HI52LO:G23  10.639400  8.687800  ...  5.692800   7.90510\n",
      "KDB005_MCF7_144H_X3_B1_DUO53HI52LO:G23  10.826500  8.333900  ...  5.646000   8.12440\n",
      "KDB005_MCF7_144H_X1_B1_DUO53HI52LO:G07   4.108500  8.911100  ...  5.006000   8.79310\n",
      "\n",
      "[10000 rows x 962 columns]\n",
      "output\n",
      "                                            AARS     ABCB6  ...    ZNF589      ZW10\n",
      "KDB007_HT29_96H_X4_B5_DUO52HI53LO:H17   7.882121  5.416484  ...  4.723312  6.776679\n",
      "KDB007_HT29_96H_X1_B2_DUO52HI53LO:N01   8.578409  5.907726  ...  5.243382  7.522984\n",
      "KDB007_HT29_96H_X2_B2_DUO52HI53LO:N01   8.756468  6.013567  ...  5.086541  7.266157\n",
      "KDB007_HT29_96H_X3_B2_DUO52HI53LO:N01   8.850405  6.236772  ...  5.317792  7.270005\n",
      "KDB007_HT29_96H_X4_B5_DUO52HI53LO:N01   6.839107  5.344943  ...  4.451781  6.035988\n",
      "...                                          ...       ...  ...       ...       ...\n",
      "KDB007_MCF7_144H_X3_B1_DUO53HI52LO:F24  9.624866  6.370464  ...  5.162332  6.442403\n",
      "KDB005_MCF7_144H_X1_B1_DUO53HI52LO:G23  9.647521  6.618873  ...  5.455683  5.947011\n",
      "KDB005_MCF7_144H_X2_B1_DUO53HI52LO:G23  9.653158  6.121063  ...  4.810804  6.315229\n",
      "KDB005_MCF7_144H_X3_B1_DUO53HI52LO:G23  9.576206  5.874596  ...  4.797231  6.381644\n",
      "KDB005_MCF7_144H_X1_B1_DUO53HI52LO:G07  8.882442  5.631201  ...  4.485619  6.022763\n",
      "\n",
      "[10000 rows x 962 columns]\n",
      "Saved! ../data/LINCS_CFDE/L1000_GSE92742_prediction_results_step1/L1000_GSE92742_80.f\n",
      "{'epoch_resume': 0, 'n_epochs': 100, 'input_dataset_name': 'ARCHS4_50000_input', 'output_dataset_name': 'ARCHS4_50000_output', 'batch_size': 100, 'lr': 0.0002, 'b1': 0.9, 'b2': 0.999, 'decay_epoch': 10, 'n_cpu': 8, 'input_dim': 962, 'hidden_dim': [2048, 4096, 8192], 'output_dim': 25312, 'num_samples': 50000, 'sample_interval': 100, 'checkpoint_interval': 10, 'eval_input_dataset_name': 'GTEx', 'eval_output_dataset_name': 'GTEx', 'eval_exp_index': 8, 'eval_input_filename': 'y_pred_L1000_MCF7.txt', 'exp_index': 9, 'ispredicting': False, 'cell_line': None, 'gamma': 0.5, 'shuffle': False, 'valid_ratio': 0.01, 'test_ratio': 0.01, 'y_true_output_filename': 'y_true.txt', 'y_pred_output_filename': 'y_pred.txt', 'early_stopping': True, 'early_stopping_epoch': 3, 'early_stopping_tol': 0.0001}\n",
      "Namespace(b1=0.9, b2=0.999, batch_size=1, cell_line=None, checkpoint_interval=10, decay_epoch=100, early_stopping=False, early_stopping_epoch=3, early_stopping_tol=0.1, epoch_resume=0, eval_exp_index=8, eval_input_dataset_name='../data/LINCS_CFDE/L1000_GSE92742_prediction_results_step1/L1000_GSE92742_80.f', eval_input_filename='y_pred_L1000_MCF7.txt', eval_output_dataset_name='GTEx', evaluation=False, exp_index=9, gamma=0.5, hidden_dim=[2048, 4096, 8192], input_dataset_name='L1000', input_dim=962, ispredicting=True, lr=0.0002, n_cpu=8, n_epochs=200, num_samples=50000, output_dataset_name='L1000', output_dim=25312, output_gene_list='../data/ARCHS4/high_count_gene_list.txt', prediction_folder='../data/LINCS_CFDE/L1000_GSE92742_prediction_results_step2/', sample_interval=100, shuffle=False, test_ratio=0.1, valid_ratio=0.1, y_pred_output_filename='L1000_GSE92742_80.f', y_true_output_filename=None)\n",
      "Cuda available True\n",
      "../data/LINCS_CFDE/L1000_GSE92742_prediction_results_step1/L1000_GSE92742_80.f\n",
      "Traceback (most recent call last):\n",
      "  File \"functions/extrapolation_transcript.py\", line 539, in <module>\n",
      "    main()\n",
      "  File \"functions/extrapolation_transcript.py\", line 321, in main\n",
      "    input = pd.read_feather(data_fileA)\n",
      "  File \"/home/maayanlab/anaconda3/envs/python37/lib/python3.7/site-packages/pandas/io/feather_format.py\", line 128, in read_feather\n",
      "    handles.handle, columns=columns, use_threads=bool(use_threads)\n",
      "  File \"/home/maayanlab/anaconda3/envs/python37/lib/python3.7/site-packages/pyarrow/feather.py\", line 215, in read_feather\n",
      "    return (read_table(source, columns=columns, memory_map=memory_map)\n",
      "  File \"/home/maayanlab/anaconda3/envs/python37/lib/python3.7/site-packages/pyarrow/feather.py\", line 237, in read_table\n",
      "    reader.open(source, use_memory_map=memory_map)\n",
      "  File \"pyarrow/feather.pxi\", line 67, in pyarrow.lib.FeatherReader.open\n",
      "  File \"pyarrow/error.pxi\", line 122, in pyarrow.lib.pyarrow_internal_check_status\n",
      "  File \"pyarrow/error.pxi\", line 84, in pyarrow.lib.check_status\n",
      "pyarrow.lib.ArrowInvalid: Not a Feather V1 or Arrow IPC file\n",
      "26.10629677772522 sec\n"
     ]
    }
   ],
   "source": [
    "for filename in filenames:\n",
    "    strt_time = time.time()\n",
    "    preprocessing_filename = filename.replace(\".gctx\", \".f\")\n",
    "    prediction_filename_step1 = filename.replace(\".gctx\", \".txt\")\n",
    "    prediction_filename_step2 = filename.replace(\".gctx\", \".f\")\n",
    "    \n",
    "    # preprocessing\n",
    "    !python functions/preprocessing_input_data.py --input_filename $folder$filename --output_filename $preprocessing_folder$preprocessing_filename\n",
    "\n",
    "    # # step1\n",
    "    !python functions/cyclegan_transcript.py --ispredicting --exp_index $step1_exp_index --load_model_index $step1_model_index --eval_dataset_nameA $preprocessing_folder$preprocessing_filename --y_pred_output_filename $prediction_filename_step1 --prediction_folder $output_folder_step1\n",
    "\n",
    "    # # step2\n",
    "    !python functions/extrapolation_transcript.py --ispredicting --exp_index $step2_exp_index --eval_input_dataset_name $output_folder_step1$prediction_filename_step1 --y_pred_output_filename $prediction_filename_step2 --prediction_folder $output_folder_step2\n",
    "\n",
    "    print(time.time()-strt_time, \"sec\")\n",
    "    # break"
   ]
  },
  {
   "cell_type": "code",
   "execution_count": null,
   "metadata": {},
   "outputs": [],
   "source": []
  }
 ]
}