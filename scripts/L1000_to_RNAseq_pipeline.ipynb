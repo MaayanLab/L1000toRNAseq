{
 "metadata": {
  "language_info": {
   "codemirror_mode": {
    "name": "ipython",
    "version": 3
   },
   "file_extension": ".py",
   "mimetype": "text/x-python",
   "name": "python",
   "nbconvert_exporter": "python",
   "pygments_lexer": "ipython3",
   "version": "3.7.9-final"
  },
  "orig_nbformat": 2,
  "kernelspec": {
   "name": "python3",
   "display_name": "Python 3.7.9 64-bit ('python37': conda)",
   "metadata": {
    "interpreter": {
     "hash": "385bb8b00568b82143462c5773842a3f7e8f0255e7b9eecbe3525094c674661a"
    }
   }
  }
 },
 "nbformat": 4,
 "nbformat_minor": 2,
 "cells": [
  {
   "source": [
    "# L1000 to RNA-seq conversion pipeline - Predict only"
   ],
   "cell_type": "markdown",
   "metadata": {}
  },
  {
   "source": [
    "This is an L1000 to RNA-seq conversion pipeline. The pipeline takes 978-dimensional Level3 L1000 profiles as input and returns 25,312-dimensional RNA-seq like profiles. A cycleGAN model in step 1 converts gene expression values in L1000 to those in RNA-seq only for landmark genes. Then, step 2 takes the output profiles of step 1 and extrapolates the profiles to the 25,312 full genome profiles.\n",
    "\n"
   ],
   "cell_type": "markdown",
   "metadata": {}
  },
  {
   "cell_type": "code",
   "execution_count": null,
   "metadata": {},
   "outputs": [],
   "source": [
    "import os\n",
    "import time"
   ]
  },
  {
   "cell_type": "code",
   "execution_count": null,
   "metadata": {},
   "outputs": [],
   "source": [
    "# saved model parameters\n",
    "step1_exp_index = 19\n",
    "step1_model_index = 99\n",
    "step2_exp_index = 15\n",
    "\n"
   ]
  },
  {
   "cell_type": "code",
   "execution_count": null,
   "metadata": {},
   "outputs": [],
   "source": [
    "folder = \"../data/LINCS_CFDE/L1000_GSE92742_batch_divided/\"\n",
    "preprocessing_folder = \"../data/LINCS_CFDE/L1000_GSE92742_feather_batch_divided/\"\n",
    "output_folder_step1 = \"../data/LINCS_CFDE/L1000_GSE92742_prediction_results_step1_batch_divided/\"\n",
    "output_folder_step2 = \"../data/LINCS_CFDE/L1000_GSE92742_prediction_results_step2_batch_divided/\"\n",
    "filenames = os.listdir(folder)"
   ]
  },
  {
   "cell_type": "code",
   "execution_count": null,
   "metadata": {},
   "outputs": [],
   "source": [
    "for filename in sorted(filenames):\n",
    "    \n",
    "    strt_time = time.time()\n",
    "    preprocessing_filename = filename.replace(\".gctx\", \".f\")\n",
    "    prediction_filename_step1 = filename.replace(\".gctx\", \".txt\")\n",
    "    prediction_filename_step2 = filename.replace(\".gctx\", \".f\")\n",
    "    \n",
    "    # preprocessing\n",
    "    !python functions/preprocessing_input_data.py --input_filename $folder$filename --output_filename $preprocessing_folder$preprocessing_filename\n",
    "\n",
    "    # # step1\n",
    "    !python functions/cyclegan_transcript.py --ispredicting --exp_index $step1_exp_index --load_model_index $step1_model_index --eval_dataset_nameA $preprocessing_folder$preprocessing_filename --y_pred_output_filename $prediction_filename_step1 --prediction_folder $output_folder_step1\n",
    "\n",
    "    # # step2\n",
    "    !python functions/extrapolation_transcript.py --ispredicting --exp_index $step2_exp_index --eval_input_dataset_name $output_folder_step1$prediction_filename_step1 --y_pred_output_filename $prediction_filename_step2 --prediction_folder $output_folder_step2\n",
    "\n",
    "    print(time.time()-strt_time, \"sec\")\n",
    "    # break"
   ]
  },
  {
   "cell_type": "code",
   "execution_count": null,
   "metadata": {},
   "outputs": [],
   "source": [
    "for filename in sorted(filenames):\n",
    "    strt_time = time.time()\n",
    "    preprocessing_filename = filename.replace(\".gctx\", \".f\")\n",
    "    prediction_filename_step1 = filename.replace(\".gctx\", \".txt\")\n",
    "    prediction_filename_step2 = filename.replace(\".gctx\", \".f\")\n",
    "    \n",
    "    # preprocessing\n",
    "    !python functions/preprocessing_input_data.py --input_filename $folder$filename --output_filename $preprocessing_folder$preprocessing_filename\n",
    "\n",
    "    # # step1\n",
    "    !python functions/cyclegan_transcript.py --ispredicting --exp_index $step1_exp_index --load_model_index $step1_model_index --eval_dataset_nameA $preprocessing_folder$preprocessing_filename --y_pred_output_filename $prediction_filename_step2 --prediction_folder $output_folder_step2\n",
    "\n",
    "    print(time.time()-strt_time, \"sec\")\n",
    "    break"
   ]
  },
  {
   "cell_type": "code",
   "execution_count": null,
   "metadata": {},
   "outputs": [],
   "source": []
  }
 ]
}