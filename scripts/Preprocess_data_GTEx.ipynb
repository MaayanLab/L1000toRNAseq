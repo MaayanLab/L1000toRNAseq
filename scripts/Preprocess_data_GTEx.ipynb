{
 "cells": [
  {
   "cell_type": "markdown",
   "metadata": {},
   "source": [
    "# Script for Processing GTEx Data"
   ]
  },
  {
   "cell_type": "code",
   "execution_count": null,
   "metadata": {},
   "outputs": [],
   "source": [
    "%load_ext autoreload\n",
    "%autoreload 2\n",
    "\n",
    "import os\n",
    "import pandas as pd\n",
    "import numpy as np\n",
    "import numpy_indexed as npi\n",
    "import random\n",
    "\n",
    "import sys, h5py, time\n",
    "import cmapPy.pandasGEXpress.parse_gctx as parse_gctx\n",
    "import cmapPy.pandasGEXpress.parse_gct as parse_gct\n",
    "\n",
    "from scipy import stats\n",
    "from numpy.random import seed\n",
    "\n",
    "import scipy.stats as ss\n",
    "import warnings\n",
    "import numpy as np\n",
    "from maayanlab_bioinformatics.normalization import quantile_normalize\n",
    "import pickle\n",
    "\n",
    "randomState = 123\n",
    "seed(randomState)\n",
    "random.seed(randomState)"
   ]
  },
  {
   "cell_type": "markdown",
   "metadata": {},
   "source": [
    "Input filenames"
   ]
  },
  {
   "cell_type": "code",
   "execution_count": null,
   "metadata": {},
   "outputs": [],
   "source": [
    "gtex_rnaseq_filename = \"../data/GTEx/GTEx_Analysis_2017-06-05_v8_RNASeQCv1.1.9_gene_reads.gct\"\n",
    "gtex_l1000_filename = \"../data/GTEx/DS_GTEX_L1000_n3176x12320.gctx\"\n",
    "gtex_geneinfo_filename = \"../data/GTEx/GSE92743_Broad_GTEx_gene_info.txt\"\n",
    "\n",
    "overlap_landmark_gene_list = \"../data/processed/overlap_landmark_gene_file.txt\"\n",
    "overlap_rnaseq_gene_list = \"../data/processed/overlap_rnaseq_gene_file.txt\"\n",
    "archs4_high_count_gene_list = \"../data/ARCHS4/high_count_gene_list.txt\" \n"
   ]
  },
  {
   "cell_type": "markdown",
   "metadata": {},
   "source": [
    "Output filenames"
   ]
  },
  {
   "cell_type": "code",
   "execution_count": null,
   "metadata": {},
   "outputs": [],
   "source": [
    "gtex_filtered_l1000_output_filename = \"../data/processed/GTEx/GSE92743_Broad_GTEx_L1000_Level3_Q2NORM_filtered_n{}x{}.f\" # samplesx962\n",
    "gtex_filtered_rnaseq_output_filename = \"../data/processed/GTEx/GSE92743_Broad_GTEx_RNAseq_Log2RPKM_q2norm_filtered_n{}x{}.f\" # samplesx962 or samplesx23614\n",
    "normalized_gtex_filtered_rnaseq_output_filename = \"../data/processed/GTEx/GSE92743_Broad_GTEx_RNAseq_Log2RPKM_q2norm_filtered_n{}x{}_v2.f\" # samplesx962 or samplesx23614\n"
   ]
  },
  {
   "cell_type": "markdown",
   "metadata": {},
   "source": [
    "## Load landmark/RNA-seq genes"
   ]
  },
  {
   "cell_type": "code",
   "execution_count": null,
   "metadata": {},
   "outputs": [],
   "source": [
    "with open(overlap_landmark_gene_list, \"r\") as f:\n",
    "    overlap_landmark_genes = [x.strip() for x in f.readlines()]\n",
    "with open(overlap_rnaseq_gene_list, \"r\") as f:\n",
    "    overlap_rnaseq_genes = [x.strip() for x in f.readlines()]    \n",
    "with open(archs4_high_count_gene_list, \"r\") as f:\n",
    "    archs4_high_count_gene = [x.strip() for x in f.readlines()]\n",
    "\n"
   ]
  },
  {
   "cell_type": "markdown",
   "metadata": {},
   "source": [
    "## Load GTEx "
   ]
  },
  {
   "cell_type": "markdown",
   "metadata": {},
   "source": [
    "GTEx L1000 from GSE92742 \n",
    "GTEx RNA-seq from https://www.gtexportal.org/home/datasets version 8 Gene read count"
   ]
  },
  {
   "cell_type": "code",
   "execution_count": null,
   "metadata": {},
   "outputs": [],
   "source": [
    "gtex_gene_info = pd.read_csv(gtex_geneinfo_filename,header = 0, sep = '\\t')\n",
    "gtex_landmark_genes = gtex_gene_info.loc[gtex_gene_info[\"pr_is_lm\"]==1, \"pr_gene_symbol\"].tolist()"
   ]
  },
  {
   "cell_type": "markdown",
   "metadata": {},
   "source": [
    "### Load GTEx L1000 data"
   ]
  },
  {
   "cell_type": "code",
   "execution_count": null,
   "metadata": {},
   "outputs": [],
   "source": [
    "# GTEx L1000 data\n",
    "print('Loading GTEx L1000 data.....')\n",
    "gtex_l1000_data = parse_gctx.parse(gtex_l1000_filename,convert_neg_666=True).data_df\n",
    "\n",
    "# create a probe_id to gene name dictionary \n",
    "gtex_gene_dict = dict(zip([str(x) for x in gtex_gene_info['pr_gene_id']], gtex_gene_info['pr_gene_symbol']))\n",
    "\n",
    "# label rows with gene names \n",
    "gtex_l1000_data.index = [gtex_gene_dict[x] for x in gtex_l1000_data.index.values]\n",
    "gtex_l1000_data = gtex_l1000_data.T"
   ]
  },
  {
   "cell_type": "markdown",
   "metadata": {},
   "source": [
    "### Load GTEx RNA-seq data"
   ]
  },
  {
   "cell_type": "code",
   "execution_count": null,
   "metadata": {},
   "outputs": [],
   "source": [
    "# GTEx RNA-seq data\n",
    "print('Loading GTEx RNA-seq data.....')\n",
    "\n",
    "with open(gtex_rnaseq_filename, \"r\") as f:\n",
    "    lines = f.readlines()\n",
    "\n",
    "    sample_line = lines[2]\n",
    "    gtex_rnaseq_samples = sample_line.split(\"\\t\")\n",
    "    paired_sample_index = [i for i, x in enumerate(gtex_rnaseq_samples) if x in gtex_l1000_data.index]\n",
    "    paired_sample_id = [x for i, x in enumerate(gtex_rnaseq_samples) if x in gtex_l1000_data.index] # GTEx samples L1000 ^ RNA-seq\n",
    "\n",
    "    gex_of_paired_sample = list()\n",
    "    gene_names = list()\n",
    "    for line in lines[3:]:\n",
    "        splited = np.array(line.split(\"\\t\"))\n",
    "        gene_name = splited[1]\n",
    "\n",
    "        if gene_name in archs4_high_count_gene:\n",
    "            gene_names.append(gene_name)\n",
    "            gex_of_paired_sample.append(map(int, splited[paired_sample_index]))\n",
    "\n",
    "    gtex_rnaseq_data = pd.DataFrame(gex_of_paired_sample, columns=paired_sample_id, index=gene_names).T\n",
    "#     gtex_rnaseq_data.reset_index().to_feather(gtex_filtered_rnaseq_output_filename.format(gtex_rnaseq_data.shape[0], gtex_rnaseq_data.shape[1]))"
   ]
  },
  {
   "cell_type": "code",
   "execution_count": null,
   "metadata": {},
   "outputs": [],
   "source": [
    "gtex_rnaseq_data = gtex_rnaseq_data.T.reset_index().groupby('index').sum().T"
   ]
  },
  {
   "cell_type": "code",
   "execution_count": null,
   "metadata": {},
   "outputs": [],
   "source": [
    "gtex_l1000_data = gtex_l1000_data.loc[paired_sample_id, :]"
   ]
  },
  {
   "cell_type": "markdown",
   "metadata": {},
   "source": [
    "## Normalization"
   ]
  },
  {
   "cell_type": "code",
   "execution_count": null,
   "metadata": {},
   "outputs": [],
   "source": [
    "def CPM(data):\n",
    "\n",
    "    with warnings.catch_warnings():\n",
    "        warnings.simplefilter(\"ignore\")\n",
    "        data = (data/data.sum())*10**6\n",
    "        data = data.fillna(0)\n",
    "        \n",
    "    return data\n",
    "def logCPM(data):\n",
    "\n",
    "    with warnings.catch_warnings():\n",
    "        warnings.simplefilter(\"ignore\")\n",
    "        data = (data/data.sum())*10**6\n",
    "        data = data.fillna(0)\n",
    "        data = np.log10(data+1)\n",
    "\n",
    "    # Return\n",
    "    return data\n",
    "def log(data):\n",
    "\n",
    "    with warnings.catch_warnings():\n",
    "        warnings.simplefilter(\"ignore\")\n",
    "        data = data.fillna(0)\n",
    "        data = np.log10(data+1)\n",
    "\n",
    "    return data\n",
    "\n",
    "def rpkm(counts, lengths):\n",
    "    \"\"\"Calculate reads per kilobase transcript per million reads.\n",
    "\n",
    "    RPKM = (10^9 * C) / (N * L)\n",
    "\n",
    "    Where:\n",
    "    C = Number of reads mapped to a gene\n",
    "    N = Total mapped reads in the experiment\n",
    "    L = Exon length in base pairs for a gene\n",
    "\n",
    "    Parameters\n",
    "    ----------\n",
    "    counts: array, shape (N_genes, N_samples)\n",
    "        RNAseq (or similar) count data where columns are individual samples\n",
    "        and rows are genes.\n",
    "    lengths: array, shape (N_genes,)\n",
    "        Gene lengths in base pairs in the same order\n",
    "        as the rows in counts.\n",
    "\n",
    "    Returns\n",
    "    -------\n",
    "    normed : array, shape (N_genes, N_samples)\n",
    "        The RPKM normalized counts matrix.\n",
    "    \"\"\"\n",
    "    N = np.sum(counts, axis=0)  # sum each column to get total reads per sample\n",
    "    L = lengths\n",
    "    C = counts\n",
    "\n",
    "    normed = 1e9 * C / (N[np.newaxis, :] * L[:, np.newaxis])\n",
    "\n",
    "    return(normed)\n",
    "    \n",
    "def qnormalization(data):\n",
    "\n",
    "    X_quantile_norm = quantile_normalize(data)\n",
    "    return X_quantile_norm  \n",
    "\n",
    "def normalization(data, logCPM_normalization=False, CPM_normalization=False, log_normalization=False, z_normalization=False, q_normalization=False):\n",
    "    if logCPM_normalization == True:  \n",
    "        data = logCPM(data)\n",
    "    if CPM_normalization == True:\n",
    "        data = CPM(data)\n",
    "    if log_normalization == True:   \n",
    "        data = log(data)\n",
    "        \n",
    "    if q_normalization == True:\n",
    "        data = qnormalization(data)\n",
    "        \n",
    "    \n",
    "    if z_normalization == True: \n",
    "        data = data.T.apply(ss.zscore, axis=0).T.dropna()\n",
    "\n",
    "    return data"
   ]
  },
  {
   "cell_type": "code",
   "execution_count": null,
   "metadata": {},
   "outputs": [],
   "source": [
    "normalized_gtex_rnaseq_data = normalization(gtex_rnaseq_data.T, logCPM_normalization=True, q_normalization=True).T"
   ]
  },
  {
   "cell_type": "markdown",
   "metadata": {},
   "source": [
    "## filter landmark genes and save"
   ]
  },
  {
   "cell_type": "code",
   "execution_count": null,
   "metadata": {},
   "outputs": [],
   "source": [
    "normalized_gtex_rnaseq_data = normalized_gtex_rnaseq_data.sort_index(axis=1)"
   ]
  },
  {
   "cell_type": "code",
   "execution_count": null,
   "metadata": {},
   "outputs": [],
   "source": [
    "normalized_gtex_rnaseq_data_landmark = normalized_gtex_rnaseq_data.loc[:, overlap_landmark_genes]\n",
    "normalized_gtex_rnaseq_data_landmark.reset_index().to_feather(normalized_gtex_filtered_rnaseq_output_filename.format(normalized_gtex_rnaseq_data_landmark.shape[0], normalized_gtex_rnaseq_data_landmark.shape[1]))\n",
    "print(normalized_gtex_filtered_rnaseq_output_filename.format(normalized_gtex_rnaseq_data_landmark.shape[0], normalized_gtex_rnaseq_data_landmark.shape[1]))"
   ]
  },
  {
   "cell_type": "code",
   "execution_count": null,
   "metadata": {},
   "outputs": [],
   "source": [
    "normalized_gtex_rnaseq_data.reset_index().to_feather(normalized_gtex_filtered_rnaseq_output_filename.format(normalized_gtex_rnaseq_data.shape[0], normalized_gtex_rnaseq_data.shape[1]))\n",
    "print(normalized_gtex_filtered_rnaseq_output_filename.format(normalized_gtex_rnaseq_data.shape[0], normalized_gtex_rnaseq_data.shape[1]))"
   ]
  },
  {
   "cell_type": "code",
   "execution_count": null,
   "metadata": {},
   "outputs": [],
   "source": [
    "# filter landmark genes and save\n",
    "filtered_gtex_l1000_data = gtex_l1000_data.loc[:, overlap_landmark_genes]\n",
    "filtered_gtex_l1000_data = filtered_gtex_l1000_data.sort_index(axis=1)\n",
    "filtered_gtex_l1000_data.reset_index().to_feather(gtex_filtered_l1000_output_filename.format(filtered_gtex_l1000_data.shape[0], filtered_gtex_l1000_data.shape[1]))\n",
    "print(gtex_filtered_l1000_output_filename.format(filtered_gtex_l1000_data.shape[0], filtered_gtex_l1000_data.shape[1]))"
   ]
  },
  {
   "cell_type": "code",
   "execution_count": null,
   "metadata": {},
   "outputs": [],
   "source": [
    "normalized_gtex_rnaseq_data.head()"
   ]
  },
  {
   "cell_type": "code",
   "execution_count": null,
   "metadata": {},
   "outputs": [],
   "source": [
    "filtered_gtex_l1000_data.head()"
   ]
  },
  {
   "cell_type": "code",
   "execution_count": null,
   "metadata": {},
   "outputs": [],
   "source": []
  }
 ],
 "metadata": {
  "kernelspec": {
   "display_name": "python37",
   "language": "python",
   "name": "python37"
  },
  "language_info": {
   "codemirror_mode": {
    "name": "ipython",
    "version": 3
   },
   "file_extension": ".py",
   "mimetype": "text/x-python",
   "name": "python",
   "nbconvert_exporter": "python",
   "pygments_lexer": "ipython3",
   "version": "3.7.9-final"
  }
 },
 "nbformat": 4,
 "nbformat_minor": 4
}