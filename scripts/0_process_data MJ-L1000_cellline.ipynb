{
 "cells": [
  {
   "cell_type": "markdown",
   "metadata": {},
   "source": [
    "# Script for Processing Data"
   ]
  },
  {
   "cell_type": "code",
   "execution_count": 3,
   "metadata": {
    "ExecuteTime": {
     "end_time": "2019-05-29T18:46:24.930751Z",
     "start_time": "2019-05-29T18:46:23.134697Z"
    },
    "scrolled": true
   },
   "outputs": [
    {
     "name": "stdout",
     "output_type": "stream",
     "text": [
      "WARNING:tensorflow:From /home/maayanlab/anaconda3/envs/python37/lib/python3.7/site-packages/tensorflow_gan/python/estimator/tpu_gan_estimator.py:42: The name tf.estimator.tpu.TPUEstimator is deprecated. Please use tf.compat.v1.estimator.tpu.TPUEstimator instead.\n",
      "\n"
     ]
    }
   ],
   "source": [
    "%load_ext autoreload\n",
    "%autoreload 2\n",
    "\n",
    "import os\n",
    "import pandas as pd\n",
    "import numpy as np\n",
    "import random\n",
    "import glob\n",
    "import umap\n",
    "import seaborn as sns\n",
    "import matplotlib.pyplot as plt\n",
    "import pickle\n",
    "# from ggplot import *\n",
    "\n",
    "\n",
    "from ruffus import *\n",
    "import sys, os, h5py, random, tempfile, scipy, time,copy\n",
    "import cmapPy.pandasGEXpress.parse_gctx as parse_gctx\n",
    "import cmapPy.pandasGEXpress.parse_gct as parse_gct\n",
    "import pipeline_support as PS\n",
    "from sklearn.decomposition import PCA\n",
    "from scipy import stats\n",
    "from matplotlib.pyplot import imshow\n",
    "from sklearn.preprocessing import MinMaxScaler\n",
    "\n",
    "from collections import Counter\n",
    "#from tensorflow_examples.models.pix2pix import pix2pix\n",
    "import tensorflow as tf\n",
    "from tensorflow import keras\n",
    "from IPython.display import clear_output\n",
    "from tensorflow_gan.python.losses import losses_impl\n",
    "\n",
    "\n",
    "from numpy.random import seed\n",
    "randomState = 123\n",
    "seed(randomState)"
   ]
  },
  {
   "cell_type": "markdown",
   "metadata": {},
   "source": [
    "Parameters"
   ]
  },
  {
   "cell_type": "code",
   "execution_count": 4,
   "metadata": {},
   "outputs": [],
   "source": [
    "n_sampling = 50000"
   ]
  },
  {
   "cell_type": "markdown",
   "metadata": {},
   "source": [
    "Input Filenames"
   ]
  },
  {
   "cell_type": "code",
   "execution_count": 5,
   "metadata": {},
   "outputs": [],
   "source": [
    "l1000_filename = \"../data/L1000/GSE92742_Broad_LINCS_Level3_INF_mlr12k_n1319138x12328.gctx\"\n",
    "l1000_geneinfo_filename = \"../data/L1000/GSE92742_Broad_LINCS_gene_info.txt\"\n",
    "l1000_sampleinfo_filename = \"../data/L1000/GSE92742_Broad_LINCS_inst_info.txt\"\n",
    "\n",
    "l1000_all_gene_list = \"../data/L1000/all_gene_list.txt\"\n",
    "l1000_landmark_gene_list = \"../data/L1000/landmark_gene_list.txt\"\n",
    "\n",
    "archs4_all_gene_list = \"../data/ARCHS4/all_gene_list.txt\"\n",
    "\n",
    "gtex_l1000_all_gene_list = \"../data/GTEx/l1000_all_gene_list.txt\"\n",
    "gtex_l1000_landmark_gene_list = \"../data/GTEx/l1000_landmark_gene_list.txt\"\n",
    "\n",
    "gtex_rnaseq_all_gene_list = \"../data/GTEx/rnaseq_all_gene_list.txt\""
   ]
  },
  {
   "cell_type": "markdown",
   "metadata": {},
   "source": [
    "Output Filenames"
   ]
  },
  {
   "cell_type": "code",
   "execution_count": 6,
   "metadata": {},
   "outputs": [],
   "source": [
    "l1000_output_filename = \"../data/processed/L1000/L1000_filtered_GSE92742_Broad_LINCS_Level3_INF_mlr12k_n{}x{}.pkl\" # only landmark genes\n",
    "l1000_overlap_landmark_output_filename = \"../data/processed/L1000/L1000_filtered_GSE92742_Broad_LINCS_Level3_INF_mlr12k_n{}x{}_cellline_{}.f\" # n_samplingx967\n"
   ]
  },
  {
   "cell_type": "markdown",
   "metadata": {},
   "source": [
    "## Get overlap_landmark_file"
   ]
  },
  {
   "cell_type": "code",
   "execution_count": 7,
   "metadata": {},
   "outputs": [],
   "source": [
    "with open(l1000_landmark_gene_list, \"r\") as f:\n",
    "    l1000_landmark_gene = [x.strip() for x in f.readlines()]\n",
    "with open(archs4_all_gene_list, \"r\") as f:\n",
    "    archs4_all_gene = [x.strip() for x in f.readlines()]\n",
    "with open(gtex_l1000_landmark_gene_list, \"r\") as f:\n",
    "    gtex_l1000_landmark_gene = [x.strip() for x in f.readlines()]\n",
    "with open(gtex_rnaseq_all_gene_list, \"r\") as f:\n",
    "    gtex_rnaseq_all_gene = [x.strip() for x in f.readlines()]\n",
    "    \n",
    "\n"
   ]
  },
  {
   "cell_type": "code",
   "execution_count": 8,
   "metadata": {},
   "outputs": [],
   "source": [
    "overlap_landmark_genes = list(set(l1000_landmark_gene).intersection(archs4_all_gene).intersection(gtex_l1000_landmark_gene).intersection(gtex_rnaseq_all_gene))"
   ]
  },
  {
   "cell_type": "markdown",
   "metadata": {},
   "source": [
    "## Load L1000 (GSE92742/Level 3) ~4 min"
   ]
  },
  {
   "cell_type": "markdown",
   "metadata": {},
   "source": [
    "https://www.ncbi.nlm.nih.gov/geo/query/acc.cgi?acc=GSE92742 downloaded @ ../data"
   ]
  },
  {
   "cell_type": "code",
   "execution_count": 11,
   "metadata": {
    "scrolled": false
   },
   "outputs": [
    {
     "name": "stdout",
     "output_type": "stream",
     "text": [
      "Loading L1000 data.....\n"
     ]
    }
   ],
   "source": [
    "print('Loading L1000 data.....')\n",
    "l1000_data = parse_gctx.parse(l1000_filename,convert_neg_666=True).data_df"
   ]
  },
  {
   "cell_type": "code",
   "execution_count": 12,
   "metadata": {},
   "outputs": [],
   "source": [
    "gene_info = pd.read_csv(l1000_geneinfo_filename,header = 0, sep = '\\t')"
   ]
  },
  {
   "cell_type": "code",
   "execution_count": 13,
   "metadata": {},
   "outputs": [],
   "source": [
    "# create a probe_id to gene name dictionary \n",
    "gene_dict = dict(zip([str(x) for x in gene_info['pr_gene_id']], gene_info['pr_gene_symbol']))\n",
    "\n",
    "# label rows with gene names \n",
    "l1000_data.index = [gene_dict[x] for x in l1000_data.index.values]\n"
   ]
  },
  {
   "cell_type": "code",
   "execution_count": 14,
   "metadata": {},
   "outputs": [],
   "source": [
    "# filter landmark genes\n",
    "filtered_l1000_data = l1000_data[l1000_data.index.isin(overlap_landmark_genes)]"
   ]
  },
  {
   "cell_type": "code",
   "execution_count": 15,
   "metadata": {},
   "outputs": [
    {
     "ename": "TypeError",
     "evalue": "dump() missing required argument 'file' (pos 2)",
     "output_type": "error",
     "traceback": [
      "\u001b[0;31m---------------------------------------------------------------------------\u001b[0m",
      "\u001b[0;31mTypeError\u001b[0m                                 Traceback (most recent call last)",
      "\u001b[0;32m<ipython-input-15-2f08b5e0d44e>\u001b[0m in \u001b[0;36m<module>\u001b[0;34m\u001b[0m\n\u001b[1;32m      1\u001b[0m \u001b[0;31m# save filtered_l1000 data (only landmark genes)\u001b[0m\u001b[0;34m\u001b[0m\u001b[0;34m\u001b[0m\u001b[0;34m\u001b[0m\u001b[0m\n\u001b[1;32m      2\u001b[0m \u001b[0;32mwith\u001b[0m \u001b[0mopen\u001b[0m\u001b[0;34m(\u001b[0m\u001b[0ml1000_output_filename\u001b[0m\u001b[0;34m.\u001b[0m\u001b[0mformat\u001b[0m\u001b[0;34m(\u001b[0m\u001b[0mfiltered_l1000_data\u001b[0m\u001b[0;34m.\u001b[0m\u001b[0mshape\u001b[0m\u001b[0;34m[\u001b[0m\u001b[0;36m0\u001b[0m\u001b[0;34m]\u001b[0m\u001b[0;34m,\u001b[0m \u001b[0mfiltered_l1000_data\u001b[0m\u001b[0;34m.\u001b[0m\u001b[0mshape\u001b[0m\u001b[0;34m[\u001b[0m\u001b[0;36m1\u001b[0m\u001b[0;34m]\u001b[0m\u001b[0;34m)\u001b[0m\u001b[0;34m,\u001b[0m \u001b[0;34m\"wb\"\u001b[0m\u001b[0;34m)\u001b[0m \u001b[0;32mas\u001b[0m \u001b[0mf\u001b[0m\u001b[0;34m:\u001b[0m\u001b[0;34m\u001b[0m\u001b[0;34m\u001b[0m\u001b[0m\n\u001b[0;32m----> 3\u001b[0;31m     \u001b[0mpickle\u001b[0m\u001b[0;34m.\u001b[0m\u001b[0mdump\u001b[0m\u001b[0;34m(\u001b[0m\u001b[0mfiltered_l1000_data\u001b[0m\u001b[0;34m)\u001b[0m\u001b[0;34m\u001b[0m\u001b[0;34m\u001b[0m\u001b[0m\n\u001b[0m\u001b[1;32m      4\u001b[0m \u001b[0;31m# filtered_l1000_data.to_csv(l1000_output_filename)\u001b[0m\u001b[0;34m\u001b[0m\u001b[0;34m\u001b[0m\u001b[0;34m\u001b[0m\u001b[0m\n",
      "\u001b[0;31mTypeError\u001b[0m: dump() missing required argument 'file' (pos 2)"
     ]
    }
   ],
   "source": [
    "# save filtered_l1000 data (only landmark genes)\n",
    "with open(l1000_output_filename.format(filtered_l1000_data.shape[0], filtered_l1000_data.shape[1]), \"wb\") as f:\n",
    "    pickle.dump(filtered_l1000_data, l1000_output_filename)\n",
    "# filtered_l1000_data.to_csv(l1000_output_filename)"
   ]
  },
  {
   "cell_type": "markdown",
   "metadata": {},
   "source": [
    "Remove variables"
   ]
  },
  {
   "cell_type": "code",
   "execution_count": 19,
   "metadata": {},
   "outputs": [
    {
     "ename": "NameError",
     "evalue": "name 'l1000_data' is not defined",
     "output_type": "error",
     "traceback": [
      "\u001b[0;31m---------------------------------------------------------------------------\u001b[0m",
      "\u001b[0;31mNameError\u001b[0m                                 Traceback (most recent call last)",
      "\u001b[0;32m<ipython-input-19-b983b933ccab>\u001b[0m in \u001b[0;36m<module>\u001b[0;34m\u001b[0m\n\u001b[0;32m----> 1\u001b[0;31m \u001b[0;32mdel\u001b[0m \u001b[0ml1000_data\u001b[0m\u001b[0;34m\u001b[0m\u001b[0;34m\u001b[0m\u001b[0m\n\u001b[0m",
      "\u001b[0;31mNameError\u001b[0m: name 'l1000_data' is not defined"
     ]
    }
   ],
   "source": [
    "del l1000_data"
   ]
  },
  {
   "cell_type": "code",
   "execution_count": 11,
   "metadata": {},
   "outputs": [],
   "source": [
    "sample_info = pd.read_csv(l1000_sampleinfo_filename, sep=\"\\t\")"
   ]
  },
  {
   "cell_type": "code",
   "execution_count": 12,
   "metadata": {},
   "outputs": [],
   "source": [
    "cell_lines = sample_info[\"cell_id\"].unique()"
   ]
  },
  {
   "cell_type": "code",
   "execution_count": 13,
   "metadata": {},
   "outputs": [
    {
     "data": {
      "text/plain": [
       "array(['MCF7', 'PC3', 'HA1E', 'HCC515', 'VCAP', 'A375', 'HEPG2', 'HT29',\n",
       "       'A549', 'A673', 'AGS', 'CL34', 'CORL23', 'COV644', 'DV90', 'EFO27',\n",
       "       'HCC15', 'HCT116', 'HEC108', 'HT115', 'JHUEM2', 'LOVO', 'MDST8',\n",
       "       'NCIH1694', 'NCIH1836', 'NCIH2073', 'NCIH508', 'NCIH596', 'NOMO1',\n",
       "       'OV7', 'PL21', 'RMGI', 'RMUGS', 'SKLU1', 'SKM1', 'SKMEL1',\n",
       "       'SKMEL28', 'SNGM', 'SNU1040', 'SNUC4', 'SNUC5', 'SW480', 'SW620',\n",
       "       'SW948', 'T3M10', 'THP1', 'TYKNU', 'U937', 'WSUDLCL2', 'ASC',\n",
       "       'NEU', 'NPC', 'PHH', 'SKB', 'HUH7', 'SHSY5Y', 'HEK293T', 'SKL',\n",
       "       'HS27A', 'BT20', 'HS578T', 'MCF10A', 'MDAMB231', 'SKBR3', 'NKDBA',\n",
       "       'FIBRNPC', 'MCH58', 'NCIH716', 'CD34', 'H1299', 'HL60', 'JURKAT',\n",
       "       'RKO', 'U266', 'HEKTE', 'U2OS'], dtype=object)"
      ]
     },
     "execution_count": 13,
     "metadata": {},
     "output_type": "execute_result"
    }
   ],
   "source": [
    "cell_lines"
   ]
  },
  {
   "cell_type": "code",
   "execution_count": 30,
   "metadata": {},
   "outputs": [
    {
     "name": "stdout",
     "output_type": "stream",
     "text": [
      "MCF7\n",
      "(962, 176765)\n",
      "../data/processed/L1000/L1000_filtered_GSE92742_Broad_LINCS_Level3_INF_mlr12k_n50000x962_cellline_MCF7.f\n",
      "PC3\n",
      "(962, 178476)\n",
      "../data/processed/L1000/L1000_filtered_GSE92742_Broad_LINCS_Level3_INF_mlr12k_n50000x962_cellline_PC3.f\n",
      "HA1E\n",
      "(962, 87902)\n",
      "../data/processed/L1000/L1000_filtered_GSE92742_Broad_LINCS_Level3_INF_mlr12k_n50000x962_cellline_HA1E.f\n",
      "HCC515\n",
      "(962, 74683)\n",
      "../data/processed/L1000/L1000_filtered_GSE92742_Broad_LINCS_Level3_INF_mlr12k_n50000x962_cellline_HCC515.f\n",
      "VCAP\n",
      "(962, 204383)\n",
      "../data/processed/L1000/L1000_filtered_GSE92742_Broad_LINCS_Level3_INF_mlr12k_n50000x962_cellline_VCAP.f\n",
      "A375\n",
      "(962, 114727)\n",
      "../data/processed/L1000/L1000_filtered_GSE92742_Broad_LINCS_Level3_INF_mlr12k_n50000x962_cellline_A375.f\n",
      "HEPG2\n",
      "(962, 66070)\n",
      "../data/processed/L1000/L1000_filtered_GSE92742_Broad_LINCS_Level3_INF_mlr12k_n50000x962_cellline_HEPG2.f\n",
      "HT29\n",
      "(962, 113867)\n",
      "../data/processed/L1000/L1000_filtered_GSE92742_Broad_LINCS_Level3_INF_mlr12k_n50000x962_cellline_HT29.f\n",
      "A549\n",
      "(962, 112419)\n",
      "../data/processed/L1000/L1000_filtered_GSE92742_Broad_LINCS_Level3_INF_mlr12k_n50000x962_cellline_A549.f\n"
     ]
    }
   ],
   "source": [
    "for cell_line in cell_lines:\n",
    "    sample_ids_cell_line = sample_info.loc[sample_info[\"cell_id\"] == cell_line, \"inst_id\"].tolist()\n",
    "\n",
    "    if len(sample_ids_cell_line) > n_sampling:\n",
    "        filtered_l1000_data_cell_line = filtered_l1000_data.loc[:, sample_ids_cell_line]\n",
    "\n",
    "        filtered_l1000_data_cell_line_sampled = filtered_l1000_data_cell_line.sample(axis='columns', n=n_sampling).T\n",
    "        filtered_l1000_data_cell_line_sampled.reset_index().to_feather(l1000_overlap_landmark_output_filename.format(filtered_l1000_data_cell_line_sampled.shape[0], filtered_l1000_data_cell_line_sampled.shape[1], cell_line))\n",
    "\n",
    "        print(l1000_overlap_landmark_output_filename.format(filtered_l1000_data_cell_line_sampled.shape[0], filtered_l1000_data_cell_line_sampled.shape[1], cell_line))\n",
    "\n"
   ]
  },
  {
   "cell_type": "code",
   "execution_count": null,
   "metadata": {},
   "outputs": [],
   "source": []
  }
 ],
 "metadata": {
  "kernelspec": {
   "display_name": "python37",
   "language": "python",
   "name": "python37"
  },
  "language_info": {
   "codemirror_mode": {
    "name": "ipython",
    "version": 3
   },
   "file_extension": ".py",
   "mimetype": "text/x-python",
   "name": "python",
   "nbconvert_exporter": "python",
   "pygments_lexer": "ipython3",
   "version": "3.7.9"
  }
 },
 "nbformat": 4,
 "nbformat_minor": 2
}
